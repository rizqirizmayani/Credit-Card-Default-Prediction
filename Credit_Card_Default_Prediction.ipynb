{
  "cells": [
    {
      "cell_type": "markdown",
      "metadata": {
        "id": "DIEugMNKi8Y6"
      },
      "source": [
        "# MILESTONES 1\n",
        "\n",
        "`Rizqi Rizmayani Putri Batch 002`"
      ]
    },
    {
      "cell_type": "markdown",
      "metadata": {
        "id": "B9nbABa6i8Y-"
      },
      "source": [
        "### IMPORT LIBRARY"
      ]
    },
    {
      "cell_type": "code",
      "execution_count": 1,
      "metadata": {
        "colab": {
          "base_uri": "https://localhost:8080/"
        },
        "id": "-mz_xtKni8Y_",
        "outputId": "4b3865eb-1aa6-445b-b10a-99e19f6639cb"
      },
      "outputs": [
        {
          "output_type": "stream",
          "name": "stdout",
          "text": [
            "Looking in indexes: https://pypi.org/simple, https://us-python.pkg.dev/colab-wheels/public/simple/\n",
            "Collecting feature_engine\n",
            "  Downloading feature_engine-1.4.0-py2.py3-none-any.whl (276 kB)\n",
            "\u001b[K     |████████████████████████████████| 276 kB 9.9 MB/s \n",
            "\u001b[?25hRequirement already satisfied: scikit-learn>=1.0.0 in /usr/local/lib/python3.7/dist-packages (from feature_engine) (1.0.2)\n",
            "Requirement already satisfied: statsmodels>=0.11.1 in /usr/local/lib/python3.7/dist-packages (from feature_engine) (0.12.2)\n",
            "Requirement already satisfied: scipy>=1.4.1 in /usr/local/lib/python3.7/dist-packages (from feature_engine) (1.7.3)\n",
            "Requirement already satisfied: numpy>=1.18.2 in /usr/local/lib/python3.7/dist-packages (from feature_engine) (1.21.6)\n",
            "Requirement already satisfied: pandas>=1.0.3 in /usr/local/lib/python3.7/dist-packages (from feature_engine) (1.3.5)\n",
            "Requirement already satisfied: pytz>=2017.3 in /usr/local/lib/python3.7/dist-packages (from pandas>=1.0.3->feature_engine) (2022.6)\n",
            "Requirement already satisfied: python-dateutil>=2.7.3 in /usr/local/lib/python3.7/dist-packages (from pandas>=1.0.3->feature_engine) (2.8.2)\n",
            "Requirement already satisfied: six>=1.5 in /usr/local/lib/python3.7/dist-packages (from python-dateutil>=2.7.3->pandas>=1.0.3->feature_engine) (1.15.0)\n",
            "Requirement already satisfied: threadpoolctl>=2.0.0 in /usr/local/lib/python3.7/dist-packages (from scikit-learn>=1.0.0->feature_engine) (3.1.0)\n",
            "Requirement already satisfied: joblib>=0.11 in /usr/local/lib/python3.7/dist-packages (from scikit-learn>=1.0.0->feature_engine) (1.2.0)\n",
            "Requirement already satisfied: patsy>=0.5 in /usr/local/lib/python3.7/dist-packages (from statsmodels>=0.11.1->feature_engine) (0.5.3)\n",
            "Installing collected packages: feature-engine\n",
            "Successfully installed feature-engine-1.4.0\n",
            "Looking in indexes: https://pypi.org/simple, https://us-python.pkg.dev/colab-wheels/public/simple/\n",
            "Collecting sklearn\n",
            "  Downloading sklearn-0.0.post1.tar.gz (3.6 kB)\n",
            "Building wheels for collected packages: sklearn\n",
            "  Building wheel for sklearn (setup.py) ... \u001b[?25l\u001b[?25hdone\n",
            "  Created wheel for sklearn: filename=sklearn-0.0.post1-py3-none-any.whl size=2344 sha256=a854d41c7a9da1ab13f0215ed6764cfb419ad807d43450d10d4b869bc506a229\n",
            "  Stored in directory: /root/.cache/pip/wheels/42/56/cc/4a8bf86613aafd5b7f1b310477667c1fca5c51c3ae4124a003\n",
            "Successfully built sklearn\n",
            "Installing collected packages: sklearn\n",
            "Successfully installed sklearn-0.0.post1\n"
          ]
        }
      ],
      "source": [
        "import pandas as pd\n",
        "import numpy as np\n",
        "from scipy import stats\n",
        "import matplotlib.pyplot as plt\n",
        "import seaborn as sns\n",
        "\n",
        "\n",
        "!pip install feature_engine\n",
        "!pip install sklearn\n",
        "from sklearn.model_selection import train_test_split\n",
        "from feature_engine.outliers import Winsorizer\n",
        "from sklearn.preprocessing import StandardScaler, MinMaxScaler, OneHotEncoder, OrdinalEncoder\n",
        "from sklearn.tree import DecisionTreeRegressor\n",
        "from sklearn.linear_model import LogisticRegression\n",
        "from sklearn.svm import SVC\n",
        "from sklearn.neighbors import NearestNeighbors, KNeighborsClassifier\n",
        "from sklearn.tree import DecisionTreeClassifier\n",
        "from sklearn.ensemble import RandomForestClassifier\n",
        "from sklearn.naive_bayes import GaussianNB\n",
        "from sklearn.linear_model import SGDClassifier\n",
        "from sklearn.ensemble import BaggingClassifier\n",
        "from sklearn.ensemble import AdaBoostClassifier\n",
        "from sklearn.metrics import roc_curve, auc,roc_auc_score\n",
        "from sklearn.model_selection import cross_val_score\n",
        "from sklearn.model_selection import GridSearchCV\n",
        "from sklearn.metrics import accuracy_score,classification_report,ConfusionMatrixDisplay,confusion_matrix\n",
        "\n",
        "import warnings\n",
        "warnings.filterwarnings(\"ignore\")"
      ]
    },
    {
      "cell_type": "markdown",
      "metadata": {
        "id": "HRQ6dBp8i8ZB"
      },
      "source": [
        "### DATA LOADING AND OVERVIEW"
      ]
    },
    {
      "cell_type": "markdown",
      "source": [
        "#### Query SQL"
      ],
      "metadata": {
        "id": "TH49cNvPDbjx"
      }
    },
    {
      "cell_type": "markdown",
      "metadata": {
        "id": "kGxwwjwyi8ZC"
      },
      "source": [
        "```text\n",
        "SELECT \n",
        "limit_balance, sex, education_level, marital_status, age, pay_0, pay_2, pay_3, pay_4, pay_5, pay_6, bill_amt_1, bill_amt_2, bill_amt_3, bill_amt_4, bill_amt_5, bill_amt_6, pay_amt_1, pay_amt_2, pay_amt_3, pay_amt_4, pay_amt_5, pay_amt_6, default_payment_next_month\n",
        "FROM `bigquery-public-data.ml_datasets.credit_card_default` \n",
        "LIMIT 3988\n",
        "```"
      ]
    },
    {
      "cell_type": "code",
      "execution_count": 2,
      "metadata": {
        "id": "ieCwuJovi8ZC"
      },
      "outputs": [],
      "source": [
        "df = pd.read_csv('h8dsft_P1M1_rizqi_rizmayani.csv', na_values=['?',' ','99999','N/A'],skipinitialspace = True)"
      ]
    },
    {
      "cell_type": "code",
      "execution_count": 3,
      "metadata": {
        "colab": {
          "base_uri": "https://localhost:8080/",
          "height": 205
        },
        "id": "SKJTCUx6i8ZD",
        "outputId": "5e74db20-1daf-4e79-da43-427629720a0e"
      },
      "outputs": [
        {
          "output_type": "execute_result",
          "data": {
            "text/plain": [
              "   limit_balance  sex  education_level  marital_status   age  pay_0  pay_2  \\\n",
              "0       130000.0    1                1               1  45.0    0.0    0.0   \n",
              "1       230000.0    1                2               1  41.0    0.0    0.0   \n",
              "\n",
              "   pay_3  pay_4  pay_5  ...  bill_amt_4  bill_amt_5  bill_amt_6  pay_amt_1  \\\n",
              "0    0.0    0.0      0  ...     62377.0     63832.0     65099.0     2886.0   \n",
              "1    0.0    0.0      0  ...    216260.0    215968.0    174195.0     9405.0   \n",
              "\n",
              "   pay_amt_2  pay_amt_3  pay_amt_4  pay_amt_5  pay_amt_6  \\\n",
              "0     2908.0     2129.0     2354.0     2366.0     2291.0   \n",
              "1     7769.0     7757.0     8030.0     6549.0     5226.0   \n",
              "\n",
              "   default_payment_next_month  \n",
              "0                           0  \n",
              "1                           1  \n",
              "\n",
              "[2 rows x 24 columns]"
            ],
            "text/html": [
              "\n",
              "  <div id=\"df-243e95c8-8596-4f50-a952-c096cf7e2c4b\">\n",
              "    <div class=\"colab-df-container\">\n",
              "      <div>\n",
              "<style scoped>\n",
              "    .dataframe tbody tr th:only-of-type {\n",
              "        vertical-align: middle;\n",
              "    }\n",
              "\n",
              "    .dataframe tbody tr th {\n",
              "        vertical-align: top;\n",
              "    }\n",
              "\n",
              "    .dataframe thead th {\n",
              "        text-align: right;\n",
              "    }\n",
              "</style>\n",
              "<table border=\"1\" class=\"dataframe\">\n",
              "  <thead>\n",
              "    <tr style=\"text-align: right;\">\n",
              "      <th></th>\n",
              "      <th>limit_balance</th>\n",
              "      <th>sex</th>\n",
              "      <th>education_level</th>\n",
              "      <th>marital_status</th>\n",
              "      <th>age</th>\n",
              "      <th>pay_0</th>\n",
              "      <th>pay_2</th>\n",
              "      <th>pay_3</th>\n",
              "      <th>pay_4</th>\n",
              "      <th>pay_5</th>\n",
              "      <th>...</th>\n",
              "      <th>bill_amt_4</th>\n",
              "      <th>bill_amt_5</th>\n",
              "      <th>bill_amt_6</th>\n",
              "      <th>pay_amt_1</th>\n",
              "      <th>pay_amt_2</th>\n",
              "      <th>pay_amt_3</th>\n",
              "      <th>pay_amt_4</th>\n",
              "      <th>pay_amt_5</th>\n",
              "      <th>pay_amt_6</th>\n",
              "      <th>default_payment_next_month</th>\n",
              "    </tr>\n",
              "  </thead>\n",
              "  <tbody>\n",
              "    <tr>\n",
              "      <th>0</th>\n",
              "      <td>130000.0</td>\n",
              "      <td>1</td>\n",
              "      <td>1</td>\n",
              "      <td>1</td>\n",
              "      <td>45.0</td>\n",
              "      <td>0.0</td>\n",
              "      <td>0.0</td>\n",
              "      <td>0.0</td>\n",
              "      <td>0.0</td>\n",
              "      <td>0</td>\n",
              "      <td>...</td>\n",
              "      <td>62377.0</td>\n",
              "      <td>63832.0</td>\n",
              "      <td>65099.0</td>\n",
              "      <td>2886.0</td>\n",
              "      <td>2908.0</td>\n",
              "      <td>2129.0</td>\n",
              "      <td>2354.0</td>\n",
              "      <td>2366.0</td>\n",
              "      <td>2291.0</td>\n",
              "      <td>0</td>\n",
              "    </tr>\n",
              "    <tr>\n",
              "      <th>1</th>\n",
              "      <td>230000.0</td>\n",
              "      <td>1</td>\n",
              "      <td>2</td>\n",
              "      <td>1</td>\n",
              "      <td>41.0</td>\n",
              "      <td>0.0</td>\n",
              "      <td>0.0</td>\n",
              "      <td>0.0</td>\n",
              "      <td>0.0</td>\n",
              "      <td>0</td>\n",
              "      <td>...</td>\n",
              "      <td>216260.0</td>\n",
              "      <td>215968.0</td>\n",
              "      <td>174195.0</td>\n",
              "      <td>9405.0</td>\n",
              "      <td>7769.0</td>\n",
              "      <td>7757.0</td>\n",
              "      <td>8030.0</td>\n",
              "      <td>6549.0</td>\n",
              "      <td>5226.0</td>\n",
              "      <td>1</td>\n",
              "    </tr>\n",
              "  </tbody>\n",
              "</table>\n",
              "<p>2 rows × 24 columns</p>\n",
              "</div>\n",
              "      <button class=\"colab-df-convert\" onclick=\"convertToInteractive('df-243e95c8-8596-4f50-a952-c096cf7e2c4b')\"\n",
              "              title=\"Convert this dataframe to an interactive table.\"\n",
              "              style=\"display:none;\">\n",
              "        \n",
              "  <svg xmlns=\"http://www.w3.org/2000/svg\" height=\"24px\"viewBox=\"0 0 24 24\"\n",
              "       width=\"24px\">\n",
              "    <path d=\"M0 0h24v24H0V0z\" fill=\"none\"/>\n",
              "    <path d=\"M18.56 5.44l.94 2.06.94-2.06 2.06-.94-2.06-.94-.94-2.06-.94 2.06-2.06.94zm-11 1L8.5 8.5l.94-2.06 2.06-.94-2.06-.94L8.5 2.5l-.94 2.06-2.06.94zm10 10l.94 2.06.94-2.06 2.06-.94-2.06-.94-.94-2.06-.94 2.06-2.06.94z\"/><path d=\"M17.41 7.96l-1.37-1.37c-.4-.4-.92-.59-1.43-.59-.52 0-1.04.2-1.43.59L10.3 9.45l-7.72 7.72c-.78.78-.78 2.05 0 2.83L4 21.41c.39.39.9.59 1.41.59.51 0 1.02-.2 1.41-.59l7.78-7.78 2.81-2.81c.8-.78.8-2.07 0-2.86zM5.41 20L4 18.59l7.72-7.72 1.47 1.35L5.41 20z\"/>\n",
              "  </svg>\n",
              "      </button>\n",
              "      \n",
              "  <style>\n",
              "    .colab-df-container {\n",
              "      display:flex;\n",
              "      flex-wrap:wrap;\n",
              "      gap: 12px;\n",
              "    }\n",
              "\n",
              "    .colab-df-convert {\n",
              "      background-color: #E8F0FE;\n",
              "      border: none;\n",
              "      border-radius: 50%;\n",
              "      cursor: pointer;\n",
              "      display: none;\n",
              "      fill: #1967D2;\n",
              "      height: 32px;\n",
              "      padding: 0 0 0 0;\n",
              "      width: 32px;\n",
              "    }\n",
              "\n",
              "    .colab-df-convert:hover {\n",
              "      background-color: #E2EBFA;\n",
              "      box-shadow: 0px 1px 2px rgba(60, 64, 67, 0.3), 0px 1px 3px 1px rgba(60, 64, 67, 0.15);\n",
              "      fill: #174EA6;\n",
              "    }\n",
              "\n",
              "    [theme=dark] .colab-df-convert {\n",
              "      background-color: #3B4455;\n",
              "      fill: #D2E3FC;\n",
              "    }\n",
              "\n",
              "    [theme=dark] .colab-df-convert:hover {\n",
              "      background-color: #434B5C;\n",
              "      box-shadow: 0px 1px 3px 1px rgba(0, 0, 0, 0.15);\n",
              "      filter: drop-shadow(0px 1px 2px rgba(0, 0, 0, 0.3));\n",
              "      fill: #FFFFFF;\n",
              "    }\n",
              "  </style>\n",
              "\n",
              "      <script>\n",
              "        const buttonEl =\n",
              "          document.querySelector('#df-243e95c8-8596-4f50-a952-c096cf7e2c4b button.colab-df-convert');\n",
              "        buttonEl.style.display =\n",
              "          google.colab.kernel.accessAllowed ? 'block' : 'none';\n",
              "\n",
              "        async function convertToInteractive(key) {\n",
              "          const element = document.querySelector('#df-243e95c8-8596-4f50-a952-c096cf7e2c4b');\n",
              "          const dataTable =\n",
              "            await google.colab.kernel.invokeFunction('convertToInteractive',\n",
              "                                                     [key], {});\n",
              "          if (!dataTable) return;\n",
              "\n",
              "          const docLinkHtml = 'Like what you see? Visit the ' +\n",
              "            '<a target=\"_blank\" href=https://colab.research.google.com/notebooks/data_table.ipynb>data table notebook</a>'\n",
              "            + ' to learn more about interactive tables.';\n",
              "          element.innerHTML = '';\n",
              "          dataTable['output_type'] = 'display_data';\n",
              "          await google.colab.output.renderOutput(dataTable, element);\n",
              "          const docLink = document.createElement('div');\n",
              "          docLink.innerHTML = docLinkHtml;\n",
              "          element.appendChild(docLink);\n",
              "        }\n",
              "      </script>\n",
              "    </div>\n",
              "  </div>\n",
              "  "
            ]
          },
          "metadata": {},
          "execution_count": 3
        }
      ],
      "source": [
        "df.head(2)"
      ]
    },
    {
      "cell_type": "code",
      "execution_count": 4,
      "metadata": {
        "colab": {
          "base_uri": "https://localhost:8080/",
          "height": 205
        },
        "id": "SUPQPYGPi8ZE",
        "outputId": "818150fb-f5e1-4a99-8647-ba60cf3b714c"
      },
      "outputs": [
        {
          "output_type": "execute_result",
          "data": {
            "text/plain": [
              "      limit_balance  sex  education_level  marital_status   age  pay_0  pay_2  \\\n",
              "2963       210000.0    2                1               1  38.0    0.0    0.0   \n",
              "2964       360000.0    2                2               1  37.0   -1.0   -1.0   \n",
              "\n",
              "      pay_3  pay_4  pay_5  ...  bill_amt_4  bill_amt_5  bill_amt_6  pay_amt_1  \\\n",
              "2963   -1.0   -1.0      0  ...     23067.0     19972.0     45864.0     3000.0   \n",
              "2964    0.0   -1.0     -1  ...     10000.0     10000.0     10000.0    17444.0   \n",
              "\n",
              "      pay_amt_2  pay_amt_3  pay_amt_4  pay_amt_5  pay_amt_6  \\\n",
              "2963     4521.0    24000.0    10000.0    30000.0     6432.0   \n",
              "2964    10035.0    10000.0    10000.0    10000.0        0.0   \n",
              "\n",
              "      default_payment_next_month  \n",
              "2963                           0  \n",
              "2964                           0  \n",
              "\n",
              "[2 rows x 24 columns]"
            ],
            "text/html": [
              "\n",
              "  <div id=\"df-17530432-a7de-458e-ade4-4296459fc73f\">\n",
              "    <div class=\"colab-df-container\">\n",
              "      <div>\n",
              "<style scoped>\n",
              "    .dataframe tbody tr th:only-of-type {\n",
              "        vertical-align: middle;\n",
              "    }\n",
              "\n",
              "    .dataframe tbody tr th {\n",
              "        vertical-align: top;\n",
              "    }\n",
              "\n",
              "    .dataframe thead th {\n",
              "        text-align: right;\n",
              "    }\n",
              "</style>\n",
              "<table border=\"1\" class=\"dataframe\">\n",
              "  <thead>\n",
              "    <tr style=\"text-align: right;\">\n",
              "      <th></th>\n",
              "      <th>limit_balance</th>\n",
              "      <th>sex</th>\n",
              "      <th>education_level</th>\n",
              "      <th>marital_status</th>\n",
              "      <th>age</th>\n",
              "      <th>pay_0</th>\n",
              "      <th>pay_2</th>\n",
              "      <th>pay_3</th>\n",
              "      <th>pay_4</th>\n",
              "      <th>pay_5</th>\n",
              "      <th>...</th>\n",
              "      <th>bill_amt_4</th>\n",
              "      <th>bill_amt_5</th>\n",
              "      <th>bill_amt_6</th>\n",
              "      <th>pay_amt_1</th>\n",
              "      <th>pay_amt_2</th>\n",
              "      <th>pay_amt_3</th>\n",
              "      <th>pay_amt_4</th>\n",
              "      <th>pay_amt_5</th>\n",
              "      <th>pay_amt_6</th>\n",
              "      <th>default_payment_next_month</th>\n",
              "    </tr>\n",
              "  </thead>\n",
              "  <tbody>\n",
              "    <tr>\n",
              "      <th>2963</th>\n",
              "      <td>210000.0</td>\n",
              "      <td>2</td>\n",
              "      <td>1</td>\n",
              "      <td>1</td>\n",
              "      <td>38.0</td>\n",
              "      <td>0.0</td>\n",
              "      <td>0.0</td>\n",
              "      <td>-1.0</td>\n",
              "      <td>-1.0</td>\n",
              "      <td>0</td>\n",
              "      <td>...</td>\n",
              "      <td>23067.0</td>\n",
              "      <td>19972.0</td>\n",
              "      <td>45864.0</td>\n",
              "      <td>3000.0</td>\n",
              "      <td>4521.0</td>\n",
              "      <td>24000.0</td>\n",
              "      <td>10000.0</td>\n",
              "      <td>30000.0</td>\n",
              "      <td>6432.0</td>\n",
              "      <td>0</td>\n",
              "    </tr>\n",
              "    <tr>\n",
              "      <th>2964</th>\n",
              "      <td>360000.0</td>\n",
              "      <td>2</td>\n",
              "      <td>2</td>\n",
              "      <td>1</td>\n",
              "      <td>37.0</td>\n",
              "      <td>-1.0</td>\n",
              "      <td>-1.0</td>\n",
              "      <td>0.0</td>\n",
              "      <td>-1.0</td>\n",
              "      <td>-1</td>\n",
              "      <td>...</td>\n",
              "      <td>10000.0</td>\n",
              "      <td>10000.0</td>\n",
              "      <td>10000.0</td>\n",
              "      <td>17444.0</td>\n",
              "      <td>10035.0</td>\n",
              "      <td>10000.0</td>\n",
              "      <td>10000.0</td>\n",
              "      <td>10000.0</td>\n",
              "      <td>0.0</td>\n",
              "      <td>0</td>\n",
              "    </tr>\n",
              "  </tbody>\n",
              "</table>\n",
              "<p>2 rows × 24 columns</p>\n",
              "</div>\n",
              "      <button class=\"colab-df-convert\" onclick=\"convertToInteractive('df-17530432-a7de-458e-ade4-4296459fc73f')\"\n",
              "              title=\"Convert this dataframe to an interactive table.\"\n",
              "              style=\"display:none;\">\n",
              "        \n",
              "  <svg xmlns=\"http://www.w3.org/2000/svg\" height=\"24px\"viewBox=\"0 0 24 24\"\n",
              "       width=\"24px\">\n",
              "    <path d=\"M0 0h24v24H0V0z\" fill=\"none\"/>\n",
              "    <path d=\"M18.56 5.44l.94 2.06.94-2.06 2.06-.94-2.06-.94-.94-2.06-.94 2.06-2.06.94zm-11 1L8.5 8.5l.94-2.06 2.06-.94-2.06-.94L8.5 2.5l-.94 2.06-2.06.94zm10 10l.94 2.06.94-2.06 2.06-.94-2.06-.94-.94-2.06-.94 2.06-2.06.94z\"/><path d=\"M17.41 7.96l-1.37-1.37c-.4-.4-.92-.59-1.43-.59-.52 0-1.04.2-1.43.59L10.3 9.45l-7.72 7.72c-.78.78-.78 2.05 0 2.83L4 21.41c.39.39.9.59 1.41.59.51 0 1.02-.2 1.41-.59l7.78-7.78 2.81-2.81c.8-.78.8-2.07 0-2.86zM5.41 20L4 18.59l7.72-7.72 1.47 1.35L5.41 20z\"/>\n",
              "  </svg>\n",
              "      </button>\n",
              "      \n",
              "  <style>\n",
              "    .colab-df-container {\n",
              "      display:flex;\n",
              "      flex-wrap:wrap;\n",
              "      gap: 12px;\n",
              "    }\n",
              "\n",
              "    .colab-df-convert {\n",
              "      background-color: #E8F0FE;\n",
              "      border: none;\n",
              "      border-radius: 50%;\n",
              "      cursor: pointer;\n",
              "      display: none;\n",
              "      fill: #1967D2;\n",
              "      height: 32px;\n",
              "      padding: 0 0 0 0;\n",
              "      width: 32px;\n",
              "    }\n",
              "\n",
              "    .colab-df-convert:hover {\n",
              "      background-color: #E2EBFA;\n",
              "      box-shadow: 0px 1px 2px rgba(60, 64, 67, 0.3), 0px 1px 3px 1px rgba(60, 64, 67, 0.15);\n",
              "      fill: #174EA6;\n",
              "    }\n",
              "\n",
              "    [theme=dark] .colab-df-convert {\n",
              "      background-color: #3B4455;\n",
              "      fill: #D2E3FC;\n",
              "    }\n",
              "\n",
              "    [theme=dark] .colab-df-convert:hover {\n",
              "      background-color: #434B5C;\n",
              "      box-shadow: 0px 1px 3px 1px rgba(0, 0, 0, 0.15);\n",
              "      filter: drop-shadow(0px 1px 2px rgba(0, 0, 0, 0.3));\n",
              "      fill: #FFFFFF;\n",
              "    }\n",
              "  </style>\n",
              "\n",
              "      <script>\n",
              "        const buttonEl =\n",
              "          document.querySelector('#df-17530432-a7de-458e-ade4-4296459fc73f button.colab-df-convert');\n",
              "        buttonEl.style.display =\n",
              "          google.colab.kernel.accessAllowed ? 'block' : 'none';\n",
              "\n",
              "        async function convertToInteractive(key) {\n",
              "          const element = document.querySelector('#df-17530432-a7de-458e-ade4-4296459fc73f');\n",
              "          const dataTable =\n",
              "            await google.colab.kernel.invokeFunction('convertToInteractive',\n",
              "                                                     [key], {});\n",
              "          if (!dataTable) return;\n",
              "\n",
              "          const docLinkHtml = 'Like what you see? Visit the ' +\n",
              "            '<a target=\"_blank\" href=https://colab.research.google.com/notebooks/data_table.ipynb>data table notebook</a>'\n",
              "            + ' to learn more about interactive tables.';\n",
              "          element.innerHTML = '';\n",
              "          dataTable['output_type'] = 'display_data';\n",
              "          await google.colab.output.renderOutput(dataTable, element);\n",
              "          const docLink = document.createElement('div');\n",
              "          docLink.innerHTML = docLinkHtml;\n",
              "          element.appendChild(docLink);\n",
              "        }\n",
              "      </script>\n",
              "    </div>\n",
              "  </div>\n",
              "  "
            ]
          },
          "metadata": {},
          "execution_count": 4
        }
      ],
      "source": [
        "df.tail(2)"
      ]
    },
    {
      "cell_type": "code",
      "execution_count": 5,
      "metadata": {
        "colab": {
          "base_uri": "https://localhost:8080/"
        },
        "id": "RyP7Nnkri8ZE",
        "outputId": "e3d7c003-346c-4d3f-849d-bc744db59d8e"
      },
      "outputs": [
        {
          "output_type": "stream",
          "name": "stdout",
          "text": [
            "<class 'pandas.core.frame.DataFrame'>\n",
            "RangeIndex: 2965 entries, 0 to 2964\n",
            "Data columns (total 24 columns):\n",
            " #   Column                      Non-Null Count  Dtype  \n",
            "---  ------                      --------------  -----  \n",
            " 0   limit_balance               2965 non-null   float64\n",
            " 1   sex                         2965 non-null   int64  \n",
            " 2   education_level             2965 non-null   int64  \n",
            " 3   marital_status              2965 non-null   int64  \n",
            " 4   age                         2965 non-null   float64\n",
            " 5   pay_0                       2965 non-null   float64\n",
            " 6   pay_2                       2965 non-null   float64\n",
            " 7   pay_3                       2965 non-null   float64\n",
            " 8   pay_4                       2965 non-null   float64\n",
            " 9   pay_5                       2965 non-null   int64  \n",
            " 10  pay_6                       2965 non-null   int64  \n",
            " 11  bill_amt_1                  2965 non-null   float64\n",
            " 12  bill_amt_2                  2965 non-null   float64\n",
            " 13  bill_amt_3                  2965 non-null   float64\n",
            " 14  bill_amt_4                  2965 non-null   float64\n",
            " 15  bill_amt_5                  2965 non-null   float64\n",
            " 16  bill_amt_6                  2965 non-null   float64\n",
            " 17  pay_amt_1                   2965 non-null   float64\n",
            " 18  pay_amt_2                   2965 non-null   float64\n",
            " 19  pay_amt_3                   2965 non-null   float64\n",
            " 20  pay_amt_4                   2965 non-null   float64\n",
            " 21  pay_amt_5                   2965 non-null   float64\n",
            " 22  pay_amt_6                   2965 non-null   float64\n",
            " 23  default_payment_next_month  2965 non-null   int64  \n",
            "dtypes: float64(18), int64(6)\n",
            "memory usage: 556.1 KB\n"
          ]
        }
      ],
      "source": [
        "df.info()"
      ]
    },
    {
      "cell_type": "code",
      "execution_count": 6,
      "metadata": {
        "colab": {
          "base_uri": "https://localhost:8080/"
        },
        "id": "BnBK3qKqi8ZF",
        "outputId": "03a0182a-f412-4566-f941-baaafaa206f6"
      },
      "outputs": [
        {
          "output_type": "execute_result",
          "data": {
            "text/plain": [
              "(1, 24)"
            ]
          },
          "metadata": {},
          "execution_count": 6
        }
      ],
      "source": [
        "df[df.duplicated()].shape"
      ]
    },
    {
      "cell_type": "code",
      "execution_count": 7,
      "metadata": {
        "colab": {
          "base_uri": "https://localhost:8080/"
        },
        "id": "LGVVUgj1i8ZF",
        "outputId": "8840ed94-48e1-40b0-f1e0-bc6d3d6905d3"
      },
      "outputs": [
        {
          "output_type": "execute_result",
          "data": {
            "text/plain": [
              "limit_balance                 0\n",
              "sex                           0\n",
              "education_level               0\n",
              "marital_status                0\n",
              "age                           0\n",
              "pay_0                         0\n",
              "pay_2                         0\n",
              "pay_3                         0\n",
              "pay_4                         0\n",
              "pay_5                         0\n",
              "pay_6                         0\n",
              "bill_amt_1                    0\n",
              "bill_amt_2                    0\n",
              "bill_amt_3                    0\n",
              "bill_amt_4                    0\n",
              "bill_amt_5                    0\n",
              "bill_amt_6                    0\n",
              "pay_amt_1                     0\n",
              "pay_amt_2                     0\n",
              "pay_amt_3                     0\n",
              "pay_amt_4                     0\n",
              "pay_amt_5                     0\n",
              "pay_amt_6                     0\n",
              "default_payment_next_month    0\n",
              "dtype: int64"
            ]
          },
          "metadata": {},
          "execution_count": 7
        }
      ],
      "source": [
        "df.isnull().sum()"
      ]
    },
    {
      "cell_type": "code",
      "execution_count": 8,
      "metadata": {
        "colab": {
          "base_uri": "https://localhost:8080/"
        },
        "id": "oz0JVbski8ZF",
        "outputId": "d71d55d5-b1d5-4983-9ffa-d42dad473080"
      },
      "outputs": [
        {
          "output_type": "execute_result",
          "data": {
            "text/plain": [
              "(2965, 24)"
            ]
          },
          "metadata": {},
          "execution_count": 8
        }
      ],
      "source": [
        "df.shape"
      ]
    },
    {
      "cell_type": "code",
      "execution_count": 9,
      "metadata": {
        "colab": {
          "base_uri": "https://localhost:8080/"
        },
        "id": "Wnbo7MUdi8ZG",
        "outputId": "fe31f7d9-cac8-4d6e-9001-093d375f3c97"
      },
      "outputs": [
        {
          "output_type": "execute_result",
          "data": {
            "text/plain": [
              "{'limit_balance': 0,\n",
              " 'sex': 0,\n",
              " 'education_level': 0,\n",
              " 'marital_status': 0,\n",
              " 'age': 0,\n",
              " 'pay_0': 0,\n",
              " 'pay_2': 0,\n",
              " 'pay_3': 0,\n",
              " 'pay_4': 0,\n",
              " 'pay_5': 0,\n",
              " 'pay_6': 0,\n",
              " 'bill_amt_1': 0,\n",
              " 'bill_amt_2': 0,\n",
              " 'bill_amt_3': 0,\n",
              " 'bill_amt_4': 0,\n",
              " 'bill_amt_5': 0,\n",
              " 'bill_amt_6': 0,\n",
              " 'pay_amt_1': 0,\n",
              " 'pay_amt_2': 0,\n",
              " 'pay_amt_3': 0,\n",
              " 'pay_amt_4': 0,\n",
              " 'pay_amt_5': 0,\n",
              " 'pay_amt_6': 0,\n",
              " 'default_payment_next_month': 0}"
            ]
          },
          "metadata": {},
          "execution_count": 9
        }
      ],
      "source": [
        "m_v = {}\n",
        "for i in list(df.columns):\n",
        "    m_v[i] = 0\n",
        "    for j in df[i]:\n",
        "        if j in ['N/A', '--', '-', 'Null', '?', 'NaN']:\n",
        "            m_v[i] = m_v[i] + 1\n",
        "m_v"
      ]
    },
    {
      "cell_type": "code",
      "execution_count": 10,
      "metadata": {
        "colab": {
          "base_uri": "https://localhost:8080/",
          "height": 802
        },
        "id": "2C0nr2bQi8ZG",
        "outputId": "6723a639-308c-4392-e2a9-904cccd448a9"
      },
      "outputs": [
        {
          "output_type": "execute_result",
          "data": {
            "text/plain": [
              "                             count           mean            std      min  \\\n",
              "limit_balance               2965.0  163369.308600  125030.415472  10000.0   \n",
              "sex                         2965.0       1.607757       0.488333      1.0   \n",
              "education_level             2965.0       1.849578       0.778184      0.0   \n",
              "marital_status              2965.0       1.559865       0.522317      0.0   \n",
              "age                         2965.0      35.193255       9.109439     21.0   \n",
              "pay_0                       2965.0       0.005059       1.114395     -2.0   \n",
              "pay_2                       2965.0      -0.122428       1.180784     -2.0   \n",
              "pay_3                       2965.0      -0.141653       1.183630     -2.0   \n",
              "pay_4                       2965.0      -0.185160       1.178322     -2.0   \n",
              "pay_5                       2965.0      -0.225295       1.159003     -2.0   \n",
              "pay_6                       2965.0      -0.254637       1.167305     -2.0   \n",
              "bill_amt_1                  2965.0   52118.305228   72328.670541 -11545.0   \n",
              "bill_amt_2                  2965.0   50649.153120   70785.001588 -67526.0   \n",
              "bill_amt_3                  2965.0   48239.757504   68145.710745 -25443.0   \n",
              "bill_amt_4                  2965.0   44089.683305   61907.454056 -46627.0   \n",
              "bill_amt_5                  2965.0   40956.080607   58271.904751 -46627.0   \n",
              "bill_amt_6                  2965.0   39773.072513   57303.488981 -73895.0   \n",
              "pay_amt_1                   2965.0    6348.902867   20885.735336      0.0   \n",
              "pay_amt_2                   2965.0    6272.494435   28879.674534      0.0   \n",
              "pay_amt_3                   2965.0    5150.497133   14287.079982      0.0   \n",
              "pay_amt_4                   2965.0    4561.376054   13281.499599      0.0   \n",
              "pay_amt_5                   2965.0    4913.286678   16734.340778      0.0   \n",
              "pay_amt_6                   2965.0    5382.701518   17275.953029      0.0   \n",
              "default_payment_next_month  2965.0       0.214165       0.410311      0.0   \n",
              "\n",
              "                                25%       50%       75%        max  \n",
              "limit_balance               50000.0  140000.0  230000.0   800000.0  \n",
              "sex                             1.0       2.0       2.0        2.0  \n",
              "education_level                 1.0       2.0       2.0        6.0  \n",
              "marital_status                  1.0       2.0       2.0        3.0  \n",
              "age                            28.0      34.0      41.0       69.0  \n",
              "pay_0                          -1.0       0.0       0.0        8.0  \n",
              "pay_2                          -1.0       0.0       0.0        7.0  \n",
              "pay_3                          -1.0       0.0       0.0        7.0  \n",
              "pay_4                          -1.0       0.0       0.0        8.0  \n",
              "pay_5                          -1.0       0.0       0.0        7.0  \n",
              "pay_6                          -1.0       0.0       0.0        7.0  \n",
              "bill_amt_1                   3958.0   24257.0   69852.0   613860.0  \n",
              "bill_amt_2                   3390.0   23111.0   67827.0   512650.0  \n",
              "bill_amt_3                   3302.0   21520.0   63023.0   578971.0  \n",
              "bill_amt_4                   2582.0   19894.0   58622.0   488808.0  \n",
              "bill_amt_5                   1958.0   18814.0   53373.0   441981.0  \n",
              "bill_amt_6                   1430.0   18508.0   52287.0   436172.0  \n",
              "pay_amt_1                    1013.0    2234.0    5087.0   493358.0  \n",
              "pay_amt_2                     990.0    2175.0    5000.0  1227082.0  \n",
              "pay_amt_3                     477.0    1994.0    4500.0   199209.0  \n",
              "pay_amt_4                     313.0    1600.0    4000.0   202076.0  \n",
              "pay_amt_5                     323.0    1646.0    4021.0   388071.0  \n",
              "pay_amt_6                     173.0    1615.0    4081.0   403500.0  \n",
              "default_payment_next_month      0.0       0.0       0.0        1.0  "
            ],
            "text/html": [
              "\n",
              "  <div id=\"df-076751ed-8e42-444e-a7f1-9de429fc5361\">\n",
              "    <div class=\"colab-df-container\">\n",
              "      <div>\n",
              "<style scoped>\n",
              "    .dataframe tbody tr th:only-of-type {\n",
              "        vertical-align: middle;\n",
              "    }\n",
              "\n",
              "    .dataframe tbody tr th {\n",
              "        vertical-align: top;\n",
              "    }\n",
              "\n",
              "    .dataframe thead th {\n",
              "        text-align: right;\n",
              "    }\n",
              "</style>\n",
              "<table border=\"1\" class=\"dataframe\">\n",
              "  <thead>\n",
              "    <tr style=\"text-align: right;\">\n",
              "      <th></th>\n",
              "      <th>count</th>\n",
              "      <th>mean</th>\n",
              "      <th>std</th>\n",
              "      <th>min</th>\n",
              "      <th>25%</th>\n",
              "      <th>50%</th>\n",
              "      <th>75%</th>\n",
              "      <th>max</th>\n",
              "    </tr>\n",
              "  </thead>\n",
              "  <tbody>\n",
              "    <tr>\n",
              "      <th>limit_balance</th>\n",
              "      <td>2965.0</td>\n",
              "      <td>163369.308600</td>\n",
              "      <td>125030.415472</td>\n",
              "      <td>10000.0</td>\n",
              "      <td>50000.0</td>\n",
              "      <td>140000.0</td>\n",
              "      <td>230000.0</td>\n",
              "      <td>800000.0</td>\n",
              "    </tr>\n",
              "    <tr>\n",
              "      <th>sex</th>\n",
              "      <td>2965.0</td>\n",
              "      <td>1.607757</td>\n",
              "      <td>0.488333</td>\n",
              "      <td>1.0</td>\n",
              "      <td>1.0</td>\n",
              "      <td>2.0</td>\n",
              "      <td>2.0</td>\n",
              "      <td>2.0</td>\n",
              "    </tr>\n",
              "    <tr>\n",
              "      <th>education_level</th>\n",
              "      <td>2965.0</td>\n",
              "      <td>1.849578</td>\n",
              "      <td>0.778184</td>\n",
              "      <td>0.0</td>\n",
              "      <td>1.0</td>\n",
              "      <td>2.0</td>\n",
              "      <td>2.0</td>\n",
              "      <td>6.0</td>\n",
              "    </tr>\n",
              "    <tr>\n",
              "      <th>marital_status</th>\n",
              "      <td>2965.0</td>\n",
              "      <td>1.559865</td>\n",
              "      <td>0.522317</td>\n",
              "      <td>0.0</td>\n",
              "      <td>1.0</td>\n",
              "      <td>2.0</td>\n",
              "      <td>2.0</td>\n",
              "      <td>3.0</td>\n",
              "    </tr>\n",
              "    <tr>\n",
              "      <th>age</th>\n",
              "      <td>2965.0</td>\n",
              "      <td>35.193255</td>\n",
              "      <td>9.109439</td>\n",
              "      <td>21.0</td>\n",
              "      <td>28.0</td>\n",
              "      <td>34.0</td>\n",
              "      <td>41.0</td>\n",
              "      <td>69.0</td>\n",
              "    </tr>\n",
              "    <tr>\n",
              "      <th>pay_0</th>\n",
              "      <td>2965.0</td>\n",
              "      <td>0.005059</td>\n",
              "      <td>1.114395</td>\n",
              "      <td>-2.0</td>\n",
              "      <td>-1.0</td>\n",
              "      <td>0.0</td>\n",
              "      <td>0.0</td>\n",
              "      <td>8.0</td>\n",
              "    </tr>\n",
              "    <tr>\n",
              "      <th>pay_2</th>\n",
              "      <td>2965.0</td>\n",
              "      <td>-0.122428</td>\n",
              "      <td>1.180784</td>\n",
              "      <td>-2.0</td>\n",
              "      <td>-1.0</td>\n",
              "      <td>0.0</td>\n",
              "      <td>0.0</td>\n",
              "      <td>7.0</td>\n",
              "    </tr>\n",
              "    <tr>\n",
              "      <th>pay_3</th>\n",
              "      <td>2965.0</td>\n",
              "      <td>-0.141653</td>\n",
              "      <td>1.183630</td>\n",
              "      <td>-2.0</td>\n",
              "      <td>-1.0</td>\n",
              "      <td>0.0</td>\n",
              "      <td>0.0</td>\n",
              "      <td>7.0</td>\n",
              "    </tr>\n",
              "    <tr>\n",
              "      <th>pay_4</th>\n",
              "      <td>2965.0</td>\n",
              "      <td>-0.185160</td>\n",
              "      <td>1.178322</td>\n",
              "      <td>-2.0</td>\n",
              "      <td>-1.0</td>\n",
              "      <td>0.0</td>\n",
              "      <td>0.0</td>\n",
              "      <td>8.0</td>\n",
              "    </tr>\n",
              "    <tr>\n",
              "      <th>pay_5</th>\n",
              "      <td>2965.0</td>\n",
              "      <td>-0.225295</td>\n",
              "      <td>1.159003</td>\n",
              "      <td>-2.0</td>\n",
              "      <td>-1.0</td>\n",
              "      <td>0.0</td>\n",
              "      <td>0.0</td>\n",
              "      <td>7.0</td>\n",
              "    </tr>\n",
              "    <tr>\n",
              "      <th>pay_6</th>\n",
              "      <td>2965.0</td>\n",
              "      <td>-0.254637</td>\n",
              "      <td>1.167305</td>\n",
              "      <td>-2.0</td>\n",
              "      <td>-1.0</td>\n",
              "      <td>0.0</td>\n",
              "      <td>0.0</td>\n",
              "      <td>7.0</td>\n",
              "    </tr>\n",
              "    <tr>\n",
              "      <th>bill_amt_1</th>\n",
              "      <td>2965.0</td>\n",
              "      <td>52118.305228</td>\n",
              "      <td>72328.670541</td>\n",
              "      <td>-11545.0</td>\n",
              "      <td>3958.0</td>\n",
              "      <td>24257.0</td>\n",
              "      <td>69852.0</td>\n",
              "      <td>613860.0</td>\n",
              "    </tr>\n",
              "    <tr>\n",
              "      <th>bill_amt_2</th>\n",
              "      <td>2965.0</td>\n",
              "      <td>50649.153120</td>\n",
              "      <td>70785.001588</td>\n",
              "      <td>-67526.0</td>\n",
              "      <td>3390.0</td>\n",
              "      <td>23111.0</td>\n",
              "      <td>67827.0</td>\n",
              "      <td>512650.0</td>\n",
              "    </tr>\n",
              "    <tr>\n",
              "      <th>bill_amt_3</th>\n",
              "      <td>2965.0</td>\n",
              "      <td>48239.757504</td>\n",
              "      <td>68145.710745</td>\n",
              "      <td>-25443.0</td>\n",
              "      <td>3302.0</td>\n",
              "      <td>21520.0</td>\n",
              "      <td>63023.0</td>\n",
              "      <td>578971.0</td>\n",
              "    </tr>\n",
              "    <tr>\n",
              "      <th>bill_amt_4</th>\n",
              "      <td>2965.0</td>\n",
              "      <td>44089.683305</td>\n",
              "      <td>61907.454056</td>\n",
              "      <td>-46627.0</td>\n",
              "      <td>2582.0</td>\n",
              "      <td>19894.0</td>\n",
              "      <td>58622.0</td>\n",
              "      <td>488808.0</td>\n",
              "    </tr>\n",
              "    <tr>\n",
              "      <th>bill_amt_5</th>\n",
              "      <td>2965.0</td>\n",
              "      <td>40956.080607</td>\n",
              "      <td>58271.904751</td>\n",
              "      <td>-46627.0</td>\n",
              "      <td>1958.0</td>\n",
              "      <td>18814.0</td>\n",
              "      <td>53373.0</td>\n",
              "      <td>441981.0</td>\n",
              "    </tr>\n",
              "    <tr>\n",
              "      <th>bill_amt_6</th>\n",
              "      <td>2965.0</td>\n",
              "      <td>39773.072513</td>\n",
              "      <td>57303.488981</td>\n",
              "      <td>-73895.0</td>\n",
              "      <td>1430.0</td>\n",
              "      <td>18508.0</td>\n",
              "      <td>52287.0</td>\n",
              "      <td>436172.0</td>\n",
              "    </tr>\n",
              "    <tr>\n",
              "      <th>pay_amt_1</th>\n",
              "      <td>2965.0</td>\n",
              "      <td>6348.902867</td>\n",
              "      <td>20885.735336</td>\n",
              "      <td>0.0</td>\n",
              "      <td>1013.0</td>\n",
              "      <td>2234.0</td>\n",
              "      <td>5087.0</td>\n",
              "      <td>493358.0</td>\n",
              "    </tr>\n",
              "    <tr>\n",
              "      <th>pay_amt_2</th>\n",
              "      <td>2965.0</td>\n",
              "      <td>6272.494435</td>\n",
              "      <td>28879.674534</td>\n",
              "      <td>0.0</td>\n",
              "      <td>990.0</td>\n",
              "      <td>2175.0</td>\n",
              "      <td>5000.0</td>\n",
              "      <td>1227082.0</td>\n",
              "    </tr>\n",
              "    <tr>\n",
              "      <th>pay_amt_3</th>\n",
              "      <td>2965.0</td>\n",
              "      <td>5150.497133</td>\n",
              "      <td>14287.079982</td>\n",
              "      <td>0.0</td>\n",
              "      <td>477.0</td>\n",
              "      <td>1994.0</td>\n",
              "      <td>4500.0</td>\n",
              "      <td>199209.0</td>\n",
              "    </tr>\n",
              "    <tr>\n",
              "      <th>pay_amt_4</th>\n",
              "      <td>2965.0</td>\n",
              "      <td>4561.376054</td>\n",
              "      <td>13281.499599</td>\n",
              "      <td>0.0</td>\n",
              "      <td>313.0</td>\n",
              "      <td>1600.0</td>\n",
              "      <td>4000.0</td>\n",
              "      <td>202076.0</td>\n",
              "    </tr>\n",
              "    <tr>\n",
              "      <th>pay_amt_5</th>\n",
              "      <td>2965.0</td>\n",
              "      <td>4913.286678</td>\n",
              "      <td>16734.340778</td>\n",
              "      <td>0.0</td>\n",
              "      <td>323.0</td>\n",
              "      <td>1646.0</td>\n",
              "      <td>4021.0</td>\n",
              "      <td>388071.0</td>\n",
              "    </tr>\n",
              "    <tr>\n",
              "      <th>pay_amt_6</th>\n",
              "      <td>2965.0</td>\n",
              "      <td>5382.701518</td>\n",
              "      <td>17275.953029</td>\n",
              "      <td>0.0</td>\n",
              "      <td>173.0</td>\n",
              "      <td>1615.0</td>\n",
              "      <td>4081.0</td>\n",
              "      <td>403500.0</td>\n",
              "    </tr>\n",
              "    <tr>\n",
              "      <th>default_payment_next_month</th>\n",
              "      <td>2965.0</td>\n",
              "      <td>0.214165</td>\n",
              "      <td>0.410311</td>\n",
              "      <td>0.0</td>\n",
              "      <td>0.0</td>\n",
              "      <td>0.0</td>\n",
              "      <td>0.0</td>\n",
              "      <td>1.0</td>\n",
              "    </tr>\n",
              "  </tbody>\n",
              "</table>\n",
              "</div>\n",
              "      <button class=\"colab-df-convert\" onclick=\"convertToInteractive('df-076751ed-8e42-444e-a7f1-9de429fc5361')\"\n",
              "              title=\"Convert this dataframe to an interactive table.\"\n",
              "              style=\"display:none;\">\n",
              "        \n",
              "  <svg xmlns=\"http://www.w3.org/2000/svg\" height=\"24px\"viewBox=\"0 0 24 24\"\n",
              "       width=\"24px\">\n",
              "    <path d=\"M0 0h24v24H0V0z\" fill=\"none\"/>\n",
              "    <path d=\"M18.56 5.44l.94 2.06.94-2.06 2.06-.94-2.06-.94-.94-2.06-.94 2.06-2.06.94zm-11 1L8.5 8.5l.94-2.06 2.06-.94-2.06-.94L8.5 2.5l-.94 2.06-2.06.94zm10 10l.94 2.06.94-2.06 2.06-.94-2.06-.94-.94-2.06-.94 2.06-2.06.94z\"/><path d=\"M17.41 7.96l-1.37-1.37c-.4-.4-.92-.59-1.43-.59-.52 0-1.04.2-1.43.59L10.3 9.45l-7.72 7.72c-.78.78-.78 2.05 0 2.83L4 21.41c.39.39.9.59 1.41.59.51 0 1.02-.2 1.41-.59l7.78-7.78 2.81-2.81c.8-.78.8-2.07 0-2.86zM5.41 20L4 18.59l7.72-7.72 1.47 1.35L5.41 20z\"/>\n",
              "  </svg>\n",
              "      </button>\n",
              "      \n",
              "  <style>\n",
              "    .colab-df-container {\n",
              "      display:flex;\n",
              "      flex-wrap:wrap;\n",
              "      gap: 12px;\n",
              "    }\n",
              "\n",
              "    .colab-df-convert {\n",
              "      background-color: #E8F0FE;\n",
              "      border: none;\n",
              "      border-radius: 50%;\n",
              "      cursor: pointer;\n",
              "      display: none;\n",
              "      fill: #1967D2;\n",
              "      height: 32px;\n",
              "      padding: 0 0 0 0;\n",
              "      width: 32px;\n",
              "    }\n",
              "\n",
              "    .colab-df-convert:hover {\n",
              "      background-color: #E2EBFA;\n",
              "      box-shadow: 0px 1px 2px rgba(60, 64, 67, 0.3), 0px 1px 3px 1px rgba(60, 64, 67, 0.15);\n",
              "      fill: #174EA6;\n",
              "    }\n",
              "\n",
              "    [theme=dark] .colab-df-convert {\n",
              "      background-color: #3B4455;\n",
              "      fill: #D2E3FC;\n",
              "    }\n",
              "\n",
              "    [theme=dark] .colab-df-convert:hover {\n",
              "      background-color: #434B5C;\n",
              "      box-shadow: 0px 1px 3px 1px rgba(0, 0, 0, 0.15);\n",
              "      filter: drop-shadow(0px 1px 2px rgba(0, 0, 0, 0.3));\n",
              "      fill: #FFFFFF;\n",
              "    }\n",
              "  </style>\n",
              "\n",
              "      <script>\n",
              "        const buttonEl =\n",
              "          document.querySelector('#df-076751ed-8e42-444e-a7f1-9de429fc5361 button.colab-df-convert');\n",
              "        buttonEl.style.display =\n",
              "          google.colab.kernel.accessAllowed ? 'block' : 'none';\n",
              "\n",
              "        async function convertToInteractive(key) {\n",
              "          const element = document.querySelector('#df-076751ed-8e42-444e-a7f1-9de429fc5361');\n",
              "          const dataTable =\n",
              "            await google.colab.kernel.invokeFunction('convertToInteractive',\n",
              "                                                     [key], {});\n",
              "          if (!dataTable) return;\n",
              "\n",
              "          const docLinkHtml = 'Like what you see? Visit the ' +\n",
              "            '<a target=\"_blank\" href=https://colab.research.google.com/notebooks/data_table.ipynb>data table notebook</a>'\n",
              "            + ' to learn more about interactive tables.';\n",
              "          element.innerHTML = '';\n",
              "          dataTable['output_type'] = 'display_data';\n",
              "          await google.colab.output.renderOutput(dataTable, element);\n",
              "          const docLink = document.createElement('div');\n",
              "          docLink.innerHTML = docLinkHtml;\n",
              "          element.appendChild(docLink);\n",
              "        }\n",
              "      </script>\n",
              "    </div>\n",
              "  </div>\n",
              "  "
            ]
          },
          "metadata": {},
          "execution_count": 10
        }
      ],
      "source": [
        "df.describe().T"
      ]
    },
    {
      "cell_type": "markdown",
      "metadata": {
        "id": "t4mTosFoi8ZG"
      },
      "source": [
        "Informasi yang didapatkan dari loading data dan overview:\n",
        "- dataframe terdapat data numerik dan data kategorikal\n",
        "- target data merupakan kolom 'default_payment_next_month', kolom tersebut berisi informasi ketepatan bayar seorang nasabah pada bulan selanjutnya\n",
        "- terdapatnya data duplicated yang selanjutnya akan dihapus pada proses cleaning data\n",
        "- tidak terdapatnya missing value\n",
        "\n",
        "Berikut adalah keterangan dari tiap-tiap kolom:\n",
        "\n",
        "- `limit_balance`   : Amount of given credit in NT dollars (includes individual and family/supplementary credit)        \n",
        "- `sex` : Gender (1=male, 2=female)\n",
        "- `education_level` : Education Level (1=graduate school, 2=university, 3=high school, 4=others, 5=unknown, 6=unknown)          \n",
        "- `marital_status`  : Marital status (1=married, 2=single, 3=others)           \n",
        "- `age` : Age in years            \n",
        "- `pay_0`   : Repayment status in September, 2005 (-1=pay duly, 1=payment delay for one month, 2=payment delay for two months, ... 8=payment delay for eight months, 9=payment delay for nine months and above)           \n",
        "- `pay_2`   : Repayment status in August, 2005 (scale same as above) \n",
        "- `pay_3`   : Repayment status in July, 2005 (scale same as above)               \n",
        "- `pay_4`   : Repayment status in June, 2005 (scale same as above)              \n",
        "- `pay_5`   : Repayment status in May, 2005 (scale same as above)              \n",
        "- `pay_6`   : Repayment status in April, 2005 (scale same as above)               \n",
        "- `bill_amt_1`  : Amount of bill statement in September, 2005 (NT dollar)             \n",
        "- `bill_amt_2`  : Amount of bill statement in August, 2005 (NT dollar)             \n",
        "- `bill_amt_3`  : Amount of bill statement in July, 2005 (NT dollar)             \n",
        "- `bill_amt_4`  : Amount of bill statement in June, 2005 (NT dollar)             \n",
        "- `bill_amt_5`  : Amount of bill statement in May, 2005 (NT dollar)             \n",
        "- `bill_amt_6`  : Amount of bill statement in April, 2005 (NT dollar)             \n",
        "- `pay_amt_1`   : Amount of previous payment in September, 2005 (NT dollar)              \n",
        "- `pay_amt_2`   : Amount of previous payment in August, 2005 (NT dollar)              \n",
        "- `pay_amt_3`   : Amount of previous payment in July, 2005 (NT dollar)              \n",
        "- `pay_amt_4`   : Amount of previous payment in June, 2005 (NT dollar)              \n",
        "- `pay_amt_5`   : Amount of previous payment in May, 2005 (NT dollar)              \n",
        "- `pay_amt_6`   : Amount of previous payment in April, 2005 (NT dollar)              \n",
        "- `default_payment_next_month`  : Default payment (1=yes, 0=no)\n",
        "\n",
        "Data pada kolom kategorikal:\n",
        "- terdapat beberapa angka yang tidak termasuk kedalam keterangan yang mana selanjutnya akan dilakukan feature engenering pada proses cleaning"
      ]
    },
    {
      "cell_type": "markdown",
      "metadata": {
        "id": "LL6HlmZ6i8ZH"
      },
      "source": [
        "### DATA CLEANING"
      ]
    },
    {
      "cell_type": "code",
      "execution_count": 11,
      "metadata": {
        "colab": {
          "base_uri": "https://localhost:8080/",
          "height": 0
        },
        "id": "yoINuJ8ei8ZH",
        "outputId": "5bc242a7-7ca3-4e43-d6f3-82f368a678b6"
      },
      "outputs": [
        {
          "output_type": "execute_result",
          "data": {
            "text/plain": [
              "   limit_balance  sex  education_level  marital_status   age  pay_0  pay_2  \\\n",
              "0       130000.0    1                1               1  45.0    0.0    0.0   \n",
              "1       230000.0    1                2               1  41.0    0.0    0.0   \n",
              "\n",
              "   pay_3  pay_4  pay_5  ...  bill_amt_4  bill_amt_5  bill_amt_6  pay_amt_1  \\\n",
              "0    0.0    0.0      0  ...     62377.0     63832.0     65099.0     2886.0   \n",
              "1    0.0    0.0      0  ...    216260.0    215968.0    174195.0     9405.0   \n",
              "\n",
              "   pay_amt_2  pay_amt_3  pay_amt_4  pay_amt_5  pay_amt_6  \\\n",
              "0     2908.0     2129.0     2354.0     2366.0     2291.0   \n",
              "1     7769.0     7757.0     8030.0     6549.0     5226.0   \n",
              "\n",
              "   default_payment_next_month  \n",
              "0                           0  \n",
              "1                           1  \n",
              "\n",
              "[2 rows x 24 columns]"
            ],
            "text/html": [
              "\n",
              "  <div id=\"df-4e8d3d37-f942-4494-8b83-d5dc0e21ee28\">\n",
              "    <div class=\"colab-df-container\">\n",
              "      <div>\n",
              "<style scoped>\n",
              "    .dataframe tbody tr th:only-of-type {\n",
              "        vertical-align: middle;\n",
              "    }\n",
              "\n",
              "    .dataframe tbody tr th {\n",
              "        vertical-align: top;\n",
              "    }\n",
              "\n",
              "    .dataframe thead th {\n",
              "        text-align: right;\n",
              "    }\n",
              "</style>\n",
              "<table border=\"1\" class=\"dataframe\">\n",
              "  <thead>\n",
              "    <tr style=\"text-align: right;\">\n",
              "      <th></th>\n",
              "      <th>limit_balance</th>\n",
              "      <th>sex</th>\n",
              "      <th>education_level</th>\n",
              "      <th>marital_status</th>\n",
              "      <th>age</th>\n",
              "      <th>pay_0</th>\n",
              "      <th>pay_2</th>\n",
              "      <th>pay_3</th>\n",
              "      <th>pay_4</th>\n",
              "      <th>pay_5</th>\n",
              "      <th>...</th>\n",
              "      <th>bill_amt_4</th>\n",
              "      <th>bill_amt_5</th>\n",
              "      <th>bill_amt_6</th>\n",
              "      <th>pay_amt_1</th>\n",
              "      <th>pay_amt_2</th>\n",
              "      <th>pay_amt_3</th>\n",
              "      <th>pay_amt_4</th>\n",
              "      <th>pay_amt_5</th>\n",
              "      <th>pay_amt_6</th>\n",
              "      <th>default_payment_next_month</th>\n",
              "    </tr>\n",
              "  </thead>\n",
              "  <tbody>\n",
              "    <tr>\n",
              "      <th>0</th>\n",
              "      <td>130000.0</td>\n",
              "      <td>1</td>\n",
              "      <td>1</td>\n",
              "      <td>1</td>\n",
              "      <td>45.0</td>\n",
              "      <td>0.0</td>\n",
              "      <td>0.0</td>\n",
              "      <td>0.0</td>\n",
              "      <td>0.0</td>\n",
              "      <td>0</td>\n",
              "      <td>...</td>\n",
              "      <td>62377.0</td>\n",
              "      <td>63832.0</td>\n",
              "      <td>65099.0</td>\n",
              "      <td>2886.0</td>\n",
              "      <td>2908.0</td>\n",
              "      <td>2129.0</td>\n",
              "      <td>2354.0</td>\n",
              "      <td>2366.0</td>\n",
              "      <td>2291.0</td>\n",
              "      <td>0</td>\n",
              "    </tr>\n",
              "    <tr>\n",
              "      <th>1</th>\n",
              "      <td>230000.0</td>\n",
              "      <td>1</td>\n",
              "      <td>2</td>\n",
              "      <td>1</td>\n",
              "      <td>41.0</td>\n",
              "      <td>0.0</td>\n",
              "      <td>0.0</td>\n",
              "      <td>0.0</td>\n",
              "      <td>0.0</td>\n",
              "      <td>0</td>\n",
              "      <td>...</td>\n",
              "      <td>216260.0</td>\n",
              "      <td>215968.0</td>\n",
              "      <td>174195.0</td>\n",
              "      <td>9405.0</td>\n",
              "      <td>7769.0</td>\n",
              "      <td>7757.0</td>\n",
              "      <td>8030.0</td>\n",
              "      <td>6549.0</td>\n",
              "      <td>5226.0</td>\n",
              "      <td>1</td>\n",
              "    </tr>\n",
              "  </tbody>\n",
              "</table>\n",
              "<p>2 rows × 24 columns</p>\n",
              "</div>\n",
              "      <button class=\"colab-df-convert\" onclick=\"convertToInteractive('df-4e8d3d37-f942-4494-8b83-d5dc0e21ee28')\"\n",
              "              title=\"Convert this dataframe to an interactive table.\"\n",
              "              style=\"display:none;\">\n",
              "        \n",
              "  <svg xmlns=\"http://www.w3.org/2000/svg\" height=\"24px\"viewBox=\"0 0 24 24\"\n",
              "       width=\"24px\">\n",
              "    <path d=\"M0 0h24v24H0V0z\" fill=\"none\"/>\n",
              "    <path d=\"M18.56 5.44l.94 2.06.94-2.06 2.06-.94-2.06-.94-.94-2.06-.94 2.06-2.06.94zm-11 1L8.5 8.5l.94-2.06 2.06-.94-2.06-.94L8.5 2.5l-.94 2.06-2.06.94zm10 10l.94 2.06.94-2.06 2.06-.94-2.06-.94-.94-2.06-.94 2.06-2.06.94z\"/><path d=\"M17.41 7.96l-1.37-1.37c-.4-.4-.92-.59-1.43-.59-.52 0-1.04.2-1.43.59L10.3 9.45l-7.72 7.72c-.78.78-.78 2.05 0 2.83L4 21.41c.39.39.9.59 1.41.59.51 0 1.02-.2 1.41-.59l7.78-7.78 2.81-2.81c.8-.78.8-2.07 0-2.86zM5.41 20L4 18.59l7.72-7.72 1.47 1.35L5.41 20z\"/>\n",
              "  </svg>\n",
              "      </button>\n",
              "      \n",
              "  <style>\n",
              "    .colab-df-container {\n",
              "      display:flex;\n",
              "      flex-wrap:wrap;\n",
              "      gap: 12px;\n",
              "    }\n",
              "\n",
              "    .colab-df-convert {\n",
              "      background-color: #E8F0FE;\n",
              "      border: none;\n",
              "      border-radius: 50%;\n",
              "      cursor: pointer;\n",
              "      display: none;\n",
              "      fill: #1967D2;\n",
              "      height: 32px;\n",
              "      padding: 0 0 0 0;\n",
              "      width: 32px;\n",
              "    }\n",
              "\n",
              "    .colab-df-convert:hover {\n",
              "      background-color: #E2EBFA;\n",
              "      box-shadow: 0px 1px 2px rgba(60, 64, 67, 0.3), 0px 1px 3px 1px rgba(60, 64, 67, 0.15);\n",
              "      fill: #174EA6;\n",
              "    }\n",
              "\n",
              "    [theme=dark] .colab-df-convert {\n",
              "      background-color: #3B4455;\n",
              "      fill: #D2E3FC;\n",
              "    }\n",
              "\n",
              "    [theme=dark] .colab-df-convert:hover {\n",
              "      background-color: #434B5C;\n",
              "      box-shadow: 0px 1px 3px 1px rgba(0, 0, 0, 0.15);\n",
              "      filter: drop-shadow(0px 1px 2px rgba(0, 0, 0, 0.3));\n",
              "      fill: #FFFFFF;\n",
              "    }\n",
              "  </style>\n",
              "\n",
              "      <script>\n",
              "        const buttonEl =\n",
              "          document.querySelector('#df-4e8d3d37-f942-4494-8b83-d5dc0e21ee28 button.colab-df-convert');\n",
              "        buttonEl.style.display =\n",
              "          google.colab.kernel.accessAllowed ? 'block' : 'none';\n",
              "\n",
              "        async function convertToInteractive(key) {\n",
              "          const element = document.querySelector('#df-4e8d3d37-f942-4494-8b83-d5dc0e21ee28');\n",
              "          const dataTable =\n",
              "            await google.colab.kernel.invokeFunction('convertToInteractive',\n",
              "                                                     [key], {});\n",
              "          if (!dataTable) return;\n",
              "\n",
              "          const docLinkHtml = 'Like what you see? Visit the ' +\n",
              "            '<a target=\"_blank\" href=https://colab.research.google.com/notebooks/data_table.ipynb>data table notebook</a>'\n",
              "            + ' to learn more about interactive tables.';\n",
              "          element.innerHTML = '';\n",
              "          dataTable['output_type'] = 'display_data';\n",
              "          await google.colab.output.renderOutput(dataTable, element);\n",
              "          const docLink = document.createElement('div');\n",
              "          docLink.innerHTML = docLinkHtml;\n",
              "          element.appendChild(docLink);\n",
              "        }\n",
              "      </script>\n",
              "    </div>\n",
              "  </div>\n",
              "  "
            ]
          },
          "metadata": {},
          "execution_count": 11
        }
      ],
      "source": [
        "df_clean = df.copy()\n",
        "df_clean.head(2)"
      ]
    },
    {
      "cell_type": "code",
      "execution_count": 12,
      "metadata": {
        "colab": {
          "base_uri": "https://localhost:8080/"
        },
        "id": "DOvpvTALi8ZH",
        "outputId": "dcf32d76-d135-44ee-b975-d5d058724902"
      },
      "outputs": [
        {
          "output_type": "execute_result",
          "data": {
            "text/plain": [
              "(1, 24)"
            ]
          },
          "metadata": {},
          "execution_count": 12
        }
      ],
      "source": [
        "df_clean[df_clean.duplicated()].shape"
      ]
    },
    {
      "cell_type": "code",
      "execution_count": 13,
      "metadata": {
        "colab": {
          "base_uri": "https://localhost:8080/"
        },
        "id": "0MAbE6vii8ZI",
        "outputId": "0c246e30-ace2-43e2-f8b3-590a2ff9da42"
      },
      "outputs": [
        {
          "output_type": "execute_result",
          "data": {
            "text/plain": [
              "(0, 24)"
            ]
          },
          "metadata": {},
          "execution_count": 13
        }
      ],
      "source": [
        "df_clean.drop_duplicates(inplace=True)\n",
        "\n",
        "df_clean[df_clean.duplicated()].shape"
      ]
    },
    {
      "cell_type": "markdown",
      "metadata": {
        "id": "LvDMNpqEi8ZI"
      },
      "source": [
        "- `sex` : Gender (1=male, 2=female)"
      ]
    },
    {
      "cell_type": "code",
      "execution_count": 14,
      "metadata": {
        "colab": {
          "base_uri": "https://localhost:8080/"
        },
        "id": "TaequMXfi8ZI",
        "outputId": "f4f1cc50-60ba-443c-82c0-5f250e31ba0f"
      },
      "outputs": [
        {
          "output_type": "execute_result",
          "data": {
            "text/plain": [
              "2    1801\n",
              "1    1163\n",
              "Name: sex, dtype: int64"
            ]
          },
          "metadata": {},
          "execution_count": 14
        }
      ],
      "source": [
        "df_clean['sex'].value_counts()"
      ]
    },
    {
      "cell_type": "markdown",
      "metadata": {
        "id": "8bFE254ei8ZJ"
      },
      "source": [
        "- `education_level` : Education Level (1=graduate school, 2=university, 3=high school, 4=others, 5=unknown, 6=unknown)  "
      ]
    },
    {
      "cell_type": "code",
      "execution_count": 15,
      "metadata": {
        "colab": {
          "base_uri": "https://localhost:8080/"
        },
        "id": "IOGM_Plpi8ZJ",
        "outputId": "2e97d302-b5ae-4a8f-e038-e947bee622c3"
      },
      "outputs": [
        {
          "output_type": "execute_result",
          "data": {
            "text/plain": [
              "2    1400\n",
              "1    1038\n",
              "3     483\n",
              "5      24\n",
              "4      13\n",
              "6       4\n",
              "0       2\n",
              "Name: education_level, dtype: int64"
            ]
          },
          "metadata": {},
          "execution_count": 15
        }
      ],
      "source": [
        "df_clean['education_level'].value_counts()"
      ]
    },
    {
      "cell_type": "code",
      "execution_count": 16,
      "metadata": {
        "colab": {
          "base_uri": "https://localhost:8080/"
        },
        "id": "-5A94lgFi8ZJ",
        "outputId": "7dc60c90-9a20-49f6-ac50-6813abab6a2b"
      },
      "outputs": [
        {
          "output_type": "execute_result",
          "data": {
            "text/plain": [
              "2    1400\n",
              "1    1038\n",
              "3     483\n",
              "4      43\n",
              "Name: education_level, dtype: int64"
            ]
          },
          "metadata": {},
          "execution_count": 16
        }
      ],
      "source": [
        "df_clean.education_level.replace({0: 4, 5: 4, 6:4}, inplace=True)\n",
        "df_clean.education_level.value_counts()"
      ]
    },
    {
      "cell_type": "markdown",
      "metadata": {
        "id": "q6GtJ4T_i8ZJ"
      },
      "source": [
        "- `marital_status`  : Marital status (1=married, 2=single, 3=others)   "
      ]
    },
    {
      "cell_type": "code",
      "execution_count": 17,
      "metadata": {
        "colab": {
          "base_uri": "https://localhost:8080/"
        },
        "id": "XBXt3Gnji8ZJ",
        "outputId": "3dd1dff6-3638-4c97-fe68-4554d83be758"
      },
      "outputs": [
        {
          "output_type": "execute_result",
          "data": {
            "text/plain": [
              "2    1594\n",
              "1    1331\n",
              "3      35\n",
              "0       4\n",
              "Name: marital_status, dtype: int64"
            ]
          },
          "metadata": {},
          "execution_count": 17
        }
      ],
      "source": [
        "df_clean['marital_status'].value_counts()"
      ]
    },
    {
      "cell_type": "code",
      "execution_count": 18,
      "metadata": {
        "colab": {
          "base_uri": "https://localhost:8080/"
        },
        "id": "ebXsYrnni8ZK",
        "outputId": "16127ac3-89eb-4c52-961d-1aeecdcc4063"
      },
      "outputs": [
        {
          "output_type": "execute_result",
          "data": {
            "text/plain": [
              "2    1594\n",
              "1    1331\n",
              "3      39\n",
              "Name: marital_status, dtype: int64"
            ]
          },
          "metadata": {},
          "execution_count": 18
        }
      ],
      "source": [
        "df_clean.marital_status.replace({0: 3}, inplace=True)\n",
        "df_clean.marital_status.value_counts()"
      ]
    },
    {
      "cell_type": "markdown",
      "metadata": {
        "id": "uevknbGGi8ZK"
      },
      "source": [
        "- `pay_0`   : Repayment status in September, 2005 (-1=pay duly, 1=payment delay for one month, 2=payment delay for two months, ... 8=payment delay for eight months, 9=payment delay for nine months and above)           \n",
        "- `pay_2`   : Repayment status in August, 2005 (scale same as above) \n",
        "- `pay_3`   : Repayment status in July, 2005 (scale same as above)               \n",
        "- `pay_4`   : Repayment status in June, 2005 (scale same as above)              \n",
        "- `pay_5`   : Repayment status in May, 2005 (scale same as above)              \n",
        "- `pay_6`   : Repayment status in April, 2005 (scale same as above)"
      ]
    },
    {
      "cell_type": "code",
      "execution_count": 19,
      "metadata": {
        "colab": {
          "base_uri": "https://localhost:8080/"
        },
        "id": "-aASJHXLi8ZK",
        "outputId": "dfa1c45e-34d6-45dc-a268-ad2cb409b909"
      },
      "outputs": [
        {
          "output_type": "execute_result",
          "data": {
            "text/plain": [
              " 0.0    1516\n",
              "-1.0     540\n",
              " 1.0     355\n",
              " 2.0     262\n",
              "-2.0     247\n",
              " 3.0      29\n",
              " 4.0       7\n",
              " 8.0       3\n",
              " 5.0       2\n",
              " 7.0       2\n",
              " 6.0       1\n",
              "Name: pay_0, dtype: int64"
            ]
          },
          "metadata": {},
          "execution_count": 19
        }
      ],
      "source": [
        "df_clean['pay_0'].value_counts()"
      ]
    },
    {
      "cell_type": "code",
      "execution_count": 20,
      "metadata": {
        "colab": {
          "base_uri": "https://localhost:8080/"
        },
        "id": "E3bDNHGei8ZK",
        "outputId": "42b05aea-af5d-4940-a736-251047230f94"
      },
      "outputs": [
        {
          "output_type": "execute_result",
          "data": {
            "text/plain": [
              "0.0    2303\n",
              "1.0     355\n",
              "2.0     262\n",
              "3.0      44\n",
              "Name: pay_0, dtype: int64"
            ]
          },
          "metadata": {},
          "execution_count": 20
        }
      ],
      "source": [
        "df_clean.pay_0.replace({-1: 0, -2: 0, 4:3, 5:3, 6:3, 7:3, 8:3}, inplace=True)\n",
        "df_clean.pay_0.value_counts()"
      ]
    },
    {
      "cell_type": "code",
      "execution_count": 21,
      "metadata": {
        "colab": {
          "base_uri": "https://localhost:8080/"
        },
        "id": "0i0FaR53i8ZK",
        "outputId": "2b941fc5-6c82-4155-bc68-447afcf39893"
      },
      "outputs": [
        {
          "output_type": "execute_result",
          "data": {
            "text/plain": [
              " 0.0    1607\n",
              "-1.0     580\n",
              " 2.0     374\n",
              "-2.0     352\n",
              " 3.0      32\n",
              " 4.0       8\n",
              " 1.0       4\n",
              " 7.0       3\n",
              " 5.0       2\n",
              " 6.0       2\n",
              "Name: pay_2, dtype: int64"
            ]
          },
          "metadata": {},
          "execution_count": 21
        }
      ],
      "source": [
        "df_clean.pay_2.value_counts()"
      ]
    },
    {
      "cell_type": "code",
      "execution_count": 22,
      "metadata": {
        "colab": {
          "base_uri": "https://localhost:8080/"
        },
        "id": "7auaDItFi8ZK",
        "outputId": "347cffcb-64e6-4af5-ee69-3b2e281ba697"
      },
      "outputs": [
        {
          "output_type": "execute_result",
          "data": {
            "text/plain": [
              "0.0    2539\n",
              "2.0     374\n",
              "3.0      47\n",
              "1.0       4\n",
              "Name: pay_2, dtype: int64"
            ]
          },
          "metadata": {},
          "execution_count": 22
        }
      ],
      "source": [
        "df_clean.pay_2.replace({-1: 0, -2: 0, 4:3, 5:3, 6:3, 7:3, 8:3}, inplace=True)\n",
        "df_clean.pay_2.value_counts()"
      ]
    },
    {
      "cell_type": "code",
      "execution_count": 23,
      "metadata": {
        "colab": {
          "base_uri": "https://localhost:8080/"
        },
        "id": "QdIpjgdDi8ZL",
        "outputId": "798415c1-8054-4c1f-fc63-05b88ce1ebf7"
      },
      "outputs": [
        {
          "output_type": "execute_result",
          "data": {
            "text/plain": [
              " 0.0    1610\n",
              "-1.0     580\n",
              " 2.0     368\n",
              "-2.0     366\n",
              " 3.0      22\n",
              " 4.0       8\n",
              " 6.0       4\n",
              " 5.0       3\n",
              " 7.0       3\n",
              "Name: pay_3, dtype: int64"
            ]
          },
          "metadata": {},
          "execution_count": 23
        }
      ],
      "source": [
        "df_clean.pay_3.value_counts()"
      ]
    },
    {
      "cell_type": "code",
      "execution_count": 24,
      "metadata": {
        "colab": {
          "base_uri": "https://localhost:8080/"
        },
        "id": "ZuINBRasi8ZL",
        "outputId": "8a409fab-bcef-40f8-e666-08b6360cdae6"
      },
      "outputs": [
        {
          "output_type": "execute_result",
          "data": {
            "text/plain": [
              "0.0    2556\n",
              "2.0     368\n",
              "3.0      40\n",
              "Name: pay_3, dtype: int64"
            ]
          },
          "metadata": {},
          "execution_count": 24
        }
      ],
      "source": [
        "df_clean.pay_3.replace({-1: 0, -2: 0, 4:3, 5:3, 6:3, 7:3, 8:3}, inplace=True)\n",
        "df_clean.pay_3.value_counts()"
      ]
    },
    {
      "cell_type": "code",
      "execution_count": 25,
      "metadata": {
        "colab": {
          "base_uri": "https://localhost:8080/"
        },
        "id": "CZ3p_8HLi8ZL",
        "outputId": "406e85eb-8c06-4b47-a00e-17011a2f989f"
      },
      "outputs": [
        {
          "output_type": "execute_result",
          "data": {
            "text/plain": [
              " 0.0    1667\n",
              "-1.0     532\n",
              "-2.0     407\n",
              " 2.0     324\n",
              " 3.0      14\n",
              " 4.0       7\n",
              " 7.0       6\n",
              " 5.0       5\n",
              " 6.0       1\n",
              " 8.0       1\n",
              "Name: pay_4, dtype: int64"
            ]
          },
          "metadata": {},
          "execution_count": 25
        }
      ],
      "source": [
        "df_clean.pay_4.value_counts()"
      ]
    },
    {
      "cell_type": "code",
      "execution_count": 26,
      "metadata": {
        "colab": {
          "base_uri": "https://localhost:8080/"
        },
        "id": "MDhJiQsCi8ZL",
        "outputId": "286b382f-2465-49f9-cbe9-7512b31a38ef"
      },
      "outputs": [
        {
          "output_type": "execute_result",
          "data": {
            "text/plain": [
              "0.0    2606\n",
              "2.0     324\n",
              "3.0      34\n",
              "Name: pay_4, dtype: int64"
            ]
          },
          "metadata": {},
          "execution_count": 26
        }
      ],
      "source": [
        "df_clean.pay_4.replace({-1: 0, -2: 0, 4:3, 5:3, 6:3, 7:3, 8:3}, inplace=True)\n",
        "df_clean.pay_4.value_counts()"
      ]
    },
    {
      "cell_type": "code",
      "execution_count": 27,
      "metadata": {
        "colab": {
          "base_uri": "https://localhost:8080/"
        },
        "id": "8uReH0Z-i8ZL",
        "outputId": "3be692db-4bc8-41a5-e89b-204e727cc5d2"
      },
      "outputs": [
        {
          "output_type": "execute_result",
          "data": {
            "text/plain": [
              " 0    1702\n",
              "-1     504\n",
              "-2     440\n",
              " 2     280\n",
              " 3      19\n",
              " 4       9\n",
              " 7       7\n",
              " 5       2\n",
              " 6       1\n",
              "Name: pay_5, dtype: int64"
            ]
          },
          "metadata": {},
          "execution_count": 27
        }
      ],
      "source": [
        "df_clean.pay_5.value_counts()"
      ]
    },
    {
      "cell_type": "code",
      "execution_count": 28,
      "metadata": {
        "colab": {
          "base_uri": "https://localhost:8080/"
        },
        "id": "3FFr8inri8ZL",
        "outputId": "1bcb5f3b-a6a4-4e44-afbd-9b3fba8291ca"
      },
      "outputs": [
        {
          "output_type": "execute_result",
          "data": {
            "text/plain": [
              "0    2646\n",
              "2     280\n",
              "3      38\n",
              "Name: pay_5, dtype: int64"
            ]
          },
          "metadata": {},
          "execution_count": 28
        }
      ],
      "source": [
        "df_clean.pay_5.replace({-1: 0, -2: 0, 4:3, 5:3, 6:3, 7:3, 8:3}, inplace=True)\n",
        "df_clean.pay_5.value_counts()"
      ]
    },
    {
      "cell_type": "code",
      "execution_count": 29,
      "metadata": {
        "colab": {
          "base_uri": "https://localhost:8080/"
        },
        "id": "952Yqw_Ji8ZM",
        "outputId": "93276a3f-5d1d-42bc-ebae-5442cea3dc79"
      },
      "outputs": [
        {
          "output_type": "execute_result",
          "data": {
            "text/plain": [
              " 0    1626\n",
              "-1     540\n",
              "-2     469\n",
              " 2     297\n",
              " 3      21\n",
              " 7       6\n",
              " 6       3\n",
              " 4       2\n",
              "Name: pay_6, dtype: int64"
            ]
          },
          "metadata": {},
          "execution_count": 29
        }
      ],
      "source": [
        "df_clean.pay_6.value_counts()"
      ]
    },
    {
      "cell_type": "code",
      "execution_count": 30,
      "metadata": {
        "colab": {
          "base_uri": "https://localhost:8080/"
        },
        "id": "HwAR4tzii8ZM",
        "outputId": "3e6dbb07-b439-4fb8-acb4-479644b2e053"
      },
      "outputs": [
        {
          "output_type": "execute_result",
          "data": {
            "text/plain": [
              "0    2635\n",
              "2     297\n",
              "3      32\n",
              "Name: pay_6, dtype: int64"
            ]
          },
          "metadata": {},
          "execution_count": 30
        }
      ],
      "source": [
        "df_clean.pay_6.replace({-1: 0, -2: 0, 4:3, 5:3, 6:3, 7:3, 8:3}, inplace=True)\n",
        "df_clean.pay_6.value_counts()"
      ]
    },
    {
      "cell_type": "code",
      "execution_count": 31,
      "metadata": {
        "colab": {
          "base_uri": "https://localhost:8080/"
        },
        "id": "1zn_ixc9i8ZM",
        "outputId": "48538f1a-ff79-4ba7-bd34-f9f46aadb759"
      },
      "outputs": [
        {
          "output_type": "execute_result",
          "data": {
            "text/plain": [
              "(2964, 24)"
            ]
          },
          "metadata": {},
          "execution_count": 31
        }
      ],
      "source": [
        "df_clean.shape"
      ]
    },
    {
      "cell_type": "code",
      "execution_count": 32,
      "metadata": {
        "colab": {
          "base_uri": "https://localhost:8080/"
        },
        "id": "inAmgLEzi8ZM",
        "outputId": "ff4f3c42-8161-4d4a-e62c-7e66acca117f"
      },
      "outputs": [
        {
          "output_type": "execute_result",
          "data": {
            "text/plain": [
              "0    2329\n",
              "1     635\n",
              "Name: default_payment_next_month, dtype: int64"
            ]
          },
          "metadata": {},
          "execution_count": 32
        }
      ],
      "source": [
        "df_clean.default_payment_next_month.value_counts()\n"
      ]
    },
    {
      "cell_type": "code",
      "execution_count": 33,
      "metadata": {
        "colab": {
          "base_uri": "https://localhost:8080/",
          "height": 0
        },
        "id": "J5u1H9tQi8ZM",
        "outputId": "7fa851d6-59c0-4968-cdc4-92ab1b70c271"
      },
      "outputs": [
        {
          "output_type": "execute_result",
          "data": {
            "text/plain": [
              "   limit_balance  sex  education_level  marital_status   age  pay_0  pay_2  \\\n",
              "0       130000.0    1                1               1  45.0    0.0    0.0   \n",
              "1       230000.0    1                2               1  41.0    0.0    0.0   \n",
              "\n",
              "   pay_3  pay_4  pay_5  ...  bill_amt_4  bill_amt_5  bill_amt_6  pay_amt_1  \\\n",
              "0    0.0    0.0      0  ...     62377.0     63832.0     65099.0     2886.0   \n",
              "1    0.0    0.0      0  ...    216260.0    215968.0    174195.0     9405.0   \n",
              "\n",
              "   pay_amt_2  pay_amt_3  pay_amt_4  pay_amt_5  pay_amt_6  \\\n",
              "0     2908.0     2129.0     2354.0     2366.0     2291.0   \n",
              "1     7769.0     7757.0     8030.0     6549.0     5226.0   \n",
              "\n",
              "   default_payment_next_month  \n",
              "0                           0  \n",
              "1                           1  \n",
              "\n",
              "[2 rows x 24 columns]"
            ],
            "text/html": [
              "\n",
              "  <div id=\"df-58f294ab-443b-4126-939f-744fdc2335f1\">\n",
              "    <div class=\"colab-df-container\">\n",
              "      <div>\n",
              "<style scoped>\n",
              "    .dataframe tbody tr th:only-of-type {\n",
              "        vertical-align: middle;\n",
              "    }\n",
              "\n",
              "    .dataframe tbody tr th {\n",
              "        vertical-align: top;\n",
              "    }\n",
              "\n",
              "    .dataframe thead th {\n",
              "        text-align: right;\n",
              "    }\n",
              "</style>\n",
              "<table border=\"1\" class=\"dataframe\">\n",
              "  <thead>\n",
              "    <tr style=\"text-align: right;\">\n",
              "      <th></th>\n",
              "      <th>limit_balance</th>\n",
              "      <th>sex</th>\n",
              "      <th>education_level</th>\n",
              "      <th>marital_status</th>\n",
              "      <th>age</th>\n",
              "      <th>pay_0</th>\n",
              "      <th>pay_2</th>\n",
              "      <th>pay_3</th>\n",
              "      <th>pay_4</th>\n",
              "      <th>pay_5</th>\n",
              "      <th>...</th>\n",
              "      <th>bill_amt_4</th>\n",
              "      <th>bill_amt_5</th>\n",
              "      <th>bill_amt_6</th>\n",
              "      <th>pay_amt_1</th>\n",
              "      <th>pay_amt_2</th>\n",
              "      <th>pay_amt_3</th>\n",
              "      <th>pay_amt_4</th>\n",
              "      <th>pay_amt_5</th>\n",
              "      <th>pay_amt_6</th>\n",
              "      <th>default_payment_next_month</th>\n",
              "    </tr>\n",
              "  </thead>\n",
              "  <tbody>\n",
              "    <tr>\n",
              "      <th>0</th>\n",
              "      <td>130000.0</td>\n",
              "      <td>1</td>\n",
              "      <td>1</td>\n",
              "      <td>1</td>\n",
              "      <td>45.0</td>\n",
              "      <td>0.0</td>\n",
              "      <td>0.0</td>\n",
              "      <td>0.0</td>\n",
              "      <td>0.0</td>\n",
              "      <td>0</td>\n",
              "      <td>...</td>\n",
              "      <td>62377.0</td>\n",
              "      <td>63832.0</td>\n",
              "      <td>65099.0</td>\n",
              "      <td>2886.0</td>\n",
              "      <td>2908.0</td>\n",
              "      <td>2129.0</td>\n",
              "      <td>2354.0</td>\n",
              "      <td>2366.0</td>\n",
              "      <td>2291.0</td>\n",
              "      <td>0</td>\n",
              "    </tr>\n",
              "    <tr>\n",
              "      <th>1</th>\n",
              "      <td>230000.0</td>\n",
              "      <td>1</td>\n",
              "      <td>2</td>\n",
              "      <td>1</td>\n",
              "      <td>41.0</td>\n",
              "      <td>0.0</td>\n",
              "      <td>0.0</td>\n",
              "      <td>0.0</td>\n",
              "      <td>0.0</td>\n",
              "      <td>0</td>\n",
              "      <td>...</td>\n",
              "      <td>216260.0</td>\n",
              "      <td>215968.0</td>\n",
              "      <td>174195.0</td>\n",
              "      <td>9405.0</td>\n",
              "      <td>7769.0</td>\n",
              "      <td>7757.0</td>\n",
              "      <td>8030.0</td>\n",
              "      <td>6549.0</td>\n",
              "      <td>5226.0</td>\n",
              "      <td>1</td>\n",
              "    </tr>\n",
              "  </tbody>\n",
              "</table>\n",
              "<p>2 rows × 24 columns</p>\n",
              "</div>\n",
              "      <button class=\"colab-df-convert\" onclick=\"convertToInteractive('df-58f294ab-443b-4126-939f-744fdc2335f1')\"\n",
              "              title=\"Convert this dataframe to an interactive table.\"\n",
              "              style=\"display:none;\">\n",
              "        \n",
              "  <svg xmlns=\"http://www.w3.org/2000/svg\" height=\"24px\"viewBox=\"0 0 24 24\"\n",
              "       width=\"24px\">\n",
              "    <path d=\"M0 0h24v24H0V0z\" fill=\"none\"/>\n",
              "    <path d=\"M18.56 5.44l.94 2.06.94-2.06 2.06-.94-2.06-.94-.94-2.06-.94 2.06-2.06.94zm-11 1L8.5 8.5l.94-2.06 2.06-.94-2.06-.94L8.5 2.5l-.94 2.06-2.06.94zm10 10l.94 2.06.94-2.06 2.06-.94-2.06-.94-.94-2.06-.94 2.06-2.06.94z\"/><path d=\"M17.41 7.96l-1.37-1.37c-.4-.4-.92-.59-1.43-.59-.52 0-1.04.2-1.43.59L10.3 9.45l-7.72 7.72c-.78.78-.78 2.05 0 2.83L4 21.41c.39.39.9.59 1.41.59.51 0 1.02-.2 1.41-.59l7.78-7.78 2.81-2.81c.8-.78.8-2.07 0-2.86zM5.41 20L4 18.59l7.72-7.72 1.47 1.35L5.41 20z\"/>\n",
              "  </svg>\n",
              "      </button>\n",
              "      \n",
              "  <style>\n",
              "    .colab-df-container {\n",
              "      display:flex;\n",
              "      flex-wrap:wrap;\n",
              "      gap: 12px;\n",
              "    }\n",
              "\n",
              "    .colab-df-convert {\n",
              "      background-color: #E8F0FE;\n",
              "      border: none;\n",
              "      border-radius: 50%;\n",
              "      cursor: pointer;\n",
              "      display: none;\n",
              "      fill: #1967D2;\n",
              "      height: 32px;\n",
              "      padding: 0 0 0 0;\n",
              "      width: 32px;\n",
              "    }\n",
              "\n",
              "    .colab-df-convert:hover {\n",
              "      background-color: #E2EBFA;\n",
              "      box-shadow: 0px 1px 2px rgba(60, 64, 67, 0.3), 0px 1px 3px 1px rgba(60, 64, 67, 0.15);\n",
              "      fill: #174EA6;\n",
              "    }\n",
              "\n",
              "    [theme=dark] .colab-df-convert {\n",
              "      background-color: #3B4455;\n",
              "      fill: #D2E3FC;\n",
              "    }\n",
              "\n",
              "    [theme=dark] .colab-df-convert:hover {\n",
              "      background-color: #434B5C;\n",
              "      box-shadow: 0px 1px 3px 1px rgba(0, 0, 0, 0.15);\n",
              "      filter: drop-shadow(0px 1px 2px rgba(0, 0, 0, 0.3));\n",
              "      fill: #FFFFFF;\n",
              "    }\n",
              "  </style>\n",
              "\n",
              "      <script>\n",
              "        const buttonEl =\n",
              "          document.querySelector('#df-58f294ab-443b-4126-939f-744fdc2335f1 button.colab-df-convert');\n",
              "        buttonEl.style.display =\n",
              "          google.colab.kernel.accessAllowed ? 'block' : 'none';\n",
              "\n",
              "        async function convertToInteractive(key) {\n",
              "          const element = document.querySelector('#df-58f294ab-443b-4126-939f-744fdc2335f1');\n",
              "          const dataTable =\n",
              "            await google.colab.kernel.invokeFunction('convertToInteractive',\n",
              "                                                     [key], {});\n",
              "          if (!dataTable) return;\n",
              "\n",
              "          const docLinkHtml = 'Like what you see? Visit the ' +\n",
              "            '<a target=\"_blank\" href=https://colab.research.google.com/notebooks/data_table.ipynb>data table notebook</a>'\n",
              "            + ' to learn more about interactive tables.';\n",
              "          element.innerHTML = '';\n",
              "          dataTable['output_type'] = 'display_data';\n",
              "          await google.colab.output.renderOutput(dataTable, element);\n",
              "          const docLink = document.createElement('div');\n",
              "          docLink.innerHTML = docLinkHtml;\n",
              "          element.appendChild(docLink);\n",
              "        }\n",
              "      </script>\n",
              "    </div>\n",
              "  </div>\n",
              "  "
            ]
          },
          "metadata": {},
          "execution_count": 33
        }
      ],
      "source": [
        "df_clean.head(2)"
      ]
    },
    {
      "cell_type": "markdown",
      "metadata": {
        "id": "3wNZSmhwhNXT"
      },
      "source": [
        "Proses yang dilakukan pada cleaning data:\n",
        "- penghapusan duplicated data\n",
        "- pengecekan value pada kolom yang memiliki data kategorikal\n",
        "- data pada kolom 'sex' sesuai dengan keterangan data\n",
        "- kolom 'education_level': menggabung value 5 dan 6 kedalam value 4\n",
        "- kolom 'marital_status': menggabung value 0 kedalam value 3\n",
        "- kolom 'pay' yang mana terdapat 6 kolom: mengelompokan kelas hanya kedalam 4 kelompok yang mana, 0 = bayar tepat waktu; 1 = bayar terlambat 1 bulan, 2 = bayar terlambat 2 bulan; 3 = bayar terlambat lebih dari 3 bulan\n",
        "- data pada kolom target yaitu 'default_payment_next_month' sudah sesuai dengan keterangan data"
      ]
    },
    {
      "cell_type": "markdown",
      "metadata": {
        "id": "lDIffBsui8ZM"
      },
      "source": [
        "### EDA for Analysis Purpose"
      ]
    },
    {
      "cell_type": "code",
      "source": [
        "df_clean.groupby('marital_status')[['default_payment_next_month']].mean().sort_values('default_payment_next_month').plot(kind='bar')"
      ],
      "metadata": {
        "colab": {
          "base_uri": "https://localhost:8080/",
          "height": 294
        },
        "id": "CkoQspEeCAWD",
        "outputId": "74dfad19-a2d7-489e-8e74-975a8401ecd8"
      },
      "execution_count": 111,
      "outputs": [
        {
          "output_type": "execute_result",
          "data": {
            "text/plain": [
              "<matplotlib.axes._subplots.AxesSubplot at 0x7f757e95b650>"
            ]
          },
          "metadata": {},
          "execution_count": 111
        },
        {
          "output_type": "display_data",
          "data": {
            "text/plain": [
              "<Figure size 432x288 with 1 Axes>"
            ],
            "image/png": "[encoded data removed]"
          },
          "metadata": {
            "needs_background": "light"
          }
        }
      ]
    },
    {
      "cell_type": "code",
      "execution_count": 110,
      "metadata": {
        "colab": {
          "base_uri": "https://localhost:8080/",
          "height": 309
        },
        "id": "yQi4uRKMi8ZN",
        "outputId": "50fa1fba-8d47-467c-a08e-5d0aeff9da44"
      },
      "outputs": [
        {
          "output_type": "execute_result",
          "data": {
            "text/plain": [
              "<matplotlib.axes._subplots.AxesSubplot at 0x7f757e6a89d0>"
            ]
          },
          "metadata": {},
          "execution_count": 110
        },
        {
          "output_type": "display_data",
          "data": {
            "text/plain": [
              "<Figure size 432x288 with 1 Axes>"
            ],
            "image/png": "[encoded data removed]"
          },
          "metadata": {
            "needs_background": "light"
          }
        }
      ],
      "source": [
        "df_clean.groupby('age')[['default_payment_next_month']].mean().sort_values('age').plot(kind='bar')"
      ]
    },
    {
      "cell_type": "code",
      "source": [
        "sns.countplot(data=df_clean,x='education_level',hue='default_payment_next_month',palette=\"cubehelix\")"
      ],
      "metadata": {
        "colab": {
          "base_uri": "https://localhost:8080/",
          "height": 297
        },
        "id": "NNA-mYcuBkZo",
        "outputId": "60a2c681-0c71-4cb2-d9c0-32bb55712c63"
      },
      "execution_count": 106,
      "outputs": [
        {
          "output_type": "execute_result",
          "data": {
            "text/plain": [
              "<matplotlib.axes._subplots.AxesSubplot at 0x7f757e96e210>"
            ]
          },
          "metadata": {},
          "execution_count": 106
        },
        {
          "output_type": "display_data",
          "data": {
            "text/plain": [
              "<Figure size 432x288 with 1 Axes>"
            ],
            "image/png": "[encoded data removed]"
          },
          "metadata": {
            "needs_background": "light"
          }
        }
      ]
    },
    {
      "cell_type": "markdown",
      "source": [
        "Hasil EDA for Analysis menunjukan :\n",
        "- status pernikahan dengan kategori menikah memiliki nilai tinggi untuk pembayaran teratur pada bulan selanjutnya\n",
        "- rentang umur nasabah pada bank tersebut mempunyai rentang dari umur 21 - 69 tahun\n",
        "- pada education level menunjukan kategori university merupakan kategori tertinggi untuk yang tidak membayar secara teratur pada bulan selanjutnya"
      ],
      "metadata": {
        "id": "heb3MfR2DQjS"
      }
    },
    {
      "cell_type": "markdown",
      "metadata": {
        "id": "Dkt-9CcJi8ZN"
      },
      "source": [
        "#### Split data into Train, Test and Inference"
      ]
    },
    {
      "cell_type": "code",
      "execution_count": 35,
      "metadata": {
        "colab": {
          "base_uri": "https://localhost:8080/",
          "height": 299
        },
        "id": "folOaqx7i8ZN",
        "outputId": "91146d1d-688d-4fea-bb29-c2c5f7ac663b"
      },
      "outputs": [
        {
          "output_type": "execute_result",
          "data": {
            "text/plain": [
              "      limit_balance  sex  education_level  marital_status   age  pay_0  pay_2  \\\n",
              "91         180000.0    1                1               1  35.0    0.0    0.0   \n",
              "325         20000.0    1                3               2  38.0    0.0    0.0   \n",
              "47         240000.0    1                1               1  35.0    0.0    0.0   \n",
              "2848       240000.0    2                2               2  30.0    0.0    0.0   \n",
              "446        150000.0    1                2               1  41.0    0.0    0.0   \n",
              "\n",
              "      pay_3  pay_4  pay_5  ...  bill_amt_4  bill_amt_5  bill_amt_6  pay_amt_1  \\\n",
              "91      0.0    0.0      0  ...    132806.0    135603.0    137803.0     7187.0   \n",
              "325     0.0    0.0      0  ...     18335.0     18718.0     18475.0     1318.0   \n",
              "47      0.0    0.0      0  ...    155064.0    148969.0    148619.0     8000.0   \n",
              "2848    0.0    0.0      0  ...       416.0       416.0       416.0    18432.0   \n",
              "446     0.0    0.0      0  ...     10927.0     11598.0     13235.0     2000.0   \n",
              "\n",
              "      pay_amt_2  pay_amt_3  pay_amt_4  pay_amt_5  pay_amt_6  \\\n",
              "91       5000.0     4749.0     5141.0     4916.0     4000.0   \n",
              "325      1289.0      647.0      669.0      664.0      682.0   \n",
              "47       6017.0     6900.0     5250.0     5400.0     6200.0   \n",
              "2848     1416.0    16580.0      416.0      416.0      416.0   \n",
              "446      3000.0     1000.0     1000.0     2000.0     2000.0   \n",
              "\n",
              "      default_payment_next_month  \n",
              "91                             0  \n",
              "325                            0  \n",
              "47                             0  \n",
              "2848                           1  \n",
              "446                            0  \n",
              "\n",
              "[5 rows x 24 columns]"
            ],
            "text/html": [
              "\n",
              "  <div id=\"df-711e0d9d-993a-4da8-9c70-2b8066e53f64\">\n",
              "    <div class=\"colab-df-container\">\n",
              "      <div>\n",
              "<style scoped>\n",
              "    .dataframe tbody tr th:only-of-type {\n",
              "        vertical-align: middle;\n",
              "    }\n",
              "\n",
              "    .dataframe tbody tr th {\n",
              "        vertical-align: top;\n",
              "    }\n",
              "\n",
              "    .dataframe thead th {\n",
              "        text-align: right;\n",
              "    }\n",
              "</style>\n",
              "<table border=\"1\" class=\"dataframe\">\n",
              "  <thead>\n",
              "    <tr style=\"text-align: right;\">\n",
              "      <th></th>\n",
              "      <th>limit_balance</th>\n",
              "      <th>sex</th>\n",
              "      <th>education_level</th>\n",
              "      <th>marital_status</th>\n",
              "      <th>age</th>\n",
              "      <th>pay_0</th>\n",
              "      <th>pay_2</th>\n",
              "      <th>pay_3</th>\n",
              "      <th>pay_4</th>\n",
              "      <th>pay_5</th>\n",
              "      <th>...</th>\n",
              "      <th>bill_amt_4</th>\n",
              "      <th>bill_amt_5</th>\n",
              "      <th>bill_amt_6</th>\n",
              "      <th>pay_amt_1</th>\n",
              "      <th>pay_amt_2</th>\n",
              "      <th>pay_amt_3</th>\n",
              "      <th>pay_amt_4</th>\n",
              "      <th>pay_amt_5</th>\n",
              "      <th>pay_amt_6</th>\n",
              "      <th>default_payment_next_month</th>\n",
              "    </tr>\n",
              "  </thead>\n",
              "  <tbody>\n",
              "    <tr>\n",
              "      <th>91</th>\n",
              "      <td>180000.0</td>\n",
              "      <td>1</td>\n",
              "      <td>1</td>\n",
              "      <td>1</td>\n",
              "      <td>35.0</td>\n",
              "      <td>0.0</td>\n",
              "      <td>0.0</td>\n",
              "      <td>0.0</td>\n",
              "      <td>0.0</td>\n",
              "      <td>0</td>\n",
              "      <td>...</td>\n",
              "      <td>132806.0</td>\n",
              "      <td>135603.0</td>\n",
              "      <td>137803.0</td>\n",
              "      <td>7187.0</td>\n",
              "      <td>5000.0</td>\n",
              "      <td>4749.0</td>\n",
              "      <td>5141.0</td>\n",
              "      <td>4916.0</td>\n",
              "      <td>4000.0</td>\n",
              "      <td>0</td>\n",
              "    </tr>\n",
              "    <tr>\n",
              "      <th>325</th>\n",
              "      <td>20000.0</td>\n",
              "      <td>1</td>\n",
              "      <td>3</td>\n",
              "      <td>2</td>\n",
              "      <td>38.0</td>\n",
              "      <td>0.0</td>\n",
              "      <td>0.0</td>\n",
              "      <td>0.0</td>\n",
              "      <td>0.0</td>\n",
              "      <td>0</td>\n",
              "      <td>...</td>\n",
              "      <td>18335.0</td>\n",
              "      <td>18718.0</td>\n",
              "      <td>18475.0</td>\n",
              "      <td>1318.0</td>\n",
              "      <td>1289.0</td>\n",
              "      <td>647.0</td>\n",
              "      <td>669.0</td>\n",
              "      <td>664.0</td>\n",
              "      <td>682.0</td>\n",
              "      <td>0</td>\n",
              "    </tr>\n",
              "    <tr>\n",
              "      <th>47</th>\n",
              "      <td>240000.0</td>\n",
              "      <td>1</td>\n",
              "      <td>1</td>\n",
              "      <td>1</td>\n",
              "      <td>35.0</td>\n",
              "      <td>0.0</td>\n",
              "      <td>0.0</td>\n",
              "      <td>0.0</td>\n",
              "      <td>0.0</td>\n",
              "      <td>0</td>\n",
              "      <td>...</td>\n",
              "      <td>155064.0</td>\n",
              "      <td>148969.0</td>\n",
              "      <td>148619.0</td>\n",
              "      <td>8000.0</td>\n",
              "      <td>6017.0</td>\n",
              "      <td>6900.0</td>\n",
              "      <td>5250.0</td>\n",
              "      <td>5400.0</td>\n",
              "      <td>6200.0</td>\n",
              "      <td>0</td>\n",
              "    </tr>\n",
              "    <tr>\n",
              "      <th>2848</th>\n",
              "      <td>240000.0</td>\n",
              "      <td>2</td>\n",
              "      <td>2</td>\n",
              "      <td>2</td>\n",
              "      <td>30.0</td>\n",
              "      <td>0.0</td>\n",
              "      <td>0.0</td>\n",
              "      <td>0.0</td>\n",
              "      <td>0.0</td>\n",
              "      <td>0</td>\n",
              "      <td>...</td>\n",
              "      <td>416.0</td>\n",
              "      <td>416.0</td>\n",
              "      <td>416.0</td>\n",
              "      <td>18432.0</td>\n",
              "      <td>1416.0</td>\n",
              "      <td>16580.0</td>\n",
              "      <td>416.0</td>\n",
              "      <td>416.0</td>\n",
              "      <td>416.0</td>\n",
              "      <td>1</td>\n",
              "    </tr>\n",
              "    <tr>\n",
              "      <th>446</th>\n",
              "      <td>150000.0</td>\n",
              "      <td>1</td>\n",
              "      <td>2</td>\n",
              "      <td>1</td>\n",
              "      <td>41.0</td>\n",
              "      <td>0.0</td>\n",
              "      <td>0.0</td>\n",
              "      <td>0.0</td>\n",
              "      <td>0.0</td>\n",
              "      <td>0</td>\n",
              "      <td>...</td>\n",
              "      <td>10927.0</td>\n",
              "      <td>11598.0</td>\n",
              "      <td>13235.0</td>\n",
              "      <td>2000.0</td>\n",
              "      <td>3000.0</td>\n",
              "      <td>1000.0</td>\n",
              "      <td>1000.0</td>\n",
              "      <td>2000.0</td>\n",
              "      <td>2000.0</td>\n",
              "      <td>0</td>\n",
              "    </tr>\n",
              "  </tbody>\n",
              "</table>\n",
              "<p>5 rows × 24 columns</p>\n",
              "</div>\n",
              "      <button class=\"colab-df-convert\" onclick=\"convertToInteractive('df-711e0d9d-993a-4da8-9c70-2b8066e53f64')\"\n",
              "              title=\"Convert this dataframe to an interactive table.\"\n",
              "              style=\"display:none;\">\n",
              "        \n",
              "  <svg xmlns=\"http://www.w3.org/2000/svg\" height=\"24px\"viewBox=\"0 0 24 24\"\n",
              "       width=\"24px\">\n",
              "    <path d=\"M0 0h24v24H0V0z\" fill=\"none\"/>\n",
              "    <path d=\"M18.56 5.44l.94 2.06.94-2.06 2.06-.94-2.06-.94-.94-2.06-.94 2.06-2.06.94zm-11 1L8.5 8.5l.94-2.06 2.06-.94-2.06-.94L8.5 2.5l-.94 2.06-2.06.94zm10 10l.94 2.06.94-2.06 2.06-.94-2.06-.94-.94-2.06-.94 2.06-2.06.94z\"/><path d=\"M17.41 7.96l-1.37-1.37c-.4-.4-.92-.59-1.43-.59-.52 0-1.04.2-1.43.59L10.3 9.45l-7.72 7.72c-.78.78-.78 2.05 0 2.83L4 21.41c.39.39.9.59 1.41.59.51 0 1.02-.2 1.41-.59l7.78-7.78 2.81-2.81c.8-.78.8-2.07 0-2.86zM5.41 20L4 18.59l7.72-7.72 1.47 1.35L5.41 20z\"/>\n",
              "  </svg>\n",
              "      </button>\n",
              "      \n",
              "  <style>\n",
              "    .colab-df-container {\n",
              "      display:flex;\n",
              "      flex-wrap:wrap;\n",
              "      gap: 12px;\n",
              "    }\n",
              "\n",
              "    .colab-df-convert {\n",
              "      background-color: #E8F0FE;\n",
              "      border: none;\n",
              "      border-radius: 50%;\n",
              "      cursor: pointer;\n",
              "      display: none;\n",
              "      fill: #1967D2;\n",
              "      height: 32px;\n",
              "      padding: 0 0 0 0;\n",
              "      width: 32px;\n",
              "    }\n",
              "\n",
              "    .colab-df-convert:hover {\n",
              "      background-color: #E2EBFA;\n",
              "      box-shadow: 0px 1px 2px rgba(60, 64, 67, 0.3), 0px 1px 3px 1px rgba(60, 64, 67, 0.15);\n",
              "      fill: #174EA6;\n",
              "    }\n",
              "\n",
              "    [theme=dark] .colab-df-convert {\n",
              "      background-color: #3B4455;\n",
              "      fill: #D2E3FC;\n",
              "    }\n",
              "\n",
              "    [theme=dark] .colab-df-convert:hover {\n",
              "      background-color: #434B5C;\n",
              "      box-shadow: 0px 1px 3px 1px rgba(0, 0, 0, 0.15);\n",
              "      filter: drop-shadow(0px 1px 2px rgba(0, 0, 0, 0.3));\n",
              "      fill: #FFFFFF;\n",
              "    }\n",
              "  </style>\n",
              "\n",
              "      <script>\n",
              "        const buttonEl =\n",
              "          document.querySelector('#df-711e0d9d-993a-4da8-9c70-2b8066e53f64 button.colab-df-convert');\n",
              "        buttonEl.style.display =\n",
              "          google.colab.kernel.accessAllowed ? 'block' : 'none';\n",
              "\n",
              "        async function convertToInteractive(key) {\n",
              "          const element = document.querySelector('#df-711e0d9d-993a-4da8-9c70-2b8066e53f64');\n",
              "          const dataTable =\n",
              "            await google.colab.kernel.invokeFunction('convertToInteractive',\n",
              "                                                     [key], {});\n",
              "          if (!dataTable) return;\n",
              "\n",
              "          const docLinkHtml = 'Like what you see? Visit the ' +\n",
              "            '<a target=\"_blank\" href=https://colab.research.google.com/notebooks/data_table.ipynb>data table notebook</a>'\n",
              "            + ' to learn more about interactive tables.';\n",
              "          element.innerHTML = '';\n",
              "          dataTable['output_type'] = 'display_data';\n",
              "          await google.colab.output.renderOutput(dataTable, element);\n",
              "          const docLink = document.createElement('div');\n",
              "          docLink.innerHTML = docLinkHtml;\n",
              "          element.appendChild(docLink);\n",
              "        }\n",
              "      </script>\n",
              "    </div>\n",
              "  </div>\n",
              "  "
            ]
          },
          "metadata": {},
          "execution_count": 35
        }
      ],
      "source": [
        "inference = df_clean.sample(5, random_state=17)\n",
        "inference"
      ]
    },
    {
      "cell_type": "code",
      "execution_count": 36,
      "metadata": {
        "id": "HZUjrVjai8ZN"
      },
      "outputs": [],
      "source": [
        "df_clean = df_clean.drop(inference.index)"
      ]
    },
    {
      "cell_type": "code",
      "execution_count": 37,
      "metadata": {
        "colab": {
          "base_uri": "https://localhost:8080/"
        },
        "id": "ol3jO5kOi8ZN",
        "outputId": "a740a5c1-d19b-48c8-c9cb-cfa7136d47b6"
      },
      "outputs": [
        {
          "output_type": "execute_result",
          "data": {
            "text/plain": [
              "(2959, 24)"
            ]
          },
          "metadata": {},
          "execution_count": 37
        }
      ],
      "source": [
        "df_clean.shape"
      ]
    },
    {
      "cell_type": "code",
      "execution_count": 38,
      "metadata": {
        "colab": {
          "base_uri": "https://localhost:8080/",
          "height": 205
        },
        "id": "_PxQOkBoi8ZN",
        "outputId": "58bd3b9f-6978-4880-b929-091692bcf6b0"
      },
      "outputs": [
        {
          "output_type": "execute_result",
          "data": {
            "text/plain": [
              "   limit_balance  sex  education_level  marital_status   age  pay_0  pay_2  \\\n",
              "0       130000.0    1                1               1  45.0    0.0    0.0   \n",
              "1       230000.0    1                2               1  41.0    0.0    0.0   \n",
              "\n",
              "   pay_3  pay_4  pay_5  ...  bill_amt_4  bill_amt_5  bill_amt_6  pay_amt_1  \\\n",
              "0    0.0    0.0      0  ...     62377.0     63832.0     65099.0     2886.0   \n",
              "1    0.0    0.0      0  ...    216260.0    215968.0    174195.0     9405.0   \n",
              "\n",
              "   pay_amt_2  pay_amt_3  pay_amt_4  pay_amt_5  pay_amt_6  \\\n",
              "0     2908.0     2129.0     2354.0     2366.0     2291.0   \n",
              "1     7769.0     7757.0     8030.0     6549.0     5226.0   \n",
              "\n",
              "   default_payment_next_month  \n",
              "0                           0  \n",
              "1                           1  \n",
              "\n",
              "[2 rows x 24 columns]"
            ],
            "text/html": [
              "\n",
              "  <div id=\"df-f149d190-f125-41eb-97f1-1c7fdf02be29\">\n",
              "    <div class=\"colab-df-container\">\n",
              "      <div>\n",
              "<style scoped>\n",
              "    .dataframe tbody tr th:only-of-type {\n",
              "        vertical-align: middle;\n",
              "    }\n",
              "\n",
              "    .dataframe tbody tr th {\n",
              "        vertical-align: top;\n",
              "    }\n",
              "\n",
              "    .dataframe thead th {\n",
              "        text-align: right;\n",
              "    }\n",
              "</style>\n",
              "<table border=\"1\" class=\"dataframe\">\n",
              "  <thead>\n",
              "    <tr style=\"text-align: right;\">\n",
              "      <th></th>\n",
              "      <th>limit_balance</th>\n",
              "      <th>sex</th>\n",
              "      <th>education_level</th>\n",
              "      <th>marital_status</th>\n",
              "      <th>age</th>\n",
              "      <th>pay_0</th>\n",
              "      <th>pay_2</th>\n",
              "      <th>pay_3</th>\n",
              "      <th>pay_4</th>\n",
              "      <th>pay_5</th>\n",
              "      <th>...</th>\n",
              "      <th>bill_amt_4</th>\n",
              "      <th>bill_amt_5</th>\n",
              "      <th>bill_amt_6</th>\n",
              "      <th>pay_amt_1</th>\n",
              "      <th>pay_amt_2</th>\n",
              "      <th>pay_amt_3</th>\n",
              "      <th>pay_amt_4</th>\n",
              "      <th>pay_amt_5</th>\n",
              "      <th>pay_amt_6</th>\n",
              "      <th>default_payment_next_month</th>\n",
              "    </tr>\n",
              "  </thead>\n",
              "  <tbody>\n",
              "    <tr>\n",
              "      <th>0</th>\n",
              "      <td>130000.0</td>\n",
              "      <td>1</td>\n",
              "      <td>1</td>\n",
              "      <td>1</td>\n",
              "      <td>45.0</td>\n",
              "      <td>0.0</td>\n",
              "      <td>0.0</td>\n",
              "      <td>0.0</td>\n",
              "      <td>0.0</td>\n",
              "      <td>0</td>\n",
              "      <td>...</td>\n",
              "      <td>62377.0</td>\n",
              "      <td>63832.0</td>\n",
              "      <td>65099.0</td>\n",
              "      <td>2886.0</td>\n",
              "      <td>2908.0</td>\n",
              "      <td>2129.0</td>\n",
              "      <td>2354.0</td>\n",
              "      <td>2366.0</td>\n",
              "      <td>2291.0</td>\n",
              "      <td>0</td>\n",
              "    </tr>\n",
              "    <tr>\n",
              "      <th>1</th>\n",
              "      <td>230000.0</td>\n",
              "      <td>1</td>\n",
              "      <td>2</td>\n",
              "      <td>1</td>\n",
              "      <td>41.0</td>\n",
              "      <td>0.0</td>\n",
              "      <td>0.0</td>\n",
              "      <td>0.0</td>\n",
              "      <td>0.0</td>\n",
              "      <td>0</td>\n",
              "      <td>...</td>\n",
              "      <td>216260.0</td>\n",
              "      <td>215968.0</td>\n",
              "      <td>174195.0</td>\n",
              "      <td>9405.0</td>\n",
              "      <td>7769.0</td>\n",
              "      <td>7757.0</td>\n",
              "      <td>8030.0</td>\n",
              "      <td>6549.0</td>\n",
              "      <td>5226.0</td>\n",
              "      <td>1</td>\n",
              "    </tr>\n",
              "  </tbody>\n",
              "</table>\n",
              "<p>2 rows × 24 columns</p>\n",
              "</div>\n",
              "      <button class=\"colab-df-convert\" onclick=\"convertToInteractive('df-f149d190-f125-41eb-97f1-1c7fdf02be29')\"\n",
              "              title=\"Convert this dataframe to an interactive table.\"\n",
              "              style=\"display:none;\">\n",
              "        \n",
              "  <svg xmlns=\"http://www.w3.org/2000/svg\" height=\"24px\"viewBox=\"0 0 24 24\"\n",
              "       width=\"24px\">\n",
              "    <path d=\"M0 0h24v24H0V0z\" fill=\"none\"/>\n",
              "    <path d=\"M18.56 5.44l.94 2.06.94-2.06 2.06-.94-2.06-.94-.94-2.06-.94 2.06-2.06.94zm-11 1L8.5 8.5l.94-2.06 2.06-.94-2.06-.94L8.5 2.5l-.94 2.06-2.06.94zm10 10l.94 2.06.94-2.06 2.06-.94-2.06-.94-.94-2.06-.94 2.06-2.06.94z\"/><path d=\"M17.41 7.96l-1.37-1.37c-.4-.4-.92-.59-1.43-.59-.52 0-1.04.2-1.43.59L10.3 9.45l-7.72 7.72c-.78.78-.78 2.05 0 2.83L4 21.41c.39.39.9.59 1.41.59.51 0 1.02-.2 1.41-.59l7.78-7.78 2.81-2.81c.8-.78.8-2.07 0-2.86zM5.41 20L4 18.59l7.72-7.72 1.47 1.35L5.41 20z\"/>\n",
              "  </svg>\n",
              "      </button>\n",
              "      \n",
              "  <style>\n",
              "    .colab-df-container {\n",
              "      display:flex;\n",
              "      flex-wrap:wrap;\n",
              "      gap: 12px;\n",
              "    }\n",
              "\n",
              "    .colab-df-convert {\n",
              "      background-color: #E8F0FE;\n",
              "      border: none;\n",
              "      border-radius: 50%;\n",
              "      cursor: pointer;\n",
              "      display: none;\n",
              "      fill: #1967D2;\n",
              "      height: 32px;\n",
              "      padding: 0 0 0 0;\n",
              "      width: 32px;\n",
              "    }\n",
              "\n",
              "    .colab-df-convert:hover {\n",
              "      background-color: #E2EBFA;\n",
              "      box-shadow: 0px 1px 2px rgba(60, 64, 67, 0.3), 0px 1px 3px 1px rgba(60, 64, 67, 0.15);\n",
              "      fill: #174EA6;\n",
              "    }\n",
              "\n",
              "    [theme=dark] .colab-df-convert {\n",
              "      background-color: #3B4455;\n",
              "      fill: #D2E3FC;\n",
              "    }\n",
              "\n",
              "    [theme=dark] .colab-df-convert:hover {\n",
              "      background-color: #434B5C;\n",
              "      box-shadow: 0px 1px 3px 1px rgba(0, 0, 0, 0.15);\n",
              "      filter: drop-shadow(0px 1px 2px rgba(0, 0, 0, 0.3));\n",
              "      fill: #FFFFFF;\n",
              "    }\n",
              "  </style>\n",
              "\n",
              "      <script>\n",
              "        const buttonEl =\n",
              "          document.querySelector('#df-f149d190-f125-41eb-97f1-1c7fdf02be29 button.colab-df-convert');\n",
              "        buttonEl.style.display =\n",
              "          google.colab.kernel.accessAllowed ? 'block' : 'none';\n",
              "\n",
              "        async function convertToInteractive(key) {\n",
              "          const element = document.querySelector('#df-f149d190-f125-41eb-97f1-1c7fdf02be29');\n",
              "          const dataTable =\n",
              "            await google.colab.kernel.invokeFunction('convertToInteractive',\n",
              "                                                     [key], {});\n",
              "          if (!dataTable) return;\n",
              "\n",
              "          const docLinkHtml = 'Like what you see? Visit the ' +\n",
              "            '<a target=\"_blank\" href=https://colab.research.google.com/notebooks/data_table.ipynb>data table notebook</a>'\n",
              "            + ' to learn more about interactive tables.';\n",
              "          element.innerHTML = '';\n",
              "          dataTable['output_type'] = 'display_data';\n",
              "          await google.colab.output.renderOutput(dataTable, element);\n",
              "          const docLink = document.createElement('div');\n",
              "          docLink.innerHTML = docLinkHtml;\n",
              "          element.appendChild(docLink);\n",
              "        }\n",
              "      </script>\n",
              "    </div>\n",
              "  </div>\n",
              "  "
            ]
          },
          "metadata": {},
          "execution_count": 38
        }
      ],
      "source": [
        "df_clean.head(2)"
      ]
    },
    {
      "cell_type": "code",
      "execution_count": 39,
      "metadata": {
        "colab": {
          "base_uri": "https://localhost:8080/"
        },
        "id": "Co_1zcoei8ZN",
        "outputId": "6aa21fa7-eaff-445f-cce6-a9c9568788ae"
      },
      "outputs": [
        {
          "output_type": "stream",
          "name": "stdout",
          "text": [
            "(2219, 23)\n",
            "(740, 23)\n",
            "(2219,)\n",
            "(740,)\n"
          ]
        }
      ],
      "source": [
        "X = df_clean.drop('default_payment_next_month', axis=1)\n",
        "y = df_clean['default_payment_next_month']\n",
        "\n",
        "X_train, X_test, y_train, y_test = train_test_split(X, y, test_size=0.25, stratify=y, random_state=0)\n",
        "\n",
        "for i in [X_train, X_test, y_train, y_test]:\n",
        "    print(i.shape)"
      ]
    },
    {
      "cell_type": "code",
      "execution_count": 40,
      "metadata": {
        "colab": {
          "base_uri": "https://localhost:8080/"
        },
        "id": "IQowIQLRi8ZO",
        "outputId": "f56204e2-0081-4e96-a0ab-aeb5a8cf5b73"
      },
      "outputs": [
        {
          "output_type": "execute_result",
          "data": {
            "text/plain": [
              "(2219, 24)"
            ]
          },
          "metadata": {},
          "execution_count": 40
        }
      ],
      "source": [
        "df_eda = pd.concat([X_train, y_train], axis=1)\n",
        "testing = pd.concat([X_test, y_test], axis=1)\n",
        "\n",
        "df_eda.shape"
      ]
    },
    {
      "cell_type": "markdown",
      "metadata": {
        "id": "fHTDRZVXhNXW"
      },
      "source": [
        "Selanjutnya data dibagi kedalam 3 dataframe:\n",
        "1. data inference yang selanjutnya akan digunakan untuk menguji model dapat berjalan dengan semestinya\n",
        "2. data train yang digunakan untuk melatih model\n",
        "3. data testing yang digunakan untuk menguji model"
      ]
    },
    {
      "cell_type": "markdown",
      "metadata": {
        "id": "r4hlV6CCi8ZO"
      },
      "source": [
        "### EDA FOR MODELING"
      ]
    },
    {
      "cell_type": "code",
      "execution_count": 41,
      "metadata": {
        "colab": {
          "base_uri": "https://localhost:8080/",
          "height": 205
        },
        "id": "CpCfIQiJi8ZO",
        "outputId": "8b334011-2948-40b4-f5cf-eb01f480d719"
      },
      "outputs": [
        {
          "output_type": "execute_result",
          "data": {
            "text/plain": [
              "      limit_balance  sex  education_level  marital_status   age  pay_0  pay_2  \\\n",
              "291        280000.0    1                1               2  33.0    0.0    0.0   \n",
              "1948        20000.0    2                2               2  21.0    0.0    0.0   \n",
              "\n",
              "      pay_3  pay_4  pay_5  ...  bill_amt_4  bill_amt_5  bill_amt_6  pay_amt_1  \\\n",
              "291     0.0    0.0      0  ...    189287.0    185398.0    184414.0    10000.0   \n",
              "1948    2.0    2.0      0  ...         0.0         0.0         0.0      780.0   \n",
              "\n",
              "      pay_amt_2  pay_amt_3  pay_amt_4  pay_amt_5  pay_amt_6  \\\n",
              "291     10059.0     5201.0     5211.0     5500.0     5500.0   \n",
              "1948        0.0        0.0        0.0        0.0        0.0   \n",
              "\n",
              "      default_payment_next_month  \n",
              "291                            0  \n",
              "1948                           0  \n",
              "\n",
              "[2 rows x 24 columns]"
            ],
            "text/html": [
              "\n",
              "  <div id=\"df-4b0685e0-a93e-4373-9d7c-400e53672bde\">\n",
              "    <div class=\"colab-df-container\">\n",
              "      <div>\n",
              "<style scoped>\n",
              "    .dataframe tbody tr th:only-of-type {\n",
              "        vertical-align: middle;\n",
              "    }\n",
              "\n",
              "    .dataframe tbody tr th {\n",
              "        vertical-align: top;\n",
              "    }\n",
              "\n",
              "    .dataframe thead th {\n",
              "        text-align: right;\n",
              "    }\n",
              "</style>\n",
              "<table border=\"1\" class=\"dataframe\">\n",
              "  <thead>\n",
              "    <tr style=\"text-align: right;\">\n",
              "      <th></th>\n",
              "      <th>limit_balance</th>\n",
              "      <th>sex</th>\n",
              "      <th>education_level</th>\n",
              "      <th>marital_status</th>\n",
              "      <th>age</th>\n",
              "      <th>pay_0</th>\n",
              "      <th>pay_2</th>\n",
              "      <th>pay_3</th>\n",
              "      <th>pay_4</th>\n",
              "      <th>pay_5</th>\n",
              "      <th>...</th>\n",
              "      <th>bill_amt_4</th>\n",
              "      <th>bill_amt_5</th>\n",
              "      <th>bill_amt_6</th>\n",
              "      <th>pay_amt_1</th>\n",
              "      <th>pay_amt_2</th>\n",
              "      <th>pay_amt_3</th>\n",
              "      <th>pay_amt_4</th>\n",
              "      <th>pay_amt_5</th>\n",
              "      <th>pay_amt_6</th>\n",
              "      <th>default_payment_next_month</th>\n",
              "    </tr>\n",
              "  </thead>\n",
              "  <tbody>\n",
              "    <tr>\n",
              "      <th>291</th>\n",
              "      <td>280000.0</td>\n",
              "      <td>1</td>\n",
              "      <td>1</td>\n",
              "      <td>2</td>\n",
              "      <td>33.0</td>\n",
              "      <td>0.0</td>\n",
              "      <td>0.0</td>\n",
              "      <td>0.0</td>\n",
              "      <td>0.0</td>\n",
              "      <td>0</td>\n",
              "      <td>...</td>\n",
              "      <td>189287.0</td>\n",
              "      <td>185398.0</td>\n",
              "      <td>184414.0</td>\n",
              "      <td>10000.0</td>\n",
              "      <td>10059.0</td>\n",
              "      <td>5201.0</td>\n",
              "      <td>5211.0</td>\n",
              "      <td>5500.0</td>\n",
              "      <td>5500.0</td>\n",
              "      <td>0</td>\n",
              "    </tr>\n",
              "    <tr>\n",
              "      <th>1948</th>\n",
              "      <td>20000.0</td>\n",
              "      <td>2</td>\n",
              "      <td>2</td>\n",
              "      <td>2</td>\n",
              "      <td>21.0</td>\n",
              "      <td>0.0</td>\n",
              "      <td>0.0</td>\n",
              "      <td>2.0</td>\n",
              "      <td>2.0</td>\n",
              "      <td>0</td>\n",
              "      <td>...</td>\n",
              "      <td>0.0</td>\n",
              "      <td>0.0</td>\n",
              "      <td>0.0</td>\n",
              "      <td>780.0</td>\n",
              "      <td>0.0</td>\n",
              "      <td>0.0</td>\n",
              "      <td>0.0</td>\n",
              "      <td>0.0</td>\n",
              "      <td>0.0</td>\n",
              "      <td>0</td>\n",
              "    </tr>\n",
              "  </tbody>\n",
              "</table>\n",
              "<p>2 rows × 24 columns</p>\n",
              "</div>\n",
              "      <button class=\"colab-df-convert\" onclick=\"convertToInteractive('df-4b0685e0-a93e-4373-9d7c-400e53672bde')\"\n",
              "              title=\"Convert this dataframe to an interactive table.\"\n",
              "              style=\"display:none;\">\n",
              "        \n",
              "  <svg xmlns=\"http://www.w3.org/2000/svg\" height=\"24px\"viewBox=\"0 0 24 24\"\n",
              "       width=\"24px\">\n",
              "    <path d=\"M0 0h24v24H0V0z\" fill=\"none\"/>\n",
              "    <path d=\"M18.56 5.44l.94 2.06.94-2.06 2.06-.94-2.06-.94-.94-2.06-.94 2.06-2.06.94zm-11 1L8.5 8.5l.94-2.06 2.06-.94-2.06-.94L8.5 2.5l-.94 2.06-2.06.94zm10 10l.94 2.06.94-2.06 2.06-.94-2.06-.94-.94-2.06-.94 2.06-2.06.94z\"/><path d=\"M17.41 7.96l-1.37-1.37c-.4-.4-.92-.59-1.43-.59-.52 0-1.04.2-1.43.59L10.3 9.45l-7.72 7.72c-.78.78-.78 2.05 0 2.83L4 21.41c.39.39.9.59 1.41.59.51 0 1.02-.2 1.41-.59l7.78-7.78 2.81-2.81c.8-.78.8-2.07 0-2.86zM5.41 20L4 18.59l7.72-7.72 1.47 1.35L5.41 20z\"/>\n",
              "  </svg>\n",
              "      </button>\n",
              "      \n",
              "  <style>\n",
              "    .colab-df-container {\n",
              "      display:flex;\n",
              "      flex-wrap:wrap;\n",
              "      gap: 12px;\n",
              "    }\n",
              "\n",
              "    .colab-df-convert {\n",
              "      background-color: #E8F0FE;\n",
              "      border: none;\n",
              "      border-radius: 50%;\n",
              "      cursor: pointer;\n",
              "      display: none;\n",
              "      fill: #1967D2;\n",
              "      height: 32px;\n",
              "      padding: 0 0 0 0;\n",
              "      width: 32px;\n",
              "    }\n",
              "\n",
              "    .colab-df-convert:hover {\n",
              "      background-color: #E2EBFA;\n",
              "      box-shadow: 0px 1px 2px rgba(60, 64, 67, 0.3), 0px 1px 3px 1px rgba(60, 64, 67, 0.15);\n",
              "      fill: #174EA6;\n",
              "    }\n",
              "\n",
              "    [theme=dark] .colab-df-convert {\n",
              "      background-color: #3B4455;\n",
              "      fill: #D2E3FC;\n",
              "    }\n",
              "\n",
              "    [theme=dark] .colab-df-convert:hover {\n",
              "      background-color: #434B5C;\n",
              "      box-shadow: 0px 1px 3px 1px rgba(0, 0, 0, 0.15);\n",
              "      filter: drop-shadow(0px 1px 2px rgba(0, 0, 0, 0.3));\n",
              "      fill: #FFFFFF;\n",
              "    }\n",
              "  </style>\n",
              "\n",
              "      <script>\n",
              "        const buttonEl =\n",
              "          document.querySelector('#df-4b0685e0-a93e-4373-9d7c-400e53672bde button.colab-df-convert');\n",
              "        buttonEl.style.display =\n",
              "          google.colab.kernel.accessAllowed ? 'block' : 'none';\n",
              "\n",
              "        async function convertToInteractive(key) {\n",
              "          const element = document.querySelector('#df-4b0685e0-a93e-4373-9d7c-400e53672bde');\n",
              "          const dataTable =\n",
              "            await google.colab.kernel.invokeFunction('convertToInteractive',\n",
              "                                                     [key], {});\n",
              "          if (!dataTable) return;\n",
              "\n",
              "          const docLinkHtml = 'Like what you see? Visit the ' +\n",
              "            '<a target=\"_blank\" href=https://colab.research.google.com/notebooks/data_table.ipynb>data table notebook</a>'\n",
              "            + ' to learn more about interactive tables.';\n",
              "          element.innerHTML = '';\n",
              "          dataTable['output_type'] = 'display_data';\n",
              "          await google.colab.output.renderOutput(dataTable, element);\n",
              "          const docLink = document.createElement('div');\n",
              "          docLink.innerHTML = docLinkHtml;\n",
              "          element.appendChild(docLink);\n",
              "        }\n",
              "      </script>\n",
              "    </div>\n",
              "  </div>\n",
              "  "
            ]
          },
          "metadata": {},
          "execution_count": 41
        }
      ],
      "source": [
        "df_eda.head(2)"
      ]
    },
    {
      "cell_type": "markdown",
      "metadata": {
        "id": "SpxdSxR_i8ZO"
      },
      "source": [
        "#### Numerical feature"
      ]
    },
    {
      "cell_type": "code",
      "execution_count": 42,
      "metadata": {
        "colab": {
          "base_uri": "https://localhost:8080/",
          "height": 0
        },
        "id": "_CTSe9Ati8ZO",
        "outputId": "039eac0a-6afa-438b-df56-9e9645dade80"
      },
      "outputs": [
        {
          "output_type": "execute_result",
          "data": {
            "text/plain": [
              "   limit_balance   age  bill_amt_1  bill_amt_2  bill_amt_3  bill_amt_4  \\\n",
              "0       130000.0  45.0     58180.0     59134.0     61156.0     62377.0   \n",
              "1       230000.0  41.0    301038.0    305327.0    213058.0    216260.0   \n",
              "2        50000.0  42.0     35892.0     32546.0     30660.0     31320.0   \n",
              "\n",
              "   bill_amt_5  bill_amt_6  pay_amt_1  pay_amt_2  pay_amt_3  pay_amt_4  \\\n",
              "0     63832.0     65099.0     2886.0     2908.0     2129.0     2354.0   \n",
              "1    215968.0    174195.0     9405.0     7769.0     7757.0     8030.0   \n",
              "2     36227.0     35569.0     2007.0     2000.0     1500.0     5400.0   \n",
              "\n",
              "   pay_amt_5  pay_amt_6  \n",
              "0     2366.0     2291.0  \n",
              "1     6549.0     5226.0  \n",
              "2        0.0     3000.0  "
            ],
            "text/html": [
              "\n",
              "  <div id=\"df-9a3b17b7-1644-4a52-bc9e-063577485ef0\">\n",
              "    <div class=\"colab-df-container\">\n",
              "      <div>\n",
              "<style scoped>\n",
              "    .dataframe tbody tr th:only-of-type {\n",
              "        vertical-align: middle;\n",
              "    }\n",
              "\n",
              "    .dataframe tbody tr th {\n",
              "        vertical-align: top;\n",
              "    }\n",
              "\n",
              "    .dataframe thead th {\n",
              "        text-align: right;\n",
              "    }\n",
              "</style>\n",
              "<table border=\"1\" class=\"dataframe\">\n",
              "  <thead>\n",
              "    <tr style=\"text-align: right;\">\n",
              "      <th></th>\n",
              "      <th>limit_balance</th>\n",
              "      <th>age</th>\n",
              "      <th>bill_amt_1</th>\n",
              "      <th>bill_amt_2</th>\n",
              "      <th>bill_amt_3</th>\n",
              "      <th>bill_amt_4</th>\n",
              "      <th>bill_amt_5</th>\n",
              "      <th>bill_amt_6</th>\n",
              "      <th>pay_amt_1</th>\n",
              "      <th>pay_amt_2</th>\n",
              "      <th>pay_amt_3</th>\n",
              "      <th>pay_amt_4</th>\n",
              "      <th>pay_amt_5</th>\n",
              "      <th>pay_amt_6</th>\n",
              "    </tr>\n",
              "  </thead>\n",
              "  <tbody>\n",
              "    <tr>\n",
              "      <th>0</th>\n",
              "      <td>130000.0</td>\n",
              "      <td>45.0</td>\n",
              "      <td>58180.0</td>\n",
              "      <td>59134.0</td>\n",
              "      <td>61156.0</td>\n",
              "      <td>62377.0</td>\n",
              "      <td>63832.0</td>\n",
              "      <td>65099.0</td>\n",
              "      <td>2886.0</td>\n",
              "      <td>2908.0</td>\n",
              "      <td>2129.0</td>\n",
              "      <td>2354.0</td>\n",
              "      <td>2366.0</td>\n",
              "      <td>2291.0</td>\n",
              "    </tr>\n",
              "    <tr>\n",
              "      <th>1</th>\n",
              "      <td>230000.0</td>\n",
              "      <td>41.0</td>\n",
              "      <td>301038.0</td>\n",
              "      <td>305327.0</td>\n",
              "      <td>213058.0</td>\n",
              "      <td>216260.0</td>\n",
              "      <td>215968.0</td>\n",
              "      <td>174195.0</td>\n",
              "      <td>9405.0</td>\n",
              "      <td>7769.0</td>\n",
              "      <td>7757.0</td>\n",
              "      <td>8030.0</td>\n",
              "      <td>6549.0</td>\n",
              "      <td>5226.0</td>\n",
              "    </tr>\n",
              "    <tr>\n",
              "      <th>2</th>\n",
              "      <td>50000.0</td>\n",
              "      <td>42.0</td>\n",
              "      <td>35892.0</td>\n",
              "      <td>32546.0</td>\n",
              "      <td>30660.0</td>\n",
              "      <td>31320.0</td>\n",
              "      <td>36227.0</td>\n",
              "      <td>35569.0</td>\n",
              "      <td>2007.0</td>\n",
              "      <td>2000.0</td>\n",
              "      <td>1500.0</td>\n",
              "      <td>5400.0</td>\n",
              "      <td>0.0</td>\n",
              "      <td>3000.0</td>\n",
              "    </tr>\n",
              "  </tbody>\n",
              "</table>\n",
              "</div>\n",
              "      <button class=\"colab-df-convert\" onclick=\"convertToInteractive('df-9a3b17b7-1644-4a52-bc9e-063577485ef0')\"\n",
              "              title=\"Convert this dataframe to an interactive table.\"\n",
              "              style=\"display:none;\">\n",
              "        \n",
              "  <svg xmlns=\"http://www.w3.org/2000/svg\" height=\"24px\"viewBox=\"0 0 24 24\"\n",
              "       width=\"24px\">\n",
              "    <path d=\"M0 0h24v24H0V0z\" fill=\"none\"/>\n",
              "    <path d=\"M18.56 5.44l.94 2.06.94-2.06 2.06-.94-2.06-.94-.94-2.06-.94 2.06-2.06.94zm-11 1L8.5 8.5l.94-2.06 2.06-.94-2.06-.94L8.5 2.5l-.94 2.06-2.06.94zm10 10l.94 2.06.94-2.06 2.06-.94-2.06-.94-.94-2.06-.94 2.06-2.06.94z\"/><path d=\"M17.41 7.96l-1.37-1.37c-.4-.4-.92-.59-1.43-.59-.52 0-1.04.2-1.43.59L10.3 9.45l-7.72 7.72c-.78.78-.78 2.05 0 2.83L4 21.41c.39.39.9.59 1.41.59.51 0 1.02-.2 1.41-.59l7.78-7.78 2.81-2.81c.8-.78.8-2.07 0-2.86zM5.41 20L4 18.59l7.72-7.72 1.47 1.35L5.41 20z\"/>\n",
              "  </svg>\n",
              "      </button>\n",
              "      \n",
              "  <style>\n",
              "    .colab-df-container {\n",
              "      display:flex;\n",
              "      flex-wrap:wrap;\n",
              "      gap: 12px;\n",
              "    }\n",
              "\n",
              "    .colab-df-convert {\n",
              "      background-color: #E8F0FE;\n",
              "      border: none;\n",
              "      border-radius: 50%;\n",
              "      cursor: pointer;\n",
              "      display: none;\n",
              "      fill: #1967D2;\n",
              "      height: 32px;\n",
              "      padding: 0 0 0 0;\n",
              "      width: 32px;\n",
              "    }\n",
              "\n",
              "    .colab-df-convert:hover {\n",
              "      background-color: #E2EBFA;\n",
              "      box-shadow: 0px 1px 2px rgba(60, 64, 67, 0.3), 0px 1px 3px 1px rgba(60, 64, 67, 0.15);\n",
              "      fill: #174EA6;\n",
              "    }\n",
              "\n",
              "    [theme=dark] .colab-df-convert {\n",
              "      background-color: #3B4455;\n",
              "      fill: #D2E3FC;\n",
              "    }\n",
              "\n",
              "    [theme=dark] .colab-df-convert:hover {\n",
              "      background-color: #434B5C;\n",
              "      box-shadow: 0px 1px 3px 1px rgba(0, 0, 0, 0.15);\n",
              "      filter: drop-shadow(0px 1px 2px rgba(0, 0, 0, 0.3));\n",
              "      fill: #FFFFFF;\n",
              "    }\n",
              "  </style>\n",
              "\n",
              "      <script>\n",
              "        const buttonEl =\n",
              "          document.querySelector('#df-9a3b17b7-1644-4a52-bc9e-063577485ef0 button.colab-df-convert');\n",
              "        buttonEl.style.display =\n",
              "          google.colab.kernel.accessAllowed ? 'block' : 'none';\n",
              "\n",
              "        async function convertToInteractive(key) {\n",
              "          const element = document.querySelector('#df-9a3b17b7-1644-4a52-bc9e-063577485ef0');\n",
              "          const dataTable =\n",
              "            await google.colab.kernel.invokeFunction('convertToInteractive',\n",
              "                                                     [key], {});\n",
              "          if (!dataTable) return;\n",
              "\n",
              "          const docLinkHtml = 'Like what you see? Visit the ' +\n",
              "            '<a target=\"_blank\" href=https://colab.research.google.com/notebooks/data_table.ipynb>data table notebook</a>'\n",
              "            + ' to learn more about interactive tables.';\n",
              "          element.innerHTML = '';\n",
              "          dataTable['output_type'] = 'display_data';\n",
              "          await google.colab.output.renderOutput(dataTable, element);\n",
              "          const docLink = document.createElement('div');\n",
              "          docLink.innerHTML = docLinkHtml;\n",
              "          element.appendChild(docLink);\n",
              "        }\n",
              "      </script>\n",
              "    </div>\n",
              "  </div>\n",
              "  "
            ]
          },
          "metadata": {},
          "execution_count": 42
        }
      ],
      "source": [
        "df_num = df_clean[['limit_balance', 'age', 'bill_amt_1', 'bill_amt_2', 'bill_amt_3', 'bill_amt_4', 'bill_amt_5', 'bill_amt_6' , 'pay_amt_1', 'pay_amt_2', 'pay_amt_3', 'pay_amt_4', 'pay_amt_5', 'pay_amt_6']]\n",
        "df_num.head(3)"
      ]
    },
    {
      "cell_type": "code",
      "execution_count": 43,
      "metadata": {
        "colab": {
          "base_uri": "https://localhost:8080/",
          "height": 0
        },
        "id": "9izIvLzRi8ZO",
        "outputId": "19d3bd75-2671-4696-c533-d15689c54286"
      },
      "outputs": [
        {
          "output_type": "execute_result",
          "data": {
            "text/plain": [
              "                       0\n",
              "limit_balance   1.001283\n",
              "age             0.772606\n",
              "bill_amt_1      2.489448\n",
              "bill_amt_2      2.463145\n",
              "bill_amt_3      2.573814\n",
              "bill_amt_4      2.452296\n",
              "bill_amt_5      2.404885\n",
              "bill_amt_6      2.437294\n",
              "pay_amt_1      11.868752\n",
              "pay_amt_2      29.375586\n",
              "pay_amt_3       8.040236\n",
              "pay_amt_4       8.443513\n",
              "pay_amt_5      11.457815\n",
              "pay_amt_6       9.750713"
            ],
            "text/html": [
              "\n",
              "  <div id=\"df-61e0523c-e1fd-4d5f-8fbc-c1e80a556722\">\n",
              "    <div class=\"colab-df-container\">\n",
              "      <div>\n",
              "<style scoped>\n",
              "    .dataframe tbody tr th:only-of-type {\n",
              "        vertical-align: middle;\n",
              "    }\n",
              "\n",
              "    .dataframe tbody tr th {\n",
              "        vertical-align: top;\n",
              "    }\n",
              "\n",
              "    .dataframe thead th {\n",
              "        text-align: right;\n",
              "    }\n",
              "</style>\n",
              "<table border=\"1\" class=\"dataframe\">\n",
              "  <thead>\n",
              "    <tr style=\"text-align: right;\">\n",
              "      <th></th>\n",
              "      <th>0</th>\n",
              "    </tr>\n",
              "  </thead>\n",
              "  <tbody>\n",
              "    <tr>\n",
              "      <th>limit_balance</th>\n",
              "      <td>1.001283</td>\n",
              "    </tr>\n",
              "    <tr>\n",
              "      <th>age</th>\n",
              "      <td>0.772606</td>\n",
              "    </tr>\n",
              "    <tr>\n",
              "      <th>bill_amt_1</th>\n",
              "      <td>2.489448</td>\n",
              "    </tr>\n",
              "    <tr>\n",
              "      <th>bill_amt_2</th>\n",
              "      <td>2.463145</td>\n",
              "    </tr>\n",
              "    <tr>\n",
              "      <th>bill_amt_3</th>\n",
              "      <td>2.573814</td>\n",
              "    </tr>\n",
              "    <tr>\n",
              "      <th>bill_amt_4</th>\n",
              "      <td>2.452296</td>\n",
              "    </tr>\n",
              "    <tr>\n",
              "      <th>bill_amt_5</th>\n",
              "      <td>2.404885</td>\n",
              "    </tr>\n",
              "    <tr>\n",
              "      <th>bill_amt_6</th>\n",
              "      <td>2.437294</td>\n",
              "    </tr>\n",
              "    <tr>\n",
              "      <th>pay_amt_1</th>\n",
              "      <td>11.868752</td>\n",
              "    </tr>\n",
              "    <tr>\n",
              "      <th>pay_amt_2</th>\n",
              "      <td>29.375586</td>\n",
              "    </tr>\n",
              "    <tr>\n",
              "      <th>pay_amt_3</th>\n",
              "      <td>8.040236</td>\n",
              "    </tr>\n",
              "    <tr>\n",
              "      <th>pay_amt_4</th>\n",
              "      <td>8.443513</td>\n",
              "    </tr>\n",
              "    <tr>\n",
              "      <th>pay_amt_5</th>\n",
              "      <td>11.457815</td>\n",
              "    </tr>\n",
              "    <tr>\n",
              "      <th>pay_amt_6</th>\n",
              "      <td>9.750713</td>\n",
              "    </tr>\n",
              "  </tbody>\n",
              "</table>\n",
              "</div>\n",
              "      <button class=\"colab-df-convert\" onclick=\"convertToInteractive('df-61e0523c-e1fd-4d5f-8fbc-c1e80a556722')\"\n",
              "              title=\"Convert this dataframe to an interactive table.\"\n",
              "              style=\"display:none;\">\n",
              "        \n",
              "  <svg xmlns=\"http://www.w3.org/2000/svg\" height=\"24px\"viewBox=\"0 0 24 24\"\n",
              "       width=\"24px\">\n",
              "    <path d=\"M0 0h24v24H0V0z\" fill=\"none\"/>\n",
              "    <path d=\"M18.56 5.44l.94 2.06.94-2.06 2.06-.94-2.06-.94-.94-2.06-.94 2.06-2.06.94zm-11 1L8.5 8.5l.94-2.06 2.06-.94-2.06-.94L8.5 2.5l-.94 2.06-2.06.94zm10 10l.94 2.06.94-2.06 2.06-.94-2.06-.94-.94-2.06-.94 2.06-2.06.94z\"/><path d=\"M17.41 7.96l-1.37-1.37c-.4-.4-.92-.59-1.43-.59-.52 0-1.04.2-1.43.59L10.3 9.45l-7.72 7.72c-.78.78-.78 2.05 0 2.83L4 21.41c.39.39.9.59 1.41.59.51 0 1.02-.2 1.41-.59l7.78-7.78 2.81-2.81c.8-.78.8-2.07 0-2.86zM5.41 20L4 18.59l7.72-7.72 1.47 1.35L5.41 20z\"/>\n",
              "  </svg>\n",
              "      </button>\n",
              "      \n",
              "  <style>\n",
              "    .colab-df-container {\n",
              "      display:flex;\n",
              "      flex-wrap:wrap;\n",
              "      gap: 12px;\n",
              "    }\n",
              "\n",
              "    .colab-df-convert {\n",
              "      background-color: #E8F0FE;\n",
              "      border: none;\n",
              "      border-radius: 50%;\n",
              "      cursor: pointer;\n",
              "      display: none;\n",
              "      fill: #1967D2;\n",
              "      height: 32px;\n",
              "      padding: 0 0 0 0;\n",
              "      width: 32px;\n",
              "    }\n",
              "\n",
              "    .colab-df-convert:hover {\n",
              "      background-color: #E2EBFA;\n",
              "      box-shadow: 0px 1px 2px rgba(60, 64, 67, 0.3), 0px 1px 3px 1px rgba(60, 64, 67, 0.15);\n",
              "      fill: #174EA6;\n",
              "    }\n",
              "\n",
              "    [theme=dark] .colab-df-convert {\n",
              "      background-color: #3B4455;\n",
              "      fill: #D2E3FC;\n",
              "    }\n",
              "\n",
              "    [theme=dark] .colab-df-convert:hover {\n",
              "      background-color: #434B5C;\n",
              "      box-shadow: 0px 1px 3px 1px rgba(0, 0, 0, 0.15);\n",
              "      filter: drop-shadow(0px 1px 2px rgba(0, 0, 0, 0.3));\n",
              "      fill: #FFFFFF;\n",
              "    }\n",
              "  </style>\n",
              "\n",
              "      <script>\n",
              "        const buttonEl =\n",
              "          document.querySelector('#df-61e0523c-e1fd-4d5f-8fbc-c1e80a556722 button.colab-df-convert');\n",
              "        buttonEl.style.display =\n",
              "          google.colab.kernel.accessAllowed ? 'block' : 'none';\n",
              "\n",
              "        async function convertToInteractive(key) {\n",
              "          const element = document.querySelector('#df-61e0523c-e1fd-4d5f-8fbc-c1e80a556722');\n",
              "          const dataTable =\n",
              "            await google.colab.kernel.invokeFunction('convertToInteractive',\n",
              "                                                     [key], {});\n",
              "          if (!dataTable) return;\n",
              "\n",
              "          const docLinkHtml = 'Like what you see? Visit the ' +\n",
              "            '<a target=\"_blank\" href=https://colab.research.google.com/notebooks/data_table.ipynb>data table notebook</a>'\n",
              "            + ' to learn more about interactive tables.';\n",
              "          element.innerHTML = '';\n",
              "          dataTable['output_type'] = 'display_data';\n",
              "          await google.colab.output.renderOutput(dataTable, element);\n",
              "          const docLink = document.createElement('div');\n",
              "          docLink.innerHTML = docLinkHtml;\n",
              "          element.appendChild(docLink);\n",
              "        }\n",
              "      </script>\n",
              "    </div>\n",
              "  </div>\n",
              "  "
            ]
          },
          "metadata": {},
          "execution_count": 43
        }
      ],
      "source": [
        "skew = df_num.skew()\n",
        "skewness = pd.DataFrame(skew)\n",
        "skewness"
      ]
    },
    {
      "cell_type": "code",
      "execution_count": 44,
      "metadata": {
        "id": "_8bI7vAHi8ZP"
      },
      "outputs": [],
      "source": [
        "skewness.columns =['value']"
      ]
    },
    {
      "cell_type": "code",
      "execution_count": 45,
      "metadata": {
        "colab": {
          "base_uri": "https://localhost:8080/",
          "height": 0
        },
        "id": "mnddoSYwi8ZP",
        "outputId": "d3665ad4-20a2-4109-9f9b-3fba854bdbef"
      },
      "outputs": [
        {
          "output_type": "execute_result",
          "data": {
            "text/plain": [
              "                   value               distribusi\n",
              "limit_balance   1.001283  distribusi tidak normal\n",
              "age             0.772606  distribusi tidak normal\n",
              "bill_amt_1      2.489448  distribusi tidak normal\n",
              "bill_amt_2      2.463145  distribusi tidak normal\n",
              "bill_amt_3      2.573814  distribusi tidak normal\n",
              "bill_amt_4      2.452296  distribusi tidak normal\n",
              "bill_amt_5      2.404885  distribusi tidak normal\n",
              "bill_amt_6      2.437294  distribusi tidak normal\n",
              "pay_amt_1      11.868752  distribusi tidak normal\n",
              "pay_amt_2      29.375586  distribusi tidak normal\n",
              "pay_amt_3       8.040236  distribusi tidak normal\n",
              "pay_amt_4       8.443513  distribusi tidak normal\n",
              "pay_amt_5      11.457815  distribusi tidak normal\n",
              "pay_amt_6       9.750713  distribusi tidak normal"
            ],
            "text/html": [
              "\n",
              "  <div id=\"df-62fb0977-6f87-4888-b60e-de4c8e809fe3\">\n",
              "    <div class=\"colab-df-container\">\n",
              "      <div>\n",
              "<style scoped>\n",
              "    .dataframe tbody tr th:only-of-type {\n",
              "        vertical-align: middle;\n",
              "    }\n",
              "\n",
              "    .dataframe tbody tr th {\n",
              "        vertical-align: top;\n",
              "    }\n",
              "\n",
              "    .dataframe thead th {\n",
              "        text-align: right;\n",
              "    }\n",
              "</style>\n",
              "<table border=\"1\" class=\"dataframe\">\n",
              "  <thead>\n",
              "    <tr style=\"text-align: right;\">\n",
              "      <th></th>\n",
              "      <th>value</th>\n",
              "      <th>distribusi</th>\n",
              "    </tr>\n",
              "  </thead>\n",
              "  <tbody>\n",
              "    <tr>\n",
              "      <th>limit_balance</th>\n",
              "      <td>1.001283</td>\n",
              "      <td>distribusi tidak normal</td>\n",
              "    </tr>\n",
              "    <tr>\n",
              "      <th>age</th>\n",
              "      <td>0.772606</td>\n",
              "      <td>distribusi tidak normal</td>\n",
              "    </tr>\n",
              "    <tr>\n",
              "      <th>bill_amt_1</th>\n",
              "      <td>2.489448</td>\n",
              "      <td>distribusi tidak normal</td>\n",
              "    </tr>\n",
              "    <tr>\n",
              "      <th>bill_amt_2</th>\n",
              "      <td>2.463145</td>\n",
              "      <td>distribusi tidak normal</td>\n",
              "    </tr>\n",
              "    <tr>\n",
              "      <th>bill_amt_3</th>\n",
              "      <td>2.573814</td>\n",
              "      <td>distribusi tidak normal</td>\n",
              "    </tr>\n",
              "    <tr>\n",
              "      <th>bill_amt_4</th>\n",
              "      <td>2.452296</td>\n",
              "      <td>distribusi tidak normal</td>\n",
              "    </tr>\n",
              "    <tr>\n",
              "      <th>bill_amt_5</th>\n",
              "      <td>2.404885</td>\n",
              "      <td>distribusi tidak normal</td>\n",
              "    </tr>\n",
              "    <tr>\n",
              "      <th>bill_amt_6</th>\n",
              "      <td>2.437294</td>\n",
              "      <td>distribusi tidak normal</td>\n",
              "    </tr>\n",
              "    <tr>\n",
              "      <th>pay_amt_1</th>\n",
              "      <td>11.868752</td>\n",
              "      <td>distribusi tidak normal</td>\n",
              "    </tr>\n",
              "    <tr>\n",
              "      <th>pay_amt_2</th>\n",
              "      <td>29.375586</td>\n",
              "      <td>distribusi tidak normal</td>\n",
              "    </tr>\n",
              "    <tr>\n",
              "      <th>pay_amt_3</th>\n",
              "      <td>8.040236</td>\n",
              "      <td>distribusi tidak normal</td>\n",
              "    </tr>\n",
              "    <tr>\n",
              "      <th>pay_amt_4</th>\n",
              "      <td>8.443513</td>\n",
              "      <td>distribusi tidak normal</td>\n",
              "    </tr>\n",
              "    <tr>\n",
              "      <th>pay_amt_5</th>\n",
              "      <td>11.457815</td>\n",
              "      <td>distribusi tidak normal</td>\n",
              "    </tr>\n",
              "    <tr>\n",
              "      <th>pay_amt_6</th>\n",
              "      <td>9.750713</td>\n",
              "      <td>distribusi tidak normal</td>\n",
              "    </tr>\n",
              "  </tbody>\n",
              "</table>\n",
              "</div>\n",
              "      <button class=\"colab-df-convert\" onclick=\"convertToInteractive('df-62fb0977-6f87-4888-b60e-de4c8e809fe3')\"\n",
              "              title=\"Convert this dataframe to an interactive table.\"\n",
              "              style=\"display:none;\">\n",
              "        \n",
              "  <svg xmlns=\"http://www.w3.org/2000/svg\" height=\"24px\"viewBox=\"0 0 24 24\"\n",
              "       width=\"24px\">\n",
              "    <path d=\"M0 0h24v24H0V0z\" fill=\"none\"/>\n",
              "    <path d=\"M18.56 5.44l.94 2.06.94-2.06 2.06-.94-2.06-.94-.94-2.06-.94 2.06-2.06.94zm-11 1L8.5 8.5l.94-2.06 2.06-.94-2.06-.94L8.5 2.5l-.94 2.06-2.06.94zm10 10l.94 2.06.94-2.06 2.06-.94-2.06-.94-.94-2.06-.94 2.06-2.06.94z\"/><path d=\"M17.41 7.96l-1.37-1.37c-.4-.4-.92-.59-1.43-.59-.52 0-1.04.2-1.43.59L10.3 9.45l-7.72 7.72c-.78.78-.78 2.05 0 2.83L4 21.41c.39.39.9.59 1.41.59.51 0 1.02-.2 1.41-.59l7.78-7.78 2.81-2.81c.8-.78.8-2.07 0-2.86zM5.41 20L4 18.59l7.72-7.72 1.47 1.35L5.41 20z\"/>\n",
              "  </svg>\n",
              "      </button>\n",
              "      \n",
              "  <style>\n",
              "    .colab-df-container {\n",
              "      display:flex;\n",
              "      flex-wrap:wrap;\n",
              "      gap: 12px;\n",
              "    }\n",
              "\n",
              "    .colab-df-convert {\n",
              "      background-color: #E8F0FE;\n",
              "      border: none;\n",
              "      border-radius: 50%;\n",
              "      cursor: pointer;\n",
              "      display: none;\n",
              "      fill: #1967D2;\n",
              "      height: 32px;\n",
              "      padding: 0 0 0 0;\n",
              "      width: 32px;\n",
              "    }\n",
              "\n",
              "    .colab-df-convert:hover {\n",
              "      background-color: #E2EBFA;\n",
              "      box-shadow: 0px 1px 2px rgba(60, 64, 67, 0.3), 0px 1px 3px 1px rgba(60, 64, 67, 0.15);\n",
              "      fill: #174EA6;\n",
              "    }\n",
              "\n",
              "    [theme=dark] .colab-df-convert {\n",
              "      background-color: #3B4455;\n",
              "      fill: #D2E3FC;\n",
              "    }\n",
              "\n",
              "    [theme=dark] .colab-df-convert:hover {\n",
              "      background-color: #434B5C;\n",
              "      box-shadow: 0px 1px 3px 1px rgba(0, 0, 0, 0.15);\n",
              "      filter: drop-shadow(0px 1px 2px rgba(0, 0, 0, 0.3));\n",
              "      fill: #FFFFFF;\n",
              "    }\n",
              "  </style>\n",
              "\n",
              "      <script>\n",
              "        const buttonEl =\n",
              "          document.querySelector('#df-62fb0977-6f87-4888-b60e-de4c8e809fe3 button.colab-df-convert');\n",
              "        buttonEl.style.display =\n",
              "          google.colab.kernel.accessAllowed ? 'block' : 'none';\n",
              "\n",
              "        async function convertToInteractive(key) {\n",
              "          const element = document.querySelector('#df-62fb0977-6f87-4888-b60e-de4c8e809fe3');\n",
              "          const dataTable =\n",
              "            await google.colab.kernel.invokeFunction('convertToInteractive',\n",
              "                                                     [key], {});\n",
              "          if (!dataTable) return;\n",
              "\n",
              "          const docLinkHtml = 'Like what you see? Visit the ' +\n",
              "            '<a target=\"_blank\" href=https://colab.research.google.com/notebooks/data_table.ipynb>data table notebook</a>'\n",
              "            + ' to learn more about interactive tables.';\n",
              "          element.innerHTML = '';\n",
              "          dataTable['output_type'] = 'display_data';\n",
              "          await google.colab.output.renderOutput(dataTable, element);\n",
              "          const docLink = document.createElement('div');\n",
              "          docLink.innerHTML = docLinkHtml;\n",
              "          element.appendChild(docLink);\n",
              "        }\n",
              "      </script>\n",
              "    </div>\n",
              "  </div>\n",
              "  "
            ]
          },
          "metadata": {},
          "execution_count": 45
        }
      ],
      "source": [
        "skewness['distribusi']=0\n",
        "for i in skewness.index:\n",
        "  if (skewness[\"value\"][i]>= -0.5) & (skewness[\"value\"][i] <= 0.5):\n",
        "    skewness[\"distribusi\"][i]='distribusi normal'\n",
        "  else:\n",
        "    skewness[\"distribusi\"][i]='distribusi tidak normal'\n",
        "skewness"
      ]
    },
    {
      "cell_type": "code",
      "execution_count": 46,
      "metadata": {
        "id": "8rWfrHY1i8ZP"
      },
      "outputs": [],
      "source": [
        "numerical = df_num"
      ]
    },
    {
      "cell_type": "code",
      "execution_count": 47,
      "metadata": {
        "id": "88ZyHocti8ZP"
      },
      "outputs": [],
      "source": [
        "def diagnostic_plots(numerical, variable):\n",
        "    # Define figure size\n",
        "    plt.figure(figsize=(16, 4))\n",
        "\n",
        "    # Histogram\n",
        "    plt.subplot(1, 2, 1)\n",
        "    sns.histplot(numerical[variable], bins=30)\n",
        "    plt.title('Histogram')\n",
        "\n",
        "    # Boxplot\n",
        "    plt.subplot(1, 2, 2)\n",
        "    sns.boxplot(y=numerical[variable])\n",
        "    plt.title('Boxplot')\n",
        "\n",
        "    plt.show()"
      ]
    },
    {
      "cell_type": "code",
      "execution_count": 48,
      "metadata": {
        "colab": {
          "base_uri": "https://localhost:8080/",
          "height": 0
        },
        "id": "tUjv3qexi8ZP",
        "outputId": "d541d4fb-0134-4cee-e951-43d7bcdef052"
      },
      "outputs": [
        {
          "output_type": "display_data",
          "data": {
            "text/plain": [
              "<Figure size 1152x288 with 2 Axes>"
            ],
            "image/png": "[encoded data removed]"
          },
          "metadata": {
            "needs_background": "light"
          }
        },
        {
          "output_type": "display_data",
          "data": {
            "text/plain": [
              "<Figure size 1152x288 with 2 Axes>"
            ],
            "image/png": "[encoded data removed]"
          },
          "metadata": {
            "needs_background": "light"
          }
        },
        {
          "output_type": "display_data",
          "data": {
            "text/plain": [
              "<Figure size 1152x288 with 2 Axes>"
            ],
            "image/png": "[encoded data removed]"
          },
          "metadata": {
            "needs_background": "light"
          }
        },
        {
          "output_type": "display_data",
          "data": {
            "text/plain": [
              "<Figure size 1152x288 with 2 Axes>"
            ],
            "image/png": "[encoded data removed]"
          },
          "metadata": {
            "needs_background": "light"
          }
        },
        {
          "output_type": "display_data",
          "data": {
            "text/plain": [
              "<Figure size 1152x288 with 2 Axes>"
            ],
            "image/png": "[encoded data removed]"
          },
          "metadata": {
            "needs_background": "light"
          }
        },
        {
          "output_type": "display_data",
          "data": {
            "text/plain": [
              "<Figure size 1152x288 with 2 Axes>"
            ],
            "image/png": "[encoded data removed]"
          },
          "metadata": {
            "needs_background": "light"
          }
        },
        {
          "output_type": "display_data",
          "data": {
            "text/plain": [
              "<Figure size 1152x288 with 2 Axes>"
            ],
            "image/png": "[encoded data removed]"
          },
          "metadata": {
            "needs_background": "light"
          }
        },
        {
          "output_type": "display_data",
          "data": {
            "text/plain": [
              "<Figure size 1152x288 with 2 Axes>"
            ],
            "image/png": "[encoded data removed]"
          },
          "metadata": {
            "needs_background": "light"
          }
        },
        {
          "output_type": "display_data",
          "data": {
            "text/plain": [
              "<Figure size 1152x288 with 2 Axes>"
            ],
            "image/png": "[encoded data removed]"
          },
          "metadata": {
            "needs_background": "light"
          }
        },
        {
          "output_type": "display_data",
          "data": {
            "text/plain": [
              "<Figure size 1152x288 with 2 Axes>"
            ],
            "image/png": "[encoded data removed]"
          },
          "metadata": {
            "needs_background": "light"
          }
        },
        {
          "output_type": "display_data",
          "data": {
            "text/plain": [
              "<Figure size 1152x288 with 2 Axes>"
            ],
            "image/png": "[encoded data removed]"
          },
          "metadata": {
            "needs_background": "light"
          }
        },
        {
          "output_type": "display_data",
          "data": {
            "text/plain": [
              "<Figure size 1152x288 with 2 Axes>"
            ],
            "image/png": "[encoded data removed]"
          },
          "metadata": {
            "needs_background": "light"
          }
        },
        {
          "output_type": "display_data",
          "data": {
            "text/plain": [
              "<Figure size 1152x288 with 2 Axes>"
            ],
            "image/png": "[encoded data removed]"
          },
          "metadata": {
            "needs_background": "light"
          }
        },
        {
          "output_type": "display_data",
          "data": {
            "text/plain": [
              "<Figure size 1152x288 with 2 Axes>"
            ],
            "image/png": "[encoded data removed]"
          },
          "metadata": {
            "needs_background": "light"
          }
        }
      ],
      "source": [
        "diagnostic_plots(numerical, 'limit_balance')\n",
        "diagnostic_plots(numerical, 'age')\n",
        "diagnostic_plots(numerical, 'bill_amt_1')\n",
        "diagnostic_plots(numerical, 'bill_amt_2')\n",
        "diagnostic_plots(numerical, 'bill_amt_3')\n",
        "diagnostic_plots(numerical, 'bill_amt_4')\n",
        "diagnostic_plots(numerical, 'bill_amt_5')\n",
        "diagnostic_plots(numerical, 'bill_amt_6')\n",
        "diagnostic_plots(numerical, 'pay_amt_1')\n",
        "diagnostic_plots(numerical, 'pay_amt_2')\n",
        "diagnostic_plots(numerical, 'pay_amt_3')\n",
        "diagnostic_plots(numerical, 'pay_amt_4')\n",
        "diagnostic_plots(numerical, 'pay_amt_5')\n",
        "diagnostic_plots(numerical, 'pay_amt_6')"
      ]
    },
    {
      "cell_type": "code",
      "execution_count": 49,
      "metadata": {
        "colab": {
          "base_uri": "https://localhost:8080/"
        },
        "id": "4eP9WdjOi8ZP",
        "outputId": "03f07971-f289-47f1-b172-8625fa7a45e6"
      },
      "outputs": [
        {
          "output_type": "stream",
          "name": "stdout",
          "text": [
            "count of outlier:  8\n",
            "percent limit_balance of outlier:  0.3605227579990987 %\n"
          ]
        }
      ],
      "source": [
        "Q3 = df_eda['limit_balance'].quantile(.75)\n",
        "Q1 = df_eda['limit_balance'].quantile(.25)\n",
        "\n",
        "IQR = Q3 - Q1\n",
        "\n",
        "upper = Q3 + (1.5 * IQR)\n",
        "lower = Q1 - (1.5 * IQR)\n",
        "\n",
        "outlier = df_eda[(df_eda['limit_balance'] > upper) | (df_eda['limit_balance'] < lower)]\n",
        "\n",
        "print('count of outlier: ', outlier.shape[0])\n",
        "print('percent limit_balance of outlier: ', outlier.shape[0]/df_eda.shape[0] * 100, '%')"
      ]
    },
    {
      "cell_type": "code",
      "execution_count": 50,
      "metadata": {
        "id": "8zhsosFci8ZQ"
      },
      "outputs": [],
      "source": [
        "wins = Winsorizer(capping_method='iqr', tail='both', fold=1.5, \n",
        "variables=['limit_balance'])\n",
        "\n",
        "df_model = wins.fit_transform(df_eda)"
      ]
    },
    {
      "cell_type": "code",
      "execution_count": 51,
      "metadata": {
        "colab": {
          "base_uri": "https://localhost:8080/"
        },
        "id": "G2nka47mi8ZQ",
        "outputId": "d7d1a9cb-5452-4182-e33a-e2600fa85610"
      },
      "outputs": [
        {
          "output_type": "stream",
          "name": "stdout",
          "text": [
            "before handling: \n",
            " count      2219.000000\n",
            "mean     163132.041460\n",
            "std      126038.217385\n",
            "min       10000.000000\n",
            "25%       50000.000000\n",
            "50%      140000.000000\n",
            "75%      240000.000000\n",
            "max      800000.000000\n",
            "Name: limit_balance, dtype: float64\n"
          ]
        }
      ],
      "source": [
        "print('before handling: \\n', df_eda.limit_balance.describe())"
      ]
    },
    {
      "cell_type": "code",
      "execution_count": 52,
      "metadata": {
        "colab": {
          "base_uri": "https://localhost:8080/"
        },
        "id": "D6fE_ODYi8ZQ",
        "outputId": "45a2c1d2-4bed-439c-b1e2-2925d1069943"
      },
      "outputs": [
        {
          "output_type": "stream",
          "name": "stdout",
          "text": [
            "after handling: \n",
            " count      2219.000000\n",
            "mean     162622.803064\n",
            "std      124117.689151\n",
            "min       10000.000000\n",
            "25%       50000.000000\n",
            "50%      140000.000000\n",
            "75%      240000.000000\n",
            "max      525000.000000\n",
            "Name: limit_balance, dtype: float64\n"
          ]
        }
      ],
      "source": [
        "print('after handling: \\n', df_model.limit_balance.describe())"
      ]
    },
    {
      "cell_type": "markdown",
      "metadata": {
        "id": "CQXi4OkLi8ZQ"
      },
      "source": [
        "#### Categorical Feature"
      ]
    },
    {
      "cell_type": "code",
      "execution_count": 53,
      "metadata": {
        "colab": {
          "base_uri": "https://localhost:8080/",
          "height": 0
        },
        "id": "oqB0_ncSi8ZQ",
        "outputId": "8abea7ef-b5f8-46ba-9e29-2f7ce6a19cf6"
      },
      "outputs": [
        {
          "output_type": "execute_result",
          "data": {
            "text/plain": [
              "      limit_balance  sex  education_level  marital_status   age  pay_0  pay_2  \\\n",
              "291        280000.0    1                1               2  33.0    0.0    0.0   \n",
              "1948        20000.0    2                2               2  21.0    0.0    0.0   \n",
              "2482       230000.0    1                1               1  38.0    0.0    0.0   \n",
              "1269       190000.0    2                2               3  29.0    1.0    0.0   \n",
              "2918       260000.0    2                1               2  33.0    0.0    0.0   \n",
              "...             ...  ...              ...             ...   ...    ...    ...   \n",
              "1926        90000.0    2                1               2  31.0    0.0    0.0   \n",
              "1688        20000.0    1                2               1  26.0    1.0    2.0   \n",
              "742         50000.0    2                3               1  57.0    0.0    0.0   \n",
              "290        150000.0    1                2               2  37.0    0.0    0.0   \n",
              "745        130000.0    2                2               1  39.0    0.0    0.0   \n",
              "\n",
              "      pay_3  pay_4  pay_5  ...  bill_amt_4  bill_amt_5  bill_amt_6  pay_amt_1  \\\n",
              "291     0.0    0.0      0  ...    189287.0    185398.0    184414.0    10000.0   \n",
              "1948    2.0    2.0      0  ...         0.0         0.0         0.0      780.0   \n",
              "2482    0.0    0.0      0  ...      1346.0      1024.0        -4.0     2170.0   \n",
              "1269    0.0    0.0      0  ...       306.0       306.0         0.0        0.0   \n",
              "2918    0.0    0.0      0  ...      2190.0       810.0         0.0      204.0   \n",
              "...     ...    ...    ...  ...         ...         ...         ...        ...   \n",
              "1926    2.0    2.0      2  ...     85939.0     83680.0     89319.0     8000.0   \n",
              "1688    2.0    2.0      2  ...     11884.0     12894.0     12540.0        0.0   \n",
              "742     0.0    0.0      0  ...     50706.0     30636.0     30501.0     2100.0   \n",
              "290     0.0    0.0      0  ...    103711.0    104153.0    103240.0     4000.0   \n",
              "745     0.0    0.0      0  ...     81192.0     78774.0     77117.0     3339.0   \n",
              "\n",
              "      pay_amt_2  pay_amt_3  pay_amt_4  pay_amt_5  pay_amt_6  \\\n",
              "291     10059.0     5201.0     5211.0     5500.0     5500.0   \n",
              "1948        0.0        0.0        0.0        0.0        0.0   \n",
              "2482     1149.0     1352.0     1029.0        0.0      654.0   \n",
              "1269      306.0        0.0        0.0        0.0        0.0   \n",
              "2918        0.0     3000.0        0.0        0.0        0.0   \n",
              "...         ...        ...        ...        ...        ...   \n",
              "1926     4100.0     3000.0        0.0     7000.0     3100.0   \n",
              "1688     2000.0        0.0     1203.0        0.0     1700.0   \n",
              "742      2500.0     3820.0     1636.0     1501.0     1700.0   \n",
              "290      3700.0     3700.0     3756.0     3800.0     3500.0   \n",
              "745      2892.0     2733.0     2752.0     3159.0     3000.0   \n",
              "\n",
              "      default_payment_next_month  \n",
              "291                            0  \n",
              "1948                           0  \n",
              "2482                           0  \n",
              "1269                           0  \n",
              "2918                           0  \n",
              "...                          ...  \n",
              "1926                           1  \n",
              "1688                           0  \n",
              "742                            1  \n",
              "290                            0  \n",
              "745                            0  \n",
              "\n",
              "[2219 rows x 24 columns]"
            ],
            "text/html": [
              "\n",
              "  <div id=\"df-0739817d-1d46-40ee-8976-8741a482f259\">\n",
              "    <div class=\"colab-df-container\">\n",
              "      <div>\n",
              "<style scoped>\n",
              "    .dataframe tbody tr th:only-of-type {\n",
              "        vertical-align: middle;\n",
              "    }\n",
              "\n",
              "    .dataframe tbody tr th {\n",
              "        vertical-align: top;\n",
              "    }\n",
              "\n",
              "    .dataframe thead th {\n",
              "        text-align: right;\n",
              "    }\n",
              "</style>\n",
              "<table border=\"1\" class=\"dataframe\">\n",
              "  <thead>\n",
              "    <tr style=\"text-align: right;\">\n",
              "      <th></th>\n",
              "      <th>limit_balance</th>\n",
              "      <th>sex</th>\n",
              "      <th>education_level</th>\n",
              "      <th>marital_status</th>\n",
              "      <th>age</th>\n",
              "      <th>pay_0</th>\n",
              "      <th>pay_2</th>\n",
              "      <th>pay_3</th>\n",
              "      <th>pay_4</th>\n",
              "      <th>pay_5</th>\n",
              "      <th>...</th>\n",
              "      <th>bill_amt_4</th>\n",
              "      <th>bill_amt_5</th>\n",
              "      <th>bill_amt_6</th>\n",
              "      <th>pay_amt_1</th>\n",
              "      <th>pay_amt_2</th>\n",
              "      <th>pay_amt_3</th>\n",
              "      <th>pay_amt_4</th>\n",
              "      <th>pay_amt_5</th>\n",
              "      <th>pay_amt_6</th>\n",
              "      <th>default_payment_next_month</th>\n",
              "    </tr>\n",
              "  </thead>\n",
              "  <tbody>\n",
              "    <tr>\n",
              "      <th>291</th>\n",
              "      <td>280000.0</td>\n",
              "      <td>1</td>\n",
              "      <td>1</td>\n",
              "      <td>2</td>\n",
              "      <td>33.0</td>\n",
              "      <td>0.0</td>\n",
              "      <td>0.0</td>\n",
              "      <td>0.0</td>\n",
              "      <td>0.0</td>\n",
              "      <td>0</td>\n",
              "      <td>...</td>\n",
              "      <td>189287.0</td>\n",
              "      <td>185398.0</td>\n",
              "      <td>184414.0</td>\n",
              "      <td>10000.0</td>\n",
              "      <td>10059.0</td>\n",
              "      <td>5201.0</td>\n",
              "      <td>5211.0</td>\n",
              "      <td>5500.0</td>\n",
              "      <td>5500.0</td>\n",
              "      <td>0</td>\n",
              "    </tr>\n",
              "    <tr>\n",
              "      <th>1948</th>\n",
              "      <td>20000.0</td>\n",
              "      <td>2</td>\n",
              "      <td>2</td>\n",
              "      <td>2</td>\n",
              "      <td>21.0</td>\n",
              "      <td>0.0</td>\n",
              "      <td>0.0</td>\n",
              "      <td>2.0</td>\n",
              "      <td>2.0</td>\n",
              "      <td>0</td>\n",
              "      <td>...</td>\n",
              "      <td>0.0</td>\n",
              "      <td>0.0</td>\n",
              "      <td>0.0</td>\n",
              "      <td>780.0</td>\n",
              "      <td>0.0</td>\n",
              "      <td>0.0</td>\n",
              "      <td>0.0</td>\n",
              "      <td>0.0</td>\n",
              "      <td>0.0</td>\n",
              "      <td>0</td>\n",
              "    </tr>\n",
              "    <tr>\n",
              "      <th>2482</th>\n",
              "      <td>230000.0</td>\n",
              "      <td>1</td>\n",
              "      <td>1</td>\n",
              "      <td>1</td>\n",
              "      <td>38.0</td>\n",
              "      <td>0.0</td>\n",
              "      <td>0.0</td>\n",
              "      <td>0.0</td>\n",
              "      <td>0.0</td>\n",
              "      <td>0</td>\n",
              "      <td>...</td>\n",
              "      <td>1346.0</td>\n",
              "      <td>1024.0</td>\n",
              "      <td>-4.0</td>\n",
              "      <td>2170.0</td>\n",
              "      <td>1149.0</td>\n",
              "      <td>1352.0</td>\n",
              "      <td>1029.0</td>\n",
              "      <td>0.0</td>\n",
              "      <td>654.0</td>\n",
              "      <td>0</td>\n",
              "    </tr>\n",
              "    <tr>\n",
              "      <th>1269</th>\n",
              "      <td>190000.0</td>\n",
              "      <td>2</td>\n",
              "      <td>2</td>\n",
              "      <td>3</td>\n",
              "      <td>29.0</td>\n",
              "      <td>1.0</td>\n",
              "      <td>0.0</td>\n",
              "      <td>0.0</td>\n",
              "      <td>0.0</td>\n",
              "      <td>0</td>\n",
              "      <td>...</td>\n",
              "      <td>306.0</td>\n",
              "      <td>306.0</td>\n",
              "      <td>0.0</td>\n",
              "      <td>0.0</td>\n",
              "      <td>306.0</td>\n",
              "      <td>0.0</td>\n",
              "      <td>0.0</td>\n",
              "      <td>0.0</td>\n",
              "      <td>0.0</td>\n",
              "      <td>0</td>\n",
              "    </tr>\n",
              "    <tr>\n",
              "      <th>2918</th>\n",
              "      <td>260000.0</td>\n",
              "      <td>2</td>\n",
              "      <td>1</td>\n",
              "      <td>2</td>\n",
              "      <td>33.0</td>\n",
              "      <td>0.0</td>\n",
              "      <td>0.0</td>\n",
              "      <td>0.0</td>\n",
              "      <td>0.0</td>\n",
              "      <td>0</td>\n",
              "      <td>...</td>\n",
              "      <td>2190.0</td>\n",
              "      <td>810.0</td>\n",
              "      <td>0.0</td>\n",
              "      <td>204.0</td>\n",
              "      <td>0.0</td>\n",
              "      <td>3000.0</td>\n",
              "      <td>0.0</td>\n",
              "      <td>0.0</td>\n",
              "      <td>0.0</td>\n",
              "      <td>0</td>\n",
              "    </tr>\n",
              "    <tr>\n",
              "      <th>...</th>\n",
              "      <td>...</td>\n",
              "      <td>...</td>\n",
              "      <td>...</td>\n",
              "      <td>...</td>\n",
              "      <td>...</td>\n",
              "      <td>...</td>\n",
              "      <td>...</td>\n",
              "      <td>...</td>\n",
              "      <td>...</td>\n",
              "      <td>...</td>\n",
              "      <td>...</td>\n",
              "      <td>...</td>\n",
              "      <td>...</td>\n",
              "      <td>...</td>\n",
              "      <td>...</td>\n",
              "      <td>...</td>\n",
              "      <td>...</td>\n",
              "      <td>...</td>\n",
              "      <td>...</td>\n",
              "      <td>...</td>\n",
              "      <td>...</td>\n",
              "    </tr>\n",
              "    <tr>\n",
              "      <th>1926</th>\n",
              "      <td>90000.0</td>\n",
              "      <td>2</td>\n",
              "      <td>1</td>\n",
              "      <td>2</td>\n",
              "      <td>31.0</td>\n",
              "      <td>0.0</td>\n",
              "      <td>0.0</td>\n",
              "      <td>2.0</td>\n",
              "      <td>2.0</td>\n",
              "      <td>2</td>\n",
              "      <td>...</td>\n",
              "      <td>85939.0</td>\n",
              "      <td>83680.0</td>\n",
              "      <td>89319.0</td>\n",
              "      <td>8000.0</td>\n",
              "      <td>4100.0</td>\n",
              "      <td>3000.0</td>\n",
              "      <td>0.0</td>\n",
              "      <td>7000.0</td>\n",
              "      <td>3100.0</td>\n",
              "      <td>1</td>\n",
              "    </tr>\n",
              "    <tr>\n",
              "      <th>1688</th>\n",
              "      <td>20000.0</td>\n",
              "      <td>1</td>\n",
              "      <td>2</td>\n",
              "      <td>1</td>\n",
              "      <td>26.0</td>\n",
              "      <td>1.0</td>\n",
              "      <td>2.0</td>\n",
              "      <td>2.0</td>\n",
              "      <td>2.0</td>\n",
              "      <td>2</td>\n",
              "      <td>...</td>\n",
              "      <td>11884.0</td>\n",
              "      <td>12894.0</td>\n",
              "      <td>12540.0</td>\n",
              "      <td>0.0</td>\n",
              "      <td>2000.0</td>\n",
              "      <td>0.0</td>\n",
              "      <td>1203.0</td>\n",
              "      <td>0.0</td>\n",
              "      <td>1700.0</td>\n",
              "      <td>0</td>\n",
              "    </tr>\n",
              "    <tr>\n",
              "      <th>742</th>\n",
              "      <td>50000.0</td>\n",
              "      <td>2</td>\n",
              "      <td>3</td>\n",
              "      <td>1</td>\n",
              "      <td>57.0</td>\n",
              "      <td>0.0</td>\n",
              "      <td>0.0</td>\n",
              "      <td>0.0</td>\n",
              "      <td>0.0</td>\n",
              "      <td>0</td>\n",
              "      <td>...</td>\n",
              "      <td>50706.0</td>\n",
              "      <td>30636.0</td>\n",
              "      <td>30501.0</td>\n",
              "      <td>2100.0</td>\n",
              "      <td>2500.0</td>\n",
              "      <td>3820.0</td>\n",
              "      <td>1636.0</td>\n",
              "      <td>1501.0</td>\n",
              "      <td>1700.0</td>\n",
              "      <td>1</td>\n",
              "    </tr>\n",
              "    <tr>\n",
              "      <th>290</th>\n",
              "      <td>150000.0</td>\n",
              "      <td>1</td>\n",
              "      <td>2</td>\n",
              "      <td>2</td>\n",
              "      <td>37.0</td>\n",
              "      <td>0.0</td>\n",
              "      <td>0.0</td>\n",
              "      <td>0.0</td>\n",
              "      <td>0.0</td>\n",
              "      <td>0</td>\n",
              "      <td>...</td>\n",
              "      <td>103711.0</td>\n",
              "      <td>104153.0</td>\n",
              "      <td>103240.0</td>\n",
              "      <td>4000.0</td>\n",
              "      <td>3700.0</td>\n",
              "      <td>3700.0</td>\n",
              "      <td>3756.0</td>\n",
              "      <td>3800.0</td>\n",
              "      <td>3500.0</td>\n",
              "      <td>0</td>\n",
              "    </tr>\n",
              "    <tr>\n",
              "      <th>745</th>\n",
              "      <td>130000.0</td>\n",
              "      <td>2</td>\n",
              "      <td>2</td>\n",
              "      <td>1</td>\n",
              "      <td>39.0</td>\n",
              "      <td>0.0</td>\n",
              "      <td>0.0</td>\n",
              "      <td>0.0</td>\n",
              "      <td>0.0</td>\n",
              "      <td>0</td>\n",
              "      <td>...</td>\n",
              "      <td>81192.0</td>\n",
              "      <td>78774.0</td>\n",
              "      <td>77117.0</td>\n",
              "      <td>3339.0</td>\n",
              "      <td>2892.0</td>\n",
              "      <td>2733.0</td>\n",
              "      <td>2752.0</td>\n",
              "      <td>3159.0</td>\n",
              "      <td>3000.0</td>\n",
              "      <td>0</td>\n",
              "    </tr>\n",
              "  </tbody>\n",
              "</table>\n",
              "<p>2219 rows × 24 columns</p>\n",
              "</div>\n",
              "      <button class=\"colab-df-convert\" onclick=\"convertToInteractive('df-0739817d-1d46-40ee-8976-8741a482f259')\"\n",
              "              title=\"Convert this dataframe to an interactive table.\"\n",
              "              style=\"display:none;\">\n",
              "        \n",
              "  <svg xmlns=\"http://www.w3.org/2000/svg\" height=\"24px\"viewBox=\"0 0 24 24\"\n",
              "       width=\"24px\">\n",
              "    <path d=\"M0 0h24v24H0V0z\" fill=\"none\"/>\n",
              "    <path d=\"M18.56 5.44l.94 2.06.94-2.06 2.06-.94-2.06-.94-.94-2.06-.94 2.06-2.06.94zm-11 1L8.5 8.5l.94-2.06 2.06-.94-2.06-.94L8.5 2.5l-.94 2.06-2.06.94zm10 10l.94 2.06.94-2.06 2.06-.94-2.06-.94-.94-2.06-.94 2.06-2.06.94z\"/><path d=\"M17.41 7.96l-1.37-1.37c-.4-.4-.92-.59-1.43-.59-.52 0-1.04.2-1.43.59L10.3 9.45l-7.72 7.72c-.78.78-.78 2.05 0 2.83L4 21.41c.39.39.9.59 1.41.59.51 0 1.02-.2 1.41-.59l7.78-7.78 2.81-2.81c.8-.78.8-2.07 0-2.86zM5.41 20L4 18.59l7.72-7.72 1.47 1.35L5.41 20z\"/>\n",
              "  </svg>\n",
              "      </button>\n",
              "      \n",
              "  <style>\n",
              "    .colab-df-container {\n",
              "      display:flex;\n",
              "      flex-wrap:wrap;\n",
              "      gap: 12px;\n",
              "    }\n",
              "\n",
              "    .colab-df-convert {\n",
              "      background-color: #E8F0FE;\n",
              "      border: none;\n",
              "      border-radius: 50%;\n",
              "      cursor: pointer;\n",
              "      display: none;\n",
              "      fill: #1967D2;\n",
              "      height: 32px;\n",
              "      padding: 0 0 0 0;\n",
              "      width: 32px;\n",
              "    }\n",
              "\n",
              "    .colab-df-convert:hover {\n",
              "      background-color: #E2EBFA;\n",
              "      box-shadow: 0px 1px 2px rgba(60, 64, 67, 0.3), 0px 1px 3px 1px rgba(60, 64, 67, 0.15);\n",
              "      fill: #174EA6;\n",
              "    }\n",
              "\n",
              "    [theme=dark] .colab-df-convert {\n",
              "      background-color: #3B4455;\n",
              "      fill: #D2E3FC;\n",
              "    }\n",
              "\n",
              "    [theme=dark] .colab-df-convert:hover {\n",
              "      background-color: #434B5C;\n",
              "      box-shadow: 0px 1px 3px 1px rgba(0, 0, 0, 0.15);\n",
              "      filter: drop-shadow(0px 1px 2px rgba(0, 0, 0, 0.3));\n",
              "      fill: #FFFFFF;\n",
              "    }\n",
              "  </style>\n",
              "\n",
              "      <script>\n",
              "        const buttonEl =\n",
              "          document.querySelector('#df-0739817d-1d46-40ee-8976-8741a482f259 button.colab-df-convert');\n",
              "        buttonEl.style.display =\n",
              "          google.colab.kernel.accessAllowed ? 'block' : 'none';\n",
              "\n",
              "        async function convertToInteractive(key) {\n",
              "          const element = document.querySelector('#df-0739817d-1d46-40ee-8976-8741a482f259');\n",
              "          const dataTable =\n",
              "            await google.colab.kernel.invokeFunction('convertToInteractive',\n",
              "                                                     [key], {});\n",
              "          if (!dataTable) return;\n",
              "\n",
              "          const docLinkHtml = 'Like what you see? Visit the ' +\n",
              "            '<a target=\"_blank\" href=https://colab.research.google.com/notebooks/data_table.ipynb>data table notebook</a>'\n",
              "            + ' to learn more about interactive tables.';\n",
              "          element.innerHTML = '';\n",
              "          dataTable['output_type'] = 'display_data';\n",
              "          await google.colab.output.renderOutput(dataTable, element);\n",
              "          const docLink = document.createElement('div');\n",
              "          docLink.innerHTML = docLinkHtml;\n",
              "          element.appendChild(docLink);\n",
              "        }\n",
              "      </script>\n",
              "    </div>\n",
              "  </div>\n",
              "  "
            ]
          },
          "metadata": {},
          "execution_count": 53
        }
      ],
      "source": [
        "df_model"
      ]
    },
    {
      "cell_type": "code",
      "execution_count": 54,
      "metadata": {
        "colab": {
          "base_uri": "https://localhost:8080/",
          "height": 0
        },
        "id": "qckWKs6Ki8ZR",
        "outputId": "e860de3f-54d5-4ba9-86b6-619ab993eb0a"
      },
      "outputs": [
        {
          "output_type": "execute_result",
          "data": {
            "text/plain": [
              "      sex  education_level  marital_status  pay_0  pay_2  pay_3  pay_4  pay_5  \\\n",
              "291     1                1               2    0.0    0.0    0.0    0.0      0   \n",
              "1948    2                2               2    0.0    0.0    2.0    2.0      0   \n",
              "2482    1                1               1    0.0    0.0    0.0    0.0      0   \n",
              "\n",
              "      pay_6  default_payment_next_month  \n",
              "291       0                           0  \n",
              "1948      0                           0  \n",
              "2482      0                           0  "
            ],
            "text/html": [
              "\n",
              "  <div id=\"df-e371e917-284a-45f0-8141-66557076259f\">\n",
              "    <div class=\"colab-df-container\">\n",
              "      <div>\n",
              "<style scoped>\n",
              "    .dataframe tbody tr th:only-of-type {\n",
              "        vertical-align: middle;\n",
              "    }\n",
              "\n",
              "    .dataframe tbody tr th {\n",
              "        vertical-align: top;\n",
              "    }\n",
              "\n",
              "    .dataframe thead th {\n",
              "        text-align: right;\n",
              "    }\n",
              "</style>\n",
              "<table border=\"1\" class=\"dataframe\">\n",
              "  <thead>\n",
              "    <tr style=\"text-align: right;\">\n",
              "      <th></th>\n",
              "      <th>sex</th>\n",
              "      <th>education_level</th>\n",
              "      <th>marital_status</th>\n",
              "      <th>pay_0</th>\n",
              "      <th>pay_2</th>\n",
              "      <th>pay_3</th>\n",
              "      <th>pay_4</th>\n",
              "      <th>pay_5</th>\n",
              "      <th>pay_6</th>\n",
              "      <th>default_payment_next_month</th>\n",
              "    </tr>\n",
              "  </thead>\n",
              "  <tbody>\n",
              "    <tr>\n",
              "      <th>291</th>\n",
              "      <td>1</td>\n",
              "      <td>1</td>\n",
              "      <td>2</td>\n",
              "      <td>0.0</td>\n",
              "      <td>0.0</td>\n",
              "      <td>0.0</td>\n",
              "      <td>0.0</td>\n",
              "      <td>0</td>\n",
              "      <td>0</td>\n",
              "      <td>0</td>\n",
              "    </tr>\n",
              "    <tr>\n",
              "      <th>1948</th>\n",
              "      <td>2</td>\n",
              "      <td>2</td>\n",
              "      <td>2</td>\n",
              "      <td>0.0</td>\n",
              "      <td>0.0</td>\n",
              "      <td>2.0</td>\n",
              "      <td>2.0</td>\n",
              "      <td>0</td>\n",
              "      <td>0</td>\n",
              "      <td>0</td>\n",
              "    </tr>\n",
              "    <tr>\n",
              "      <th>2482</th>\n",
              "      <td>1</td>\n",
              "      <td>1</td>\n",
              "      <td>1</td>\n",
              "      <td>0.0</td>\n",
              "      <td>0.0</td>\n",
              "      <td>0.0</td>\n",
              "      <td>0.0</td>\n",
              "      <td>0</td>\n",
              "      <td>0</td>\n",
              "      <td>0</td>\n",
              "    </tr>\n",
              "  </tbody>\n",
              "</table>\n",
              "</div>\n",
              "      <button class=\"colab-df-convert\" onclick=\"convertToInteractive('df-e371e917-284a-45f0-8141-66557076259f')\"\n",
              "              title=\"Convert this dataframe to an interactive table.\"\n",
              "              style=\"display:none;\">\n",
              "        \n",
              "  <svg xmlns=\"http://www.w3.org/2000/svg\" height=\"24px\"viewBox=\"0 0 24 24\"\n",
              "       width=\"24px\">\n",
              "    <path d=\"M0 0h24v24H0V0z\" fill=\"none\"/>\n",
              "    <path d=\"M18.56 5.44l.94 2.06.94-2.06 2.06-.94-2.06-.94-.94-2.06-.94 2.06-2.06.94zm-11 1L8.5 8.5l.94-2.06 2.06-.94-2.06-.94L8.5 2.5l-.94 2.06-2.06.94zm10 10l.94 2.06.94-2.06 2.06-.94-2.06-.94-.94-2.06-.94 2.06-2.06.94z\"/><path d=\"M17.41 7.96l-1.37-1.37c-.4-.4-.92-.59-1.43-.59-.52 0-1.04.2-1.43.59L10.3 9.45l-7.72 7.72c-.78.78-.78 2.05 0 2.83L4 21.41c.39.39.9.59 1.41.59.51 0 1.02-.2 1.41-.59l7.78-7.78 2.81-2.81c.8-.78.8-2.07 0-2.86zM5.41 20L4 18.59l7.72-7.72 1.47 1.35L5.41 20z\"/>\n",
              "  </svg>\n",
              "      </button>\n",
              "      \n",
              "  <style>\n",
              "    .colab-df-container {\n",
              "      display:flex;\n",
              "      flex-wrap:wrap;\n",
              "      gap: 12px;\n",
              "    }\n",
              "\n",
              "    .colab-df-convert {\n",
              "      background-color: #E8F0FE;\n",
              "      border: none;\n",
              "      border-radius: 50%;\n",
              "      cursor: pointer;\n",
              "      display: none;\n",
              "      fill: #1967D2;\n",
              "      height: 32px;\n",
              "      padding: 0 0 0 0;\n",
              "      width: 32px;\n",
              "    }\n",
              "\n",
              "    .colab-df-convert:hover {\n",
              "      background-color: #E2EBFA;\n",
              "      box-shadow: 0px 1px 2px rgba(60, 64, 67, 0.3), 0px 1px 3px 1px rgba(60, 64, 67, 0.15);\n",
              "      fill: #174EA6;\n",
              "    }\n",
              "\n",
              "    [theme=dark] .colab-df-convert {\n",
              "      background-color: #3B4455;\n",
              "      fill: #D2E3FC;\n",
              "    }\n",
              "\n",
              "    [theme=dark] .colab-df-convert:hover {\n",
              "      background-color: #434B5C;\n",
              "      box-shadow: 0px 1px 3px 1px rgba(0, 0, 0, 0.15);\n",
              "      filter: drop-shadow(0px 1px 2px rgba(0, 0, 0, 0.3));\n",
              "      fill: #FFFFFF;\n",
              "    }\n",
              "  </style>\n",
              "\n",
              "      <script>\n",
              "        const buttonEl =\n",
              "          document.querySelector('#df-e371e917-284a-45f0-8141-66557076259f button.colab-df-convert');\n",
              "        buttonEl.style.display =\n",
              "          google.colab.kernel.accessAllowed ? 'block' : 'none';\n",
              "\n",
              "        async function convertToInteractive(key) {\n",
              "          const element = document.querySelector('#df-e371e917-284a-45f0-8141-66557076259f');\n",
              "          const dataTable =\n",
              "            await google.colab.kernel.invokeFunction('convertToInteractive',\n",
              "                                                     [key], {});\n",
              "          if (!dataTable) return;\n",
              "\n",
              "          const docLinkHtml = 'Like what you see? Visit the ' +\n",
              "            '<a target=\"_blank\" href=https://colab.research.google.com/notebooks/data_table.ipynb>data table notebook</a>'\n",
              "            + ' to learn more about interactive tables.';\n",
              "          element.innerHTML = '';\n",
              "          dataTable['output_type'] = 'display_data';\n",
              "          await google.colab.output.renderOutput(dataTable, element);\n",
              "          const docLink = document.createElement('div');\n",
              "          docLink.innerHTML = docLinkHtml;\n",
              "          element.appendChild(docLink);\n",
              "        }\n",
              "      </script>\n",
              "    </div>\n",
              "  </div>\n",
              "  "
            ]
          },
          "metadata": {},
          "execution_count": 54
        }
      ],
      "source": [
        "df_cat = df_model[['sex', 'education_level', 'marital_status', \n",
        "       'pay_0', 'pay_2', 'pay_3', 'pay_4', 'pay_5', 'pay_6',  'default_payment_next_month']]\n",
        "df_cat.head(3)"
      ]
    },
    {
      "cell_type": "markdown",
      "metadata": {
        "id": "w0c24Ok3hNXa"
      },
      "source": [
        "Membagi kolom mengikuti tipe datanya:\n",
        "1. Numerikal data\n",
        "- dilakukan perhitungan nilai skew pada masing-masing kolom\n",
        "- sebaran data : dari nilai skew dan distribusi yang ditampilkan berdasarkan grafik histogram dan boxplot menunjukan bahwa data mempunyai persebaran yang tidak normal (asimetris). Seluruh kolom menunjukan positif skew yang mana dalam histogram ditunjukan sebagai right skew (lembah kanan pada grafik lebih panjang)\n",
        "- dilakukan capping pada kolom 'limit_balance' menggunakan winsorizer dengan perhitungan iqr, hal tersebut dikarenakan persebaran data yang tidak normal\n",
        "- perbedaan yang ditunjukan sebelum dan sesudah dilakukan capping: terjadinya penurunan pada nilai mean, standardeviasi dan max\n",
        "2. Kategorikal data\n",
        "- tidak dilakukan perlakuan lagi pada proses ini dikarenakan sudah dilakukan pada proses data cleaning. Langkah tersebut dilakukan dengan tujuan penyeragaman data sebelum masuk kedalam model"
      ]
    },
    {
      "cell_type": "markdown",
      "metadata": {
        "id": "sHWZqZYGi8ZR"
      },
      "source": [
        "#### Combine Numerical and Categorical"
      ]
    },
    {
      "cell_type": "code",
      "execution_count": 55,
      "metadata": {
        "colab": {
          "base_uri": "https://localhost:8080/",
          "height": 0
        },
        "id": "ykAeaNn7i8ZR",
        "outputId": "e20a3865-0828-4bd5-a7fd-f036019ffa81"
      },
      "outputs": [
        {
          "output_type": "execute_result",
          "data": {
            "text/plain": [
              "      limit_balance  sex  education_level  marital_status   age  pay_0  pay_2  \\\n",
              "291        280000.0    1                1               2  33.0    0.0    0.0   \n",
              "1948        20000.0    2                2               2  21.0    0.0    0.0   \n",
              "2482       230000.0    1                1               1  38.0    0.0    0.0   \n",
              "\n",
              "      pay_3  pay_4  pay_5  ...  bill_amt_4  bill_amt_5  bill_amt_6  pay_amt_1  \\\n",
              "291     0.0    0.0      0  ...    189287.0    185398.0    184414.0    10000.0   \n",
              "1948    2.0    2.0      0  ...         0.0         0.0         0.0      780.0   \n",
              "2482    0.0    0.0      0  ...      1346.0      1024.0        -4.0     2170.0   \n",
              "\n",
              "      pay_amt_2  pay_amt_3  pay_amt_4  pay_amt_5  pay_amt_6  \\\n",
              "291     10059.0     5201.0     5211.0     5500.0     5500.0   \n",
              "1948        0.0        0.0        0.0        0.0        0.0   \n",
              "2482     1149.0     1352.0     1029.0        0.0      654.0   \n",
              "\n",
              "      default_payment_next_month  \n",
              "291                            0  \n",
              "1948                           0  \n",
              "2482                           0  \n",
              "\n",
              "[3 rows x 24 columns]"
            ],
            "text/html": [
              "\n",
              "  <div id=\"df-5cb3567a-8f80-4ef8-a6d8-9fe2d57df154\">\n",
              "    <div class=\"colab-df-container\">\n",
              "      <div>\n",
              "<style scoped>\n",
              "    .dataframe tbody tr th:only-of-type {\n",
              "        vertical-align: middle;\n",
              "    }\n",
              "\n",
              "    .dataframe tbody tr th {\n",
              "        vertical-align: top;\n",
              "    }\n",
              "\n",
              "    .dataframe thead th {\n",
              "        text-align: right;\n",
              "    }\n",
              "</style>\n",
              "<table border=\"1\" class=\"dataframe\">\n",
              "  <thead>\n",
              "    <tr style=\"text-align: right;\">\n",
              "      <th></th>\n",
              "      <th>limit_balance</th>\n",
              "      <th>sex</th>\n",
              "      <th>education_level</th>\n",
              "      <th>marital_status</th>\n",
              "      <th>age</th>\n",
              "      <th>pay_0</th>\n",
              "      <th>pay_2</th>\n",
              "      <th>pay_3</th>\n",
              "      <th>pay_4</th>\n",
              "      <th>pay_5</th>\n",
              "      <th>...</th>\n",
              "      <th>bill_amt_4</th>\n",
              "      <th>bill_amt_5</th>\n",
              "      <th>bill_amt_6</th>\n",
              "      <th>pay_amt_1</th>\n",
              "      <th>pay_amt_2</th>\n",
              "      <th>pay_amt_3</th>\n",
              "      <th>pay_amt_4</th>\n",
              "      <th>pay_amt_5</th>\n",
              "      <th>pay_amt_6</th>\n",
              "      <th>default_payment_next_month</th>\n",
              "    </tr>\n",
              "  </thead>\n",
              "  <tbody>\n",
              "    <tr>\n",
              "      <th>291</th>\n",
              "      <td>280000.0</td>\n",
              "      <td>1</td>\n",
              "      <td>1</td>\n",
              "      <td>2</td>\n",
              "      <td>33.0</td>\n",
              "      <td>0.0</td>\n",
              "      <td>0.0</td>\n",
              "      <td>0.0</td>\n",
              "      <td>0.0</td>\n",
              "      <td>0</td>\n",
              "      <td>...</td>\n",
              "      <td>189287.0</td>\n",
              "      <td>185398.0</td>\n",
              "      <td>184414.0</td>\n",
              "      <td>10000.0</td>\n",
              "      <td>10059.0</td>\n",
              "      <td>5201.0</td>\n",
              "      <td>5211.0</td>\n",
              "      <td>5500.0</td>\n",
              "      <td>5500.0</td>\n",
              "      <td>0</td>\n",
              "    </tr>\n",
              "    <tr>\n",
              "      <th>1948</th>\n",
              "      <td>20000.0</td>\n",
              "      <td>2</td>\n",
              "      <td>2</td>\n",
              "      <td>2</td>\n",
              "      <td>21.0</td>\n",
              "      <td>0.0</td>\n",
              "      <td>0.0</td>\n",
              "      <td>2.0</td>\n",
              "      <td>2.0</td>\n",
              "      <td>0</td>\n",
              "      <td>...</td>\n",
              "      <td>0.0</td>\n",
              "      <td>0.0</td>\n",
              "      <td>0.0</td>\n",
              "      <td>780.0</td>\n",
              "      <td>0.0</td>\n",
              "      <td>0.0</td>\n",
              "      <td>0.0</td>\n",
              "      <td>0.0</td>\n",
              "      <td>0.0</td>\n",
              "      <td>0</td>\n",
              "    </tr>\n",
              "    <tr>\n",
              "      <th>2482</th>\n",
              "      <td>230000.0</td>\n",
              "      <td>1</td>\n",
              "      <td>1</td>\n",
              "      <td>1</td>\n",
              "      <td>38.0</td>\n",
              "      <td>0.0</td>\n",
              "      <td>0.0</td>\n",
              "      <td>0.0</td>\n",
              "      <td>0.0</td>\n",
              "      <td>0</td>\n",
              "      <td>...</td>\n",
              "      <td>1346.0</td>\n",
              "      <td>1024.0</td>\n",
              "      <td>-4.0</td>\n",
              "      <td>2170.0</td>\n",
              "      <td>1149.0</td>\n",
              "      <td>1352.0</td>\n",
              "      <td>1029.0</td>\n",
              "      <td>0.0</td>\n",
              "      <td>654.0</td>\n",
              "      <td>0</td>\n",
              "    </tr>\n",
              "  </tbody>\n",
              "</table>\n",
              "<p>3 rows × 24 columns</p>\n",
              "</div>\n",
              "      <button class=\"colab-df-convert\" onclick=\"convertToInteractive('df-5cb3567a-8f80-4ef8-a6d8-9fe2d57df154')\"\n",
              "              title=\"Convert this dataframe to an interactive table.\"\n",
              "              style=\"display:none;\">\n",
              "        \n",
              "  <svg xmlns=\"http://www.w3.org/2000/svg\" height=\"24px\"viewBox=\"0 0 24 24\"\n",
              "       width=\"24px\">\n",
              "    <path d=\"M0 0h24v24H0V0z\" fill=\"none\"/>\n",
              "    <path d=\"M18.56 5.44l.94 2.06.94-2.06 2.06-.94-2.06-.94-.94-2.06-.94 2.06-2.06.94zm-11 1L8.5 8.5l.94-2.06 2.06-.94-2.06-.94L8.5 2.5l-.94 2.06-2.06.94zm10 10l.94 2.06.94-2.06 2.06-.94-2.06-.94-.94-2.06-.94 2.06-2.06.94z\"/><path d=\"M17.41 7.96l-1.37-1.37c-.4-.4-.92-.59-1.43-.59-.52 0-1.04.2-1.43.59L10.3 9.45l-7.72 7.72c-.78.78-.78 2.05 0 2.83L4 21.41c.39.39.9.59 1.41.59.51 0 1.02-.2 1.41-.59l7.78-7.78 2.81-2.81c.8-.78.8-2.07 0-2.86zM5.41 20L4 18.59l7.72-7.72 1.47 1.35L5.41 20z\"/>\n",
              "  </svg>\n",
              "      </button>\n",
              "      \n",
              "  <style>\n",
              "    .colab-df-container {\n",
              "      display:flex;\n",
              "      flex-wrap:wrap;\n",
              "      gap: 12px;\n",
              "    }\n",
              "\n",
              "    .colab-df-convert {\n",
              "      background-color: #E8F0FE;\n",
              "      border: none;\n",
              "      border-radius: 50%;\n",
              "      cursor: pointer;\n",
              "      display: none;\n",
              "      fill: #1967D2;\n",
              "      height: 32px;\n",
              "      padding: 0 0 0 0;\n",
              "      width: 32px;\n",
              "    }\n",
              "\n",
              "    .colab-df-convert:hover {\n",
              "      background-color: #E2EBFA;\n",
              "      box-shadow: 0px 1px 2px rgba(60, 64, 67, 0.3), 0px 1px 3px 1px rgba(60, 64, 67, 0.15);\n",
              "      fill: #174EA6;\n",
              "    }\n",
              "\n",
              "    [theme=dark] .colab-df-convert {\n",
              "      background-color: #3B4455;\n",
              "      fill: #D2E3FC;\n",
              "    }\n",
              "\n",
              "    [theme=dark] .colab-df-convert:hover {\n",
              "      background-color: #434B5C;\n",
              "      box-shadow: 0px 1px 3px 1px rgba(0, 0, 0, 0.15);\n",
              "      filter: drop-shadow(0px 1px 2px rgba(0, 0, 0, 0.3));\n",
              "      fill: #FFFFFF;\n",
              "    }\n",
              "  </style>\n",
              "\n",
              "      <script>\n",
              "        const buttonEl =\n",
              "          document.querySelector('#df-5cb3567a-8f80-4ef8-a6d8-9fe2d57df154 button.colab-df-convert');\n",
              "        buttonEl.style.display =\n",
              "          google.colab.kernel.accessAllowed ? 'block' : 'none';\n",
              "\n",
              "        async function convertToInteractive(key) {\n",
              "          const element = document.querySelector('#df-5cb3567a-8f80-4ef8-a6d8-9fe2d57df154');\n",
              "          const dataTable =\n",
              "            await google.colab.kernel.invokeFunction('convertToInteractive',\n",
              "                                                     [key], {});\n",
              "          if (!dataTable) return;\n",
              "\n",
              "          const docLinkHtml = 'Like what you see? Visit the ' +\n",
              "            '<a target=\"_blank\" href=https://colab.research.google.com/notebooks/data_table.ipynb>data table notebook</a>'\n",
              "            + ' to learn more about interactive tables.';\n",
              "          element.innerHTML = '';\n",
              "          dataTable['output_type'] = 'display_data';\n",
              "          await google.colab.output.renderOutput(dataTable, element);\n",
              "          const docLink = document.createElement('div');\n",
              "          docLink.innerHTML = docLinkHtml;\n",
              "          element.appendChild(docLink);\n",
              "        }\n",
              "      </script>\n",
              "    </div>\n",
              "  </div>\n",
              "  "
            ]
          },
          "metadata": {},
          "execution_count": 55
        }
      ],
      "source": [
        "df_model.head(3)"
      ]
    },
    {
      "cell_type": "code",
      "execution_count": 56,
      "metadata": {
        "colab": {
          "base_uri": "https://localhost:8080/"
        },
        "id": "D-Fx9yQyi8ZS",
        "outputId": "d837f299-d4ab-4b89-f968-f259b60dfc43"
      },
      "outputs": [
        {
          "output_type": "execute_result",
          "data": {
            "text/plain": [
              "(2219, 24)"
            ]
          },
          "metadata": {},
          "execution_count": 56
        }
      ],
      "source": [
        "df_model.shape"
      ]
    },
    {
      "cell_type": "markdown",
      "metadata": {
        "id": "QtCoOe2UhNXb"
      },
      "source": [
        "Penggabungan data numerikal dan kategorikal:\n",
        "- handling outlier diterapkan pada data train yang mengandung seluruh informasi, bukan pada data yang mengandung informasi numerikal saja dan tidak terdapatnya perlakuan pada data kategorikal. Sehingga pada proses ini hanya memanggil ullang data train"
      ]
    },
    {
      "cell_type": "markdown",
      "metadata": {
        "id": "pcohmiNxi8ZS"
      },
      "source": [
        "#### Feature Selection"
      ]
    },
    {
      "cell_type": "code",
      "execution_count": 57,
      "metadata": {
        "colab": {
          "base_uri": "https://localhost:8080/",
          "height": 237
        },
        "id": "UFfHCSNwi8ZS",
        "outputId": "5cdd4894-c28b-473a-c39a-5da501e5bbf7"
      },
      "outputs": [
        {
          "output_type": "execute_result",
          "data": {
            "text/plain": [
              "      limit_balance  sex  education_level  marital_status   age  pay_0  pay_2  \\\n",
              "291        280000.0    1                1               2  33.0    0.0    0.0   \n",
              "1948        20000.0    2                2               2  21.0    0.0    0.0   \n",
              "2482       230000.0    1                1               1  38.0    0.0    0.0   \n",
              "\n",
              "      pay_3  pay_4  pay_5  ...  bill_amt_4  bill_amt_5  bill_amt_6  pay_amt_1  \\\n",
              "291     0.0    0.0      0  ...    189287.0    185398.0    184414.0    10000.0   \n",
              "1948    2.0    2.0      0  ...         0.0         0.0         0.0      780.0   \n",
              "2482    0.0    0.0      0  ...      1346.0      1024.0        -4.0     2170.0   \n",
              "\n",
              "      pay_amt_2  pay_amt_3  pay_amt_4  pay_amt_5  pay_amt_6  \\\n",
              "291     10059.0     5201.0     5211.0     5500.0     5500.0   \n",
              "1948        0.0        0.0        0.0        0.0        0.0   \n",
              "2482     1149.0     1352.0     1029.0        0.0      654.0   \n",
              "\n",
              "      default_payment_next_month  \n",
              "291                            0  \n",
              "1948                           0  \n",
              "2482                           0  \n",
              "\n",
              "[3 rows x 24 columns]"
            ],
            "text/html": [
              "\n",
              "  <div id=\"df-dfcae5ee-8704-42b4-bf10-e78fd8959617\">\n",
              "    <div class=\"colab-df-container\">\n",
              "      <div>\n",
              "<style scoped>\n",
              "    .dataframe tbody tr th:only-of-type {\n",
              "        vertical-align: middle;\n",
              "    }\n",
              "\n",
              "    .dataframe tbody tr th {\n",
              "        vertical-align: top;\n",
              "    }\n",
              "\n",
              "    .dataframe thead th {\n",
              "        text-align: right;\n",
              "    }\n",
              "</style>\n",
              "<table border=\"1\" class=\"dataframe\">\n",
              "  <thead>\n",
              "    <tr style=\"text-align: right;\">\n",
              "      <th></th>\n",
              "      <th>limit_balance</th>\n",
              "      <th>sex</th>\n",
              "      <th>education_level</th>\n",
              "      <th>marital_status</th>\n",
              "      <th>age</th>\n",
              "      <th>pay_0</th>\n",
              "      <th>pay_2</th>\n",
              "      <th>pay_3</th>\n",
              "      <th>pay_4</th>\n",
              "      <th>pay_5</th>\n",
              "      <th>...</th>\n",
              "      <th>bill_amt_4</th>\n",
              "      <th>bill_amt_5</th>\n",
              "      <th>bill_amt_6</th>\n",
              "      <th>pay_amt_1</th>\n",
              "      <th>pay_amt_2</th>\n",
              "      <th>pay_amt_3</th>\n",
              "      <th>pay_amt_4</th>\n",
              "      <th>pay_amt_5</th>\n",
              "      <th>pay_amt_6</th>\n",
              "      <th>default_payment_next_month</th>\n",
              "    </tr>\n",
              "  </thead>\n",
              "  <tbody>\n",
              "    <tr>\n",
              "      <th>291</th>\n",
              "      <td>280000.0</td>\n",
              "      <td>1</td>\n",
              "      <td>1</td>\n",
              "      <td>2</td>\n",
              "      <td>33.0</td>\n",
              "      <td>0.0</td>\n",
              "      <td>0.0</td>\n",
              "      <td>0.0</td>\n",
              "      <td>0.0</td>\n",
              "      <td>0</td>\n",
              "      <td>...</td>\n",
              "      <td>189287.0</td>\n",
              "      <td>185398.0</td>\n",
              "      <td>184414.0</td>\n",
              "      <td>10000.0</td>\n",
              "      <td>10059.0</td>\n",
              "      <td>5201.0</td>\n",
              "      <td>5211.0</td>\n",
              "      <td>5500.0</td>\n",
              "      <td>5500.0</td>\n",
              "      <td>0</td>\n",
              "    </tr>\n",
              "    <tr>\n",
              "      <th>1948</th>\n",
              "      <td>20000.0</td>\n",
              "      <td>2</td>\n",
              "      <td>2</td>\n",
              "      <td>2</td>\n",
              "      <td>21.0</td>\n",
              "      <td>0.0</td>\n",
              "      <td>0.0</td>\n",
              "      <td>2.0</td>\n",
              "      <td>2.0</td>\n",
              "      <td>0</td>\n",
              "      <td>...</td>\n",
              "      <td>0.0</td>\n",
              "      <td>0.0</td>\n",
              "      <td>0.0</td>\n",
              "      <td>780.0</td>\n",
              "      <td>0.0</td>\n",
              "      <td>0.0</td>\n",
              "      <td>0.0</td>\n",
              "      <td>0.0</td>\n",
              "      <td>0.0</td>\n",
              "      <td>0</td>\n",
              "    </tr>\n",
              "    <tr>\n",
              "      <th>2482</th>\n",
              "      <td>230000.0</td>\n",
              "      <td>1</td>\n",
              "      <td>1</td>\n",
              "      <td>1</td>\n",
              "      <td>38.0</td>\n",
              "      <td>0.0</td>\n",
              "      <td>0.0</td>\n",
              "      <td>0.0</td>\n",
              "      <td>0.0</td>\n",
              "      <td>0</td>\n",
              "      <td>...</td>\n",
              "      <td>1346.0</td>\n",
              "      <td>1024.0</td>\n",
              "      <td>-4.0</td>\n",
              "      <td>2170.0</td>\n",
              "      <td>1149.0</td>\n",
              "      <td>1352.0</td>\n",
              "      <td>1029.0</td>\n",
              "      <td>0.0</td>\n",
              "      <td>654.0</td>\n",
              "      <td>0</td>\n",
              "    </tr>\n",
              "  </tbody>\n",
              "</table>\n",
              "<p>3 rows × 24 columns</p>\n",
              "</div>\n",
              "      <button class=\"colab-df-convert\" onclick=\"convertToInteractive('df-dfcae5ee-8704-42b4-bf10-e78fd8959617')\"\n",
              "              title=\"Convert this dataframe to an interactive table.\"\n",
              "              style=\"display:none;\">\n",
              "        \n",
              "  <svg xmlns=\"http://www.w3.org/2000/svg\" height=\"24px\"viewBox=\"0 0 24 24\"\n",
              "       width=\"24px\">\n",
              "    <path d=\"M0 0h24v24H0V0z\" fill=\"none\"/>\n",
              "    <path d=\"M18.56 5.44l.94 2.06.94-2.06 2.06-.94-2.06-.94-.94-2.06-.94 2.06-2.06.94zm-11 1L8.5 8.5l.94-2.06 2.06-.94-2.06-.94L8.5 2.5l-.94 2.06-2.06.94zm10 10l.94 2.06.94-2.06 2.06-.94-2.06-.94-.94-2.06-.94 2.06-2.06.94z\"/><path d=\"M17.41 7.96l-1.37-1.37c-.4-.4-.92-.59-1.43-.59-.52 0-1.04.2-1.43.59L10.3 9.45l-7.72 7.72c-.78.78-.78 2.05 0 2.83L4 21.41c.39.39.9.59 1.41.59.51 0 1.02-.2 1.41-.59l7.78-7.78 2.81-2.81c.8-.78.8-2.07 0-2.86zM5.41 20L4 18.59l7.72-7.72 1.47 1.35L5.41 20z\"/>\n",
              "  </svg>\n",
              "      </button>\n",
              "      \n",
              "  <style>\n",
              "    .colab-df-container {\n",
              "      display:flex;\n",
              "      flex-wrap:wrap;\n",
              "      gap: 12px;\n",
              "    }\n",
              "\n",
              "    .colab-df-convert {\n",
              "      background-color: #E8F0FE;\n",
              "      border: none;\n",
              "      border-radius: 50%;\n",
              "      cursor: pointer;\n",
              "      display: none;\n",
              "      fill: #1967D2;\n",
              "      height: 32px;\n",
              "      padding: 0 0 0 0;\n",
              "      width: 32px;\n",
              "    }\n",
              "\n",
              "    .colab-df-convert:hover {\n",
              "      background-color: #E2EBFA;\n",
              "      box-shadow: 0px 1px 2px rgba(60, 64, 67, 0.3), 0px 1px 3px 1px rgba(60, 64, 67, 0.15);\n",
              "      fill: #174EA6;\n",
              "    }\n",
              "\n",
              "    [theme=dark] .colab-df-convert {\n",
              "      background-color: #3B4455;\n",
              "      fill: #D2E3FC;\n",
              "    }\n",
              "\n",
              "    [theme=dark] .colab-df-convert:hover {\n",
              "      background-color: #434B5C;\n",
              "      box-shadow: 0px 1px 3px 1px rgba(0, 0, 0, 0.15);\n",
              "      filter: drop-shadow(0px 1px 2px rgba(0, 0, 0, 0.3));\n",
              "      fill: #FFFFFF;\n",
              "    }\n",
              "  </style>\n",
              "\n",
              "      <script>\n",
              "        const buttonEl =\n",
              "          document.querySelector('#df-dfcae5ee-8704-42b4-bf10-e78fd8959617 button.colab-df-convert');\n",
              "        buttonEl.style.display =\n",
              "          google.colab.kernel.accessAllowed ? 'block' : 'none';\n",
              "\n",
              "        async function convertToInteractive(key) {\n",
              "          const element = document.querySelector('#df-dfcae5ee-8704-42b4-bf10-e78fd8959617');\n",
              "          const dataTable =\n",
              "            await google.colab.kernel.invokeFunction('convertToInteractive',\n",
              "                                                     [key], {});\n",
              "          if (!dataTable) return;\n",
              "\n",
              "          const docLinkHtml = 'Like what you see? Visit the ' +\n",
              "            '<a target=\"_blank\" href=https://colab.research.google.com/notebooks/data_table.ipynb>data table notebook</a>'\n",
              "            + ' to learn more about interactive tables.';\n",
              "          element.innerHTML = '';\n",
              "          dataTable['output_type'] = 'display_data';\n",
              "          await google.colab.output.renderOutput(dataTable, element);\n",
              "          const docLink = document.createElement('div');\n",
              "          docLink.innerHTML = docLinkHtml;\n",
              "          element.appendChild(docLink);\n",
              "        }\n",
              "      </script>\n",
              "    </div>\n",
              "  </div>\n",
              "  "
            ]
          },
          "metadata": {},
          "execution_count": 57
        }
      ],
      "source": [
        "df_model.head(3)"
      ]
    },
    {
      "cell_type": "code",
      "execution_count": 58,
      "metadata": {
        "colab": {
          "base_uri": "https://localhost:8080/",
          "height": 735
        },
        "id": "NvQcED4Si8ZS",
        "outputId": "81279d73-be8a-4ce7-eb99-2f3a61625f65"
      },
      "outputs": [
        {
          "output_type": "display_data",
          "data": {
            "text/plain": [
              "<Figure size 1080x720 with 2 Axes>"
            ],
            "image/png": "[encoded data removed]"
          },
          "metadata": {
            "needs_background": "light"
          }
        }
      ],
      "source": [
        "plt.figure(figsize=(15,10))\n",
        "sns.heatmap(df_model.corr(), annot=True, fmt='.2f')\n",
        "plt.show()"
      ]
    },
    {
      "cell_type": "code",
      "execution_count": 59,
      "metadata": {
        "id": "KMMPE7MWi8ZS"
      },
      "outputs": [],
      "source": [
        "X_select = df_model.drop('default_payment_next_month',axis=1).copy()\n",
        "y_select = df_model['default_payment_next_month']"
      ]
    },
    {
      "cell_type": "code",
      "execution_count": 60,
      "metadata": {
        "colab": {
          "base_uri": "https://localhost:8080/",
          "height": 664
        },
        "id": "Aw_Bd6EJi8ZT",
        "outputId": "1ddd7adb-921a-41ee-db7e-c2be9148645c"
      },
      "outputs": [
        {
          "output_type": "stream",
          "name": "stdout",
          "text": [
            "Feature: 0, Score: 0.07160\n",
            "Feature: 1, Score: 0.02138\n",
            "Feature: 2, Score: 0.01936\n",
            "Feature: 3, Score: 0.01897\n",
            "Feature: 4, Score: 0.05073\n",
            "Feature: 5, Score: 0.20729\n",
            "Feature: 6, Score: 0.00857\n",
            "Feature: 7, Score: 0.02743\n",
            "Feature: 8, Score: 0.00402\n",
            "Feature: 9, Score: 0.02123\n",
            "Feature: 10, Score: 0.00000\n",
            "Feature: 11, Score: 0.06236\n",
            "Feature: 12, Score: 0.04236\n",
            "Feature: 13, Score: 0.03172\n",
            "Feature: 14, Score: 0.03400\n",
            "Feature: 15, Score: 0.02629\n",
            "Feature: 16, Score: 0.05046\n",
            "Feature: 17, Score: 0.03946\n",
            "Feature: 18, Score: 0.06039\n",
            "Feature: 19, Score: 0.04035\n",
            "Feature: 20, Score: 0.03980\n",
            "Feature: 21, Score: 0.04781\n",
            "Feature: 22, Score: 0.07443\n"
          ]
        },
        {
          "output_type": "display_data",
          "data": {
            "text/plain": [
              "<Figure size 432x288 with 1 Axes>"
            ],
            "image/png": "[encoded data removed]"
          },
          "metadata": {
            "needs_background": "light"
          }
        }
      ],
      "source": [
        "X, y = X_select, y_select\n",
        "model = DecisionTreeRegressor()\n",
        "model.fit(X, y)\n",
        "importance = model.feature_importances_\n",
        "for i,v in enumerate(importance):\n",
        "\tprint('Feature: %0d, Score: %.5f' % (i,v))\n",
        "plt.bar([x for x in range(len(importance))], importance)\n",
        "plt.show()"
      ]
    },
    {
      "cell_type": "code",
      "execution_count": 61,
      "metadata": {
        "colab": {
          "base_uri": "https://localhost:8080/"
        },
        "id": "PQoDK5mii8ZT",
        "outputId": "4ff18fc7-73b0-4ed3-d0ed-537d04df2f66"
      },
      "outputs": [
        {
          "output_type": "execute_result",
          "data": {
            "text/plain": [
              "(2219, 24)"
            ]
          },
          "metadata": {},
          "execution_count": 61
        }
      ],
      "source": [
        "df_model.shape"
      ]
    },
    {
      "cell_type": "code",
      "execution_count": 62,
      "metadata": {
        "id": "6AYKioZfi8ZT"
      },
      "outputs": [],
      "source": [
        "num_col_scalling = ['age', 'limit_balance']\n",
        "scaler = MinMaxScaler()\n",
        "\n",
        "num_scaled = pd.DataFrame(scaler.fit_transform(df_model[num_col_scalling]))\n",
        "num_scaled.columns = num_col_scalling\n",
        "\n",
        "df_model.drop(num_col_scalling, axis=1, inplace=True)\n",
        "df_train = pd.concat([df_model.reset_index(drop=True), num_scaled], axis=1)\n",
        "\n",
        "df_train = df_train[['age','pay_0','pay_2','pay_3','pay_4','pay_5','pay_6','default_payment_next_month']]"
      ]
    },
    {
      "cell_type": "code",
      "execution_count": 63,
      "metadata": {
        "colab": {
          "base_uri": "https://localhost:8080/"
        },
        "id": "lGD0TGesi8ZT",
        "outputId": "fea0986f-9df2-4fba-b2ca-543e059ec744"
      },
      "outputs": [
        {
          "output_type": "execute_result",
          "data": {
            "text/plain": [
              "(2219, 2)"
            ]
          },
          "metadata": {},
          "execution_count": 63
        }
      ],
      "source": [
        "num_scaled.shape"
      ]
    },
    {
      "cell_type": "code",
      "execution_count": 64,
      "metadata": {
        "colab": {
          "base_uri": "https://localhost:8080/",
          "height": 206
        },
        "id": "-WOXQ-OBi8ZT",
        "outputId": "0ebaec32-dbc3-44eb-932f-27c41a7a4240"
      },
      "outputs": [
        {
          "output_type": "execute_result",
          "data": {
            "text/plain": [
              "        age  pay_0  pay_2  pay_3  pay_4  pay_5  pay_6  \\\n",
              "0  0.250000    0.0    0.0    0.0    0.0      0      0   \n",
              "1  0.000000    0.0    0.0    2.0    2.0      0      0   \n",
              "2  0.354167    0.0    0.0    0.0    0.0      0      0   \n",
              "3  0.166667    1.0    0.0    0.0    0.0      0      0   \n",
              "4  0.250000    0.0    0.0    0.0    0.0      0      0   \n",
              "\n",
              "   default_payment_next_month  \n",
              "0                           0  \n",
              "1                           0  \n",
              "2                           0  \n",
              "3                           0  \n",
              "4                           0  "
            ],
            "text/html": [
              "\n",
              "  <div id=\"df-3d6c2981-9e3a-40a3-af62-941abd49d2b5\">\n",
              "    <div class=\"colab-df-container\">\n",
              "      <div>\n",
              "<style scoped>\n",
              "    .dataframe tbody tr th:only-of-type {\n",
              "        vertical-align: middle;\n",
              "    }\n",
              "\n",
              "    .dataframe tbody tr th {\n",
              "        vertical-align: top;\n",
              "    }\n",
              "\n",
              "    .dataframe thead th {\n",
              "        text-align: right;\n",
              "    }\n",
              "</style>\n",
              "<table border=\"1\" class=\"dataframe\">\n",
              "  <thead>\n",
              "    <tr style=\"text-align: right;\">\n",
              "      <th></th>\n",
              "      <th>age</th>\n",
              "      <th>pay_0</th>\n",
              "      <th>pay_2</th>\n",
              "      <th>pay_3</th>\n",
              "      <th>pay_4</th>\n",
              "      <th>pay_5</th>\n",
              "      <th>pay_6</th>\n",
              "      <th>default_payment_next_month</th>\n",
              "    </tr>\n",
              "  </thead>\n",
              "  <tbody>\n",
              "    <tr>\n",
              "      <th>0</th>\n",
              "      <td>0.250000</td>\n",
              "      <td>0.0</td>\n",
              "      <td>0.0</td>\n",
              "      <td>0.0</td>\n",
              "      <td>0.0</td>\n",
              "      <td>0</td>\n",
              "      <td>0</td>\n",
              "      <td>0</td>\n",
              "    </tr>\n",
              "    <tr>\n",
              "      <th>1</th>\n",
              "      <td>0.000000</td>\n",
              "      <td>0.0</td>\n",
              "      <td>0.0</td>\n",
              "      <td>2.0</td>\n",
              "      <td>2.0</td>\n",
              "      <td>0</td>\n",
              "      <td>0</td>\n",
              "      <td>0</td>\n",
              "    </tr>\n",
              "    <tr>\n",
              "      <th>2</th>\n",
              "      <td>0.354167</td>\n",
              "      <td>0.0</td>\n",
              "      <td>0.0</td>\n",
              "      <td>0.0</td>\n",
              "      <td>0.0</td>\n",
              "      <td>0</td>\n",
              "      <td>0</td>\n",
              "      <td>0</td>\n",
              "    </tr>\n",
              "    <tr>\n",
              "      <th>3</th>\n",
              "      <td>0.166667</td>\n",
              "      <td>1.0</td>\n",
              "      <td>0.0</td>\n",
              "      <td>0.0</td>\n",
              "      <td>0.0</td>\n",
              "      <td>0</td>\n",
              "      <td>0</td>\n",
              "      <td>0</td>\n",
              "    </tr>\n",
              "    <tr>\n",
              "      <th>4</th>\n",
              "      <td>0.250000</td>\n",
              "      <td>0.0</td>\n",
              "      <td>0.0</td>\n",
              "      <td>0.0</td>\n",
              "      <td>0.0</td>\n",
              "      <td>0</td>\n",
              "      <td>0</td>\n",
              "      <td>0</td>\n",
              "    </tr>\n",
              "  </tbody>\n",
              "</table>\n",
              "</div>\n",
              "      <button class=\"colab-df-convert\" onclick=\"convertToInteractive('df-3d6c2981-9e3a-40a3-af62-941abd49d2b5')\"\n",
              "              title=\"Convert this dataframe to an interactive table.\"\n",
              "              style=\"display:none;\">\n",
              "        \n",
              "  <svg xmlns=\"http://www.w3.org/2000/svg\" height=\"24px\"viewBox=\"0 0 24 24\"\n",
              "       width=\"24px\">\n",
              "    <path d=\"M0 0h24v24H0V0z\" fill=\"none\"/>\n",
              "    <path d=\"M18.56 5.44l.94 2.06.94-2.06 2.06-.94-2.06-.94-.94-2.06-.94 2.06-2.06.94zm-11 1L8.5 8.5l.94-2.06 2.06-.94-2.06-.94L8.5 2.5l-.94 2.06-2.06.94zm10 10l.94 2.06.94-2.06 2.06-.94-2.06-.94-.94-2.06-.94 2.06-2.06.94z\"/><path d=\"M17.41 7.96l-1.37-1.37c-.4-.4-.92-.59-1.43-.59-.52 0-1.04.2-1.43.59L10.3 9.45l-7.72 7.72c-.78.78-.78 2.05 0 2.83L4 21.41c.39.39.9.59 1.41.59.51 0 1.02-.2 1.41-.59l7.78-7.78 2.81-2.81c.8-.78.8-2.07 0-2.86zM5.41 20L4 18.59l7.72-7.72 1.47 1.35L5.41 20z\"/>\n",
              "  </svg>\n",
              "      </button>\n",
              "      \n",
              "  <style>\n",
              "    .colab-df-container {\n",
              "      display:flex;\n",
              "      flex-wrap:wrap;\n",
              "      gap: 12px;\n",
              "    }\n",
              "\n",
              "    .colab-df-convert {\n",
              "      background-color: #E8F0FE;\n",
              "      border: none;\n",
              "      border-radius: 50%;\n",
              "      cursor: pointer;\n",
              "      display: none;\n",
              "      fill: #1967D2;\n",
              "      height: 32px;\n",
              "      padding: 0 0 0 0;\n",
              "      width: 32px;\n",
              "    }\n",
              "\n",
              "    .colab-df-convert:hover {\n",
              "      background-color: #E2EBFA;\n",
              "      box-shadow: 0px 1px 2px rgba(60, 64, 67, 0.3), 0px 1px 3px 1px rgba(60, 64, 67, 0.15);\n",
              "      fill: #174EA6;\n",
              "    }\n",
              "\n",
              "    [theme=dark] .colab-df-convert {\n",
              "      background-color: #3B4455;\n",
              "      fill: #D2E3FC;\n",
              "    }\n",
              "\n",
              "    [theme=dark] .colab-df-convert:hover {\n",
              "      background-color: #434B5C;\n",
              "      box-shadow: 0px 1px 3px 1px rgba(0, 0, 0, 0.15);\n",
              "      filter: drop-shadow(0px 1px 2px rgba(0, 0, 0, 0.3));\n",
              "      fill: #FFFFFF;\n",
              "    }\n",
              "  </style>\n",
              "\n",
              "      <script>\n",
              "        const buttonEl =\n",
              "          document.querySelector('#df-3d6c2981-9e3a-40a3-af62-941abd49d2b5 button.colab-df-convert');\n",
              "        buttonEl.style.display =\n",
              "          google.colab.kernel.accessAllowed ? 'block' : 'none';\n",
              "\n",
              "        async function convertToInteractive(key) {\n",
              "          const element = document.querySelector('#df-3d6c2981-9e3a-40a3-af62-941abd49d2b5');\n",
              "          const dataTable =\n",
              "            await google.colab.kernel.invokeFunction('convertToInteractive',\n",
              "                                                     [key], {});\n",
              "          if (!dataTable) return;\n",
              "\n",
              "          const docLinkHtml = 'Like what you see? Visit the ' +\n",
              "            '<a target=\"_blank\" href=https://colab.research.google.com/notebooks/data_table.ipynb>data table notebook</a>'\n",
              "            + ' to learn more about interactive tables.';\n",
              "          element.innerHTML = '';\n",
              "          dataTable['output_type'] = 'display_data';\n",
              "          await google.colab.output.renderOutput(dataTable, element);\n",
              "          const docLink = document.createElement('div');\n",
              "          docLink.innerHTML = docLinkHtml;\n",
              "          element.appendChild(docLink);\n",
              "        }\n",
              "      </script>\n",
              "    </div>\n",
              "  </div>\n",
              "  "
            ]
          },
          "metadata": {},
          "execution_count": 64
        }
      ],
      "source": [
        "df_train.head()"
      ]
    },
    {
      "cell_type": "markdown",
      "metadata": {
        "id": "Wa6Wr2imhNXd"
      },
      "source": [
        "Feature Selecting :\n",
        "- melakukan dua pertimbangan yaitu dengan menggunakan corr heatmap dan feature importance dari desicion tree\n",
        "- corr heatmap menunjukan bahwa pay_0, pay_2, pay_3, pay_4, pay_5, pay_6 mempunyai korelasi positif terhadap target\n",
        "- feature importance menunjukan kolom age mempunyai peranan penting terhadap target\n",
        "- dari kedua pertimbangan tersebut didapatkan beberapa kolom yang akan digunakan sebagai feature. adapun kolom tersebut adalah : age, pay_0, pay_2, pay_3, pay_4, pay_5, pay_6\n",
        "- sebelum masuk model, feature age dilakukan perlakuan scalling terlebih dahulu. Scaling yang digunakan adalah MinMaxScaler, dikarenakan data berdistribusi tidak normal"
      ]
    },
    {
      "cell_type": "markdown",
      "metadata": {
        "id": "YuTvmNZHi8ZU"
      },
      "source": [
        "### PREPROCESS"
      ]
    },
    {
      "cell_type": "code",
      "execution_count": 65,
      "metadata": {
        "colab": {
          "base_uri": "https://localhost:8080/",
          "height": 205
        },
        "id": "6HtnKSnmi8ZU",
        "outputId": "18dec94a-4bf4-4141-a7d9-3b353b007e01"
      },
      "outputs": [
        {
          "output_type": "execute_result",
          "data": {
            "text/plain": [
              "      limit_balance  sex  education_level  marital_status   age  pay_0  pay_2  \\\n",
              "2316       330000.0    2                2               1  43.0    1.0    0.0   \n",
              "673        400000.0    2                2               1  24.0    0.0    0.0   \n",
              "\n",
              "      pay_3  pay_4  pay_5  ...  bill_amt_4  bill_amt_5  bill_amt_6  pay_amt_1  \\\n",
              "2316    0.0    0.0      0  ...         0.0         0.0         0.0    22359.0   \n",
              "673     0.0    0.0      0  ...     89128.0     39276.0     23440.0     5519.0   \n",
              "\n",
              "      pay_amt_2  pay_amt_3  pay_amt_4  pay_amt_5  pay_amt_6  \\\n",
              "2316     5895.0        0.0        0.0        0.0        0.0   \n",
              "673     44776.0     1502.0     2026.0     1015.0    52100.0   \n",
              "\n",
              "      default_payment_next_month  \n",
              "2316                           0  \n",
              "673                            0  \n",
              "\n",
              "[2 rows x 24 columns]"
            ],
            "text/html": [
              "\n",
              "  <div id=\"df-71ba7d08-37a7-4531-afb3-713bc46914ee\">\n",
              "    <div class=\"colab-df-container\">\n",
              "      <div>\n",
              "<style scoped>\n",
              "    .dataframe tbody tr th:only-of-type {\n",
              "        vertical-align: middle;\n",
              "    }\n",
              "\n",
              "    .dataframe tbody tr th {\n",
              "        vertical-align: top;\n",
              "    }\n",
              "\n",
              "    .dataframe thead th {\n",
              "        text-align: right;\n",
              "    }\n",
              "</style>\n",
              "<table border=\"1\" class=\"dataframe\">\n",
              "  <thead>\n",
              "    <tr style=\"text-align: right;\">\n",
              "      <th></th>\n",
              "      <th>limit_balance</th>\n",
              "      <th>sex</th>\n",
              "      <th>education_level</th>\n",
              "      <th>marital_status</th>\n",
              "      <th>age</th>\n",
              "      <th>pay_0</th>\n",
              "      <th>pay_2</th>\n",
              "      <th>pay_3</th>\n",
              "      <th>pay_4</th>\n",
              "      <th>pay_5</th>\n",
              "      <th>...</th>\n",
              "      <th>bill_amt_4</th>\n",
              "      <th>bill_amt_5</th>\n",
              "      <th>bill_amt_6</th>\n",
              "      <th>pay_amt_1</th>\n",
              "      <th>pay_amt_2</th>\n",
              "      <th>pay_amt_3</th>\n",
              "      <th>pay_amt_4</th>\n",
              "      <th>pay_amt_5</th>\n",
              "      <th>pay_amt_6</th>\n",
              "      <th>default_payment_next_month</th>\n",
              "    </tr>\n",
              "  </thead>\n",
              "  <tbody>\n",
              "    <tr>\n",
              "      <th>2316</th>\n",
              "      <td>330000.0</td>\n",
              "      <td>2</td>\n",
              "      <td>2</td>\n",
              "      <td>1</td>\n",
              "      <td>43.0</td>\n",
              "      <td>1.0</td>\n",
              "      <td>0.0</td>\n",
              "      <td>0.0</td>\n",
              "      <td>0.0</td>\n",
              "      <td>0</td>\n",
              "      <td>...</td>\n",
              "      <td>0.0</td>\n",
              "      <td>0.0</td>\n",
              "      <td>0.0</td>\n",
              "      <td>22359.0</td>\n",
              "      <td>5895.0</td>\n",
              "      <td>0.0</td>\n",
              "      <td>0.0</td>\n",
              "      <td>0.0</td>\n",
              "      <td>0.0</td>\n",
              "      <td>0</td>\n",
              "    </tr>\n",
              "    <tr>\n",
              "      <th>673</th>\n",
              "      <td>400000.0</td>\n",
              "      <td>2</td>\n",
              "      <td>2</td>\n",
              "      <td>1</td>\n",
              "      <td>24.0</td>\n",
              "      <td>0.0</td>\n",
              "      <td>0.0</td>\n",
              "      <td>0.0</td>\n",
              "      <td>0.0</td>\n",
              "      <td>0</td>\n",
              "      <td>...</td>\n",
              "      <td>89128.0</td>\n",
              "      <td>39276.0</td>\n",
              "      <td>23440.0</td>\n",
              "      <td>5519.0</td>\n",
              "      <td>44776.0</td>\n",
              "      <td>1502.0</td>\n",
              "      <td>2026.0</td>\n",
              "      <td>1015.0</td>\n",
              "      <td>52100.0</td>\n",
              "      <td>0</td>\n",
              "    </tr>\n",
              "  </tbody>\n",
              "</table>\n",
              "<p>2 rows × 24 columns</p>\n",
              "</div>\n",
              "      <button class=\"colab-df-convert\" onclick=\"convertToInteractive('df-71ba7d08-37a7-4531-afb3-713bc46914ee')\"\n",
              "              title=\"Convert this dataframe to an interactive table.\"\n",
              "              style=\"display:none;\">\n",
              "        \n",
              "  <svg xmlns=\"http://www.w3.org/2000/svg\" height=\"24px\"viewBox=\"0 0 24 24\"\n",
              "       width=\"24px\">\n",
              "    <path d=\"M0 0h24v24H0V0z\" fill=\"none\"/>\n",
              "    <path d=\"M18.56 5.44l.94 2.06.94-2.06 2.06-.94-2.06-.94-.94-2.06-.94 2.06-2.06.94zm-11 1L8.5 8.5l.94-2.06 2.06-.94-2.06-.94L8.5 2.5l-.94 2.06-2.06.94zm10 10l.94 2.06.94-2.06 2.06-.94-2.06-.94-.94-2.06-.94 2.06-2.06.94z\"/><path d=\"M17.41 7.96l-1.37-1.37c-.4-.4-.92-.59-1.43-.59-.52 0-1.04.2-1.43.59L10.3 9.45l-7.72 7.72c-.78.78-.78 2.05 0 2.83L4 21.41c.39.39.9.59 1.41.59.51 0 1.02-.2 1.41-.59l7.78-7.78 2.81-2.81c.8-.78.8-2.07 0-2.86zM5.41 20L4 18.59l7.72-7.72 1.47 1.35L5.41 20z\"/>\n",
              "  </svg>\n",
              "      </button>\n",
              "      \n",
              "  <style>\n",
              "    .colab-df-container {\n",
              "      display:flex;\n",
              "      flex-wrap:wrap;\n",
              "      gap: 12px;\n",
              "    }\n",
              "\n",
              "    .colab-df-convert {\n",
              "      background-color: #E8F0FE;\n",
              "      border: none;\n",
              "      border-radius: 50%;\n",
              "      cursor: pointer;\n",
              "      display: none;\n",
              "      fill: #1967D2;\n",
              "      height: 32px;\n",
              "      padding: 0 0 0 0;\n",
              "      width: 32px;\n",
              "    }\n",
              "\n",
              "    .colab-df-convert:hover {\n",
              "      background-color: #E2EBFA;\n",
              "      box-shadow: 0px 1px 2px rgba(60, 64, 67, 0.3), 0px 1px 3px 1px rgba(60, 64, 67, 0.15);\n",
              "      fill: #174EA6;\n",
              "    }\n",
              "\n",
              "    [theme=dark] .colab-df-convert {\n",
              "      background-color: #3B4455;\n",
              "      fill: #D2E3FC;\n",
              "    }\n",
              "\n",
              "    [theme=dark] .colab-df-convert:hover {\n",
              "      background-color: #434B5C;\n",
              "      box-shadow: 0px 1px 3px 1px rgba(0, 0, 0, 0.15);\n",
              "      filter: drop-shadow(0px 1px 2px rgba(0, 0, 0, 0.3));\n",
              "      fill: #FFFFFF;\n",
              "    }\n",
              "  </style>\n",
              "\n",
              "      <script>\n",
              "        const buttonEl =\n",
              "          document.querySelector('#df-71ba7d08-37a7-4531-afb3-713bc46914ee button.colab-df-convert');\n",
              "        buttonEl.style.display =\n",
              "          google.colab.kernel.accessAllowed ? 'block' : 'none';\n",
              "\n",
              "        async function convertToInteractive(key) {\n",
              "          const element = document.querySelector('#df-71ba7d08-37a7-4531-afb3-713bc46914ee');\n",
              "          const dataTable =\n",
              "            await google.colab.kernel.invokeFunction('convertToInteractive',\n",
              "                                                     [key], {});\n",
              "          if (!dataTable) return;\n",
              "\n",
              "          const docLinkHtml = 'Like what you see? Visit the ' +\n",
              "            '<a target=\"_blank\" href=https://colab.research.google.com/notebooks/data_table.ipynb>data table notebook</a>'\n",
              "            + ' to learn more about interactive tables.';\n",
              "          element.innerHTML = '';\n",
              "          dataTable['output_type'] = 'display_data';\n",
              "          await google.colab.output.renderOutput(dataTable, element);\n",
              "          const docLink = document.createElement('div');\n",
              "          docLink.innerHTML = docLinkHtml;\n",
              "          element.appendChild(docLink);\n",
              "        }\n",
              "      </script>\n",
              "    </div>\n",
              "  </div>\n",
              "  "
            ]
          },
          "metadata": {},
          "execution_count": 65
        }
      ],
      "source": [
        "testing = pd.concat([X_test, y_test], axis=1)\n",
        "testing.head(2)"
      ]
    },
    {
      "cell_type": "code",
      "execution_count": 66,
      "metadata": {
        "colab": {
          "base_uri": "https://localhost:8080/",
          "height": 205
        },
        "id": "aHl-06Mwi8ZU",
        "outputId": "8aec0691-fa26-4723-8a54-ab835aa79a79"
      },
      "outputs": [
        {
          "output_type": "execute_result",
          "data": {
            "text/plain": [
              "      limit_balance  sex  education_level  marital_status   age  pay_0  pay_2  \\\n",
              "2316       330000.0    2                2               1  43.0    1.0    0.0   \n",
              "673        400000.0    2                2               1  24.0    0.0    0.0   \n",
              "\n",
              "      pay_3  pay_4  pay_5  ...  bill_amt_4  bill_amt_5  bill_amt_6  pay_amt_1  \\\n",
              "2316    0.0    0.0      0  ...         0.0         0.0         0.0    22359.0   \n",
              "673     0.0    0.0      0  ...     89128.0     39276.0     23440.0     5519.0   \n",
              "\n",
              "      pay_amt_2  pay_amt_3  pay_amt_4  pay_amt_5  pay_amt_6  \\\n",
              "2316     5895.0        0.0        0.0        0.0        0.0   \n",
              "673     44776.0     1502.0     2026.0     1015.0    52100.0   \n",
              "\n",
              "      default_payment_next_month  \n",
              "2316                           0  \n",
              "673                            0  \n",
              "\n",
              "[2 rows x 24 columns]"
            ],
            "text/html": [
              "\n",
              "  <div id=\"df-6c6ddcac-3a8b-48b2-856c-a7183444fccf\">\n",
              "    <div class=\"colab-df-container\">\n",
              "      <div>\n",
              "<style scoped>\n",
              "    .dataframe tbody tr th:only-of-type {\n",
              "        vertical-align: middle;\n",
              "    }\n",
              "\n",
              "    .dataframe tbody tr th {\n",
              "        vertical-align: top;\n",
              "    }\n",
              "\n",
              "    .dataframe thead th {\n",
              "        text-align: right;\n",
              "    }\n",
              "</style>\n",
              "<table border=\"1\" class=\"dataframe\">\n",
              "  <thead>\n",
              "    <tr style=\"text-align: right;\">\n",
              "      <th></th>\n",
              "      <th>limit_balance</th>\n",
              "      <th>sex</th>\n",
              "      <th>education_level</th>\n",
              "      <th>marital_status</th>\n",
              "      <th>age</th>\n",
              "      <th>pay_0</th>\n",
              "      <th>pay_2</th>\n",
              "      <th>pay_3</th>\n",
              "      <th>pay_4</th>\n",
              "      <th>pay_5</th>\n",
              "      <th>...</th>\n",
              "      <th>bill_amt_4</th>\n",
              "      <th>bill_amt_5</th>\n",
              "      <th>bill_amt_6</th>\n",
              "      <th>pay_amt_1</th>\n",
              "      <th>pay_amt_2</th>\n",
              "      <th>pay_amt_3</th>\n",
              "      <th>pay_amt_4</th>\n",
              "      <th>pay_amt_5</th>\n",
              "      <th>pay_amt_6</th>\n",
              "      <th>default_payment_next_month</th>\n",
              "    </tr>\n",
              "  </thead>\n",
              "  <tbody>\n",
              "    <tr>\n",
              "      <th>2316</th>\n",
              "      <td>330000.0</td>\n",
              "      <td>2</td>\n",
              "      <td>2</td>\n",
              "      <td>1</td>\n",
              "      <td>43.0</td>\n",
              "      <td>1.0</td>\n",
              "      <td>0.0</td>\n",
              "      <td>0.0</td>\n",
              "      <td>0.0</td>\n",
              "      <td>0</td>\n",
              "      <td>...</td>\n",
              "      <td>0.0</td>\n",
              "      <td>0.0</td>\n",
              "      <td>0.0</td>\n",
              "      <td>22359.0</td>\n",
              "      <td>5895.0</td>\n",
              "      <td>0.0</td>\n",
              "      <td>0.0</td>\n",
              "      <td>0.0</td>\n",
              "      <td>0.0</td>\n",
              "      <td>0</td>\n",
              "    </tr>\n",
              "    <tr>\n",
              "      <th>673</th>\n",
              "      <td>400000.0</td>\n",
              "      <td>2</td>\n",
              "      <td>2</td>\n",
              "      <td>1</td>\n",
              "      <td>24.0</td>\n",
              "      <td>0.0</td>\n",
              "      <td>0.0</td>\n",
              "      <td>0.0</td>\n",
              "      <td>0.0</td>\n",
              "      <td>0</td>\n",
              "      <td>...</td>\n",
              "      <td>89128.0</td>\n",
              "      <td>39276.0</td>\n",
              "      <td>23440.0</td>\n",
              "      <td>5519.0</td>\n",
              "      <td>44776.0</td>\n",
              "      <td>1502.0</td>\n",
              "      <td>2026.0</td>\n",
              "      <td>1015.0</td>\n",
              "      <td>52100.0</td>\n",
              "      <td>0</td>\n",
              "    </tr>\n",
              "  </tbody>\n",
              "</table>\n",
              "<p>2 rows × 24 columns</p>\n",
              "</div>\n",
              "      <button class=\"colab-df-convert\" onclick=\"convertToInteractive('df-6c6ddcac-3a8b-48b2-856c-a7183444fccf')\"\n",
              "              title=\"Convert this dataframe to an interactive table.\"\n",
              "              style=\"display:none;\">\n",
              "        \n",
              "  <svg xmlns=\"http://www.w3.org/2000/svg\" height=\"24px\"viewBox=\"0 0 24 24\"\n",
              "       width=\"24px\">\n",
              "    <path d=\"M0 0h24v24H0V0z\" fill=\"none\"/>\n",
              "    <path d=\"M18.56 5.44l.94 2.06.94-2.06 2.06-.94-2.06-.94-.94-2.06-.94 2.06-2.06.94zm-11 1L8.5 8.5l.94-2.06 2.06-.94-2.06-.94L8.5 2.5l-.94 2.06-2.06.94zm10 10l.94 2.06.94-2.06 2.06-.94-2.06-.94-.94-2.06-.94 2.06-2.06.94z\"/><path d=\"M17.41 7.96l-1.37-1.37c-.4-.4-.92-.59-1.43-.59-.52 0-1.04.2-1.43.59L10.3 9.45l-7.72 7.72c-.78.78-.78 2.05 0 2.83L4 21.41c.39.39.9.59 1.41.59.51 0 1.02-.2 1.41-.59l7.78-7.78 2.81-2.81c.8-.78.8-2.07 0-2.86zM5.41 20L4 18.59l7.72-7.72 1.47 1.35L5.41 20z\"/>\n",
              "  </svg>\n",
              "      </button>\n",
              "      \n",
              "  <style>\n",
              "    .colab-df-container {\n",
              "      display:flex;\n",
              "      flex-wrap:wrap;\n",
              "      gap: 12px;\n",
              "    }\n",
              "\n",
              "    .colab-df-convert {\n",
              "      background-color: #E8F0FE;\n",
              "      border: none;\n",
              "      border-radius: 50%;\n",
              "      cursor: pointer;\n",
              "      display: none;\n",
              "      fill: #1967D2;\n",
              "      height: 32px;\n",
              "      padding: 0 0 0 0;\n",
              "      width: 32px;\n",
              "    }\n",
              "\n",
              "    .colab-df-convert:hover {\n",
              "      background-color: #E2EBFA;\n",
              "      box-shadow: 0px 1px 2px rgba(60, 64, 67, 0.3), 0px 1px 3px 1px rgba(60, 64, 67, 0.15);\n",
              "      fill: #174EA6;\n",
              "    }\n",
              "\n",
              "    [theme=dark] .colab-df-convert {\n",
              "      background-color: #3B4455;\n",
              "      fill: #D2E3FC;\n",
              "    }\n",
              "\n",
              "    [theme=dark] .colab-df-convert:hover {\n",
              "      background-color: #434B5C;\n",
              "      box-shadow: 0px 1px 3px 1px rgba(0, 0, 0, 0.15);\n",
              "      filter: drop-shadow(0px 1px 2px rgba(0, 0, 0, 0.3));\n",
              "      fill: #FFFFFF;\n",
              "    }\n",
              "  </style>\n",
              "\n",
              "      <script>\n",
              "        const buttonEl =\n",
              "          document.querySelector('#df-6c6ddcac-3a8b-48b2-856c-a7183444fccf button.colab-df-convert');\n",
              "        buttonEl.style.display =\n",
              "          google.colab.kernel.accessAllowed ? 'block' : 'none';\n",
              "\n",
              "        async function convertToInteractive(key) {\n",
              "          const element = document.querySelector('#df-6c6ddcac-3a8b-48b2-856c-a7183444fccf');\n",
              "          const dataTable =\n",
              "            await google.colab.kernel.invokeFunction('convertToInteractive',\n",
              "                                                     [key], {});\n",
              "          if (!dataTable) return;\n",
              "\n",
              "          const docLinkHtml = 'Like what you see? Visit the ' +\n",
              "            '<a target=\"_blank\" href=https://colab.research.google.com/notebooks/data_table.ipynb>data table notebook</a>'\n",
              "            + ' to learn more about interactive tables.';\n",
              "          element.innerHTML = '';\n",
              "          dataTable['output_type'] = 'display_data';\n",
              "          await google.colab.output.renderOutput(dataTable, element);\n",
              "          const docLink = document.createElement('div');\n",
              "          docLink.innerHTML = docLinkHtml;\n",
              "          element.appendChild(docLink);\n",
              "        }\n",
              "      </script>\n",
              "    </div>\n",
              "  </div>\n",
              "  "
            ]
          },
          "metadata": {},
          "execution_count": 66
        }
      ],
      "source": [
        "testing = wins.transform(testing)\n",
        "testing.head(2)"
      ]
    },
    {
      "cell_type": "code",
      "execution_count": 67,
      "metadata": {
        "colab": {
          "base_uri": "https://localhost:8080/"
        },
        "id": "HgfC2fbFi8ZU",
        "outputId": "42c404a2-385e-48c3-e3e5-e0952d77f152"
      },
      "outputs": [
        {
          "output_type": "execute_result",
          "data": {
            "text/plain": [
              "(740, 24)"
            ]
          },
          "metadata": {},
          "execution_count": 67
        }
      ],
      "source": [
        "testing.shape"
      ]
    },
    {
      "cell_type": "code",
      "execution_count": 68,
      "metadata": {
        "colab": {
          "base_uri": "https://localhost:8080/",
          "height": 112
        },
        "id": "yAwEe-POi8ZU",
        "outputId": "664f4c2d-df1a-4ed1-9e45-e9f6b1829d2a"
      },
      "outputs": [
        {
          "output_type": "execute_result",
          "data": {
            "text/plain": [
              "        age  pay_0  pay_2  pay_3  pay_4  pay_5  pay_6  \\\n",
              "0  0.458333    1.0    0.0    0.0    0.0      0      0   \n",
              "1  0.062500    0.0    0.0    0.0    0.0      0      0   \n",
              "\n",
              "   default_payment_next_month  \n",
              "0                           0  \n",
              "1                           0  "
            ],
            "text/html": [
              "\n",
              "  <div id=\"df-e5ed6c3f-221e-4fbe-8d46-6c16995930ec\">\n",
              "    <div class=\"colab-df-container\">\n",
              "      <div>\n",
              "<style scoped>\n",
              "    .dataframe tbody tr th:only-of-type {\n",
              "        vertical-align: middle;\n",
              "    }\n",
              "\n",
              "    .dataframe tbody tr th {\n",
              "        vertical-align: top;\n",
              "    }\n",
              "\n",
              "    .dataframe thead th {\n",
              "        text-align: right;\n",
              "    }\n",
              "</style>\n",
              "<table border=\"1\" class=\"dataframe\">\n",
              "  <thead>\n",
              "    <tr style=\"text-align: right;\">\n",
              "      <th></th>\n",
              "      <th>age</th>\n",
              "      <th>pay_0</th>\n",
              "      <th>pay_2</th>\n",
              "      <th>pay_3</th>\n",
              "      <th>pay_4</th>\n",
              "      <th>pay_5</th>\n",
              "      <th>pay_6</th>\n",
              "      <th>default_payment_next_month</th>\n",
              "    </tr>\n",
              "  </thead>\n",
              "  <tbody>\n",
              "    <tr>\n",
              "      <th>0</th>\n",
              "      <td>0.458333</td>\n",
              "      <td>1.0</td>\n",
              "      <td>0.0</td>\n",
              "      <td>0.0</td>\n",
              "      <td>0.0</td>\n",
              "      <td>0</td>\n",
              "      <td>0</td>\n",
              "      <td>0</td>\n",
              "    </tr>\n",
              "    <tr>\n",
              "      <th>1</th>\n",
              "      <td>0.062500</td>\n",
              "      <td>0.0</td>\n",
              "      <td>0.0</td>\n",
              "      <td>0.0</td>\n",
              "      <td>0.0</td>\n",
              "      <td>0</td>\n",
              "      <td>0</td>\n",
              "      <td>0</td>\n",
              "    </tr>\n",
              "  </tbody>\n",
              "</table>\n",
              "</div>\n",
              "      <button class=\"colab-df-convert\" onclick=\"convertToInteractive('df-e5ed6c3f-221e-4fbe-8d46-6c16995930ec')\"\n",
              "              title=\"Convert this dataframe to an interactive table.\"\n",
              "              style=\"display:none;\">\n",
              "        \n",
              "  <svg xmlns=\"http://www.w3.org/2000/svg\" height=\"24px\"viewBox=\"0 0 24 24\"\n",
              "       width=\"24px\">\n",
              "    <path d=\"M0 0h24v24H0V0z\" fill=\"none\"/>\n",
              "    <path d=\"M18.56 5.44l.94 2.06.94-2.06 2.06-.94-2.06-.94-.94-2.06-.94 2.06-2.06.94zm-11 1L8.5 8.5l.94-2.06 2.06-.94-2.06-.94L8.5 2.5l-.94 2.06-2.06.94zm10 10l.94 2.06.94-2.06 2.06-.94-2.06-.94-.94-2.06-.94 2.06-2.06.94z\"/><path d=\"M17.41 7.96l-1.37-1.37c-.4-.4-.92-.59-1.43-.59-.52 0-1.04.2-1.43.59L10.3 9.45l-7.72 7.72c-.78.78-.78 2.05 0 2.83L4 21.41c.39.39.9.59 1.41.59.51 0 1.02-.2 1.41-.59l7.78-7.78 2.81-2.81c.8-.78.8-2.07 0-2.86zM5.41 20L4 18.59l7.72-7.72 1.47 1.35L5.41 20z\"/>\n",
              "  </svg>\n",
              "      </button>\n",
              "      \n",
              "  <style>\n",
              "    .colab-df-container {\n",
              "      display:flex;\n",
              "      flex-wrap:wrap;\n",
              "      gap: 12px;\n",
              "    }\n",
              "\n",
              "    .colab-df-convert {\n",
              "      background-color: #E8F0FE;\n",
              "      border: none;\n",
              "      border-radius: 50%;\n",
              "      cursor: pointer;\n",
              "      display: none;\n",
              "      fill: #1967D2;\n",
              "      height: 32px;\n",
              "      padding: 0 0 0 0;\n",
              "      width: 32px;\n",
              "    }\n",
              "\n",
              "    .colab-df-convert:hover {\n",
              "      background-color: #E2EBFA;\n",
              "      box-shadow: 0px 1px 2px rgba(60, 64, 67, 0.3), 0px 1px 3px 1px rgba(60, 64, 67, 0.15);\n",
              "      fill: #174EA6;\n",
              "    }\n",
              "\n",
              "    [theme=dark] .colab-df-convert {\n",
              "      background-color: #3B4455;\n",
              "      fill: #D2E3FC;\n",
              "    }\n",
              "\n",
              "    [theme=dark] .colab-df-convert:hover {\n",
              "      background-color: #434B5C;\n",
              "      box-shadow: 0px 1px 3px 1px rgba(0, 0, 0, 0.15);\n",
              "      filter: drop-shadow(0px 1px 2px rgba(0, 0, 0, 0.3));\n",
              "      fill: #FFFFFF;\n",
              "    }\n",
              "  </style>\n",
              "\n",
              "      <script>\n",
              "        const buttonEl =\n",
              "          document.querySelector('#df-e5ed6c3f-221e-4fbe-8d46-6c16995930ec button.colab-df-convert');\n",
              "        buttonEl.style.display =\n",
              "          google.colab.kernel.accessAllowed ? 'block' : 'none';\n",
              "\n",
              "        async function convertToInteractive(key) {\n",
              "          const element = document.querySelector('#df-e5ed6c3f-221e-4fbe-8d46-6c16995930ec');\n",
              "          const dataTable =\n",
              "            await google.colab.kernel.invokeFunction('convertToInteractive',\n",
              "                                                     [key], {});\n",
              "          if (!dataTable) return;\n",
              "\n",
              "          const docLinkHtml = 'Like what you see? Visit the ' +\n",
              "            '<a target=\"_blank\" href=https://colab.research.google.com/notebooks/data_table.ipynb>data table notebook</a>'\n",
              "            + ' to learn more about interactive tables.';\n",
              "          element.innerHTML = '';\n",
              "          dataTable['output_type'] = 'display_data';\n",
              "          await google.colab.output.renderOutput(dataTable, element);\n",
              "          const docLink = document.createElement('div');\n",
              "          docLink.innerHTML = docLinkHtml;\n",
              "          element.appendChild(docLink);\n",
              "        }\n",
              "      </script>\n",
              "    </div>\n",
              "  </div>\n",
              "  "
            ]
          },
          "metadata": {},
          "execution_count": 68
        }
      ],
      "source": [
        "num_scaled_testing = pd.DataFrame(scaler.transform(testing[num_col_scalling]))\n",
        "num_scaled_testing.columns = num_col_scalling\n",
        "\n",
        "testing.drop(num_col_scalling, axis=1, inplace=True)\n",
        "testing_model = pd.concat([testing.reset_index(drop=True), num_scaled_testing], axis=1)\n",
        "\n",
        "testing_model = testing_model[['age','pay_0','pay_2','pay_3','pay_4','pay_5','pay_6','default_payment_next_month']]\n",
        "testing_model.head(2)"
      ]
    },
    {
      "cell_type": "markdown",
      "metadata": {
        "id": "zb3ljGEn0YOX"
      },
      "source": [
        "Preprocess:\n",
        "- melakukan transform winsorizer kepada data testing untuk menyamkan perlakuan pada handling outlier\n",
        "- melakukan transform scaling pada data testing dengan orde yang sama dengan data train "
      ]
    },
    {
      "cell_type": "markdown",
      "metadata": {
        "id": "lI3Yy8Cu0YOY"
      },
      "source": [
        "Persiapan data sebelum masuk model\n",
        "- data yang digunakan sudah melalui scaling\n",
        "- base tree model tidak memerlukan proses scaling, namun pada pemodelan ini data sudah melalui proses scaling yang mana mengikuti model lain yang sensitif terhadap ordo pada data"
      ]
    },
    {
      "cell_type": "code",
      "execution_count": 69,
      "metadata": {
        "id": "VuPJqlr9i8ZV"
      },
      "outputs": [],
      "source": [
        "X_train = df_train.drop('default_payment_next_month',axis=1).copy()\n",
        "y_train = df_train['default_payment_next_month']\n",
        "\n",
        "X_test = testing_model.drop('default_payment_next_month',axis=1).copy()\n",
        "y_test = testing_model['default_payment_next_month']"
      ]
    },
    {
      "cell_type": "markdown",
      "metadata": {
        "id": "rP2_nTxyi8ZV"
      },
      "source": [
        "### MODEL BUILDING"
      ]
    },
    {
      "cell_type": "markdown",
      "metadata": {
        "id": "7WYw7WIQ0YOa"
      },
      "source": [
        "Adapun model yang digunakan adalah sebagai berikut:\n",
        "1. Logistic regression\n",
        "2. SVC\n",
        "3. Desicion Tree\n",
        "4. Random Forest\n",
        "5. KNN\n",
        "6. Naive Bayes\n",
        "7. Bagging Classifier\n",
        "8. Adaboost Classifier\n",
        "\n",
        "Statement : \n",
        "- `default_payment_next_month`  : Default payment (1=yes, 0=no)\n",
        "- Mencari model terbaik dalam memprediksi kategori 1 yang mana kategori tersebut yang dijadikan urgensi dalam pemodelan ini"
      ]
    },
    {
      "cell_type": "code",
      "execution_count": 70,
      "metadata": {
        "id": "OthJcv5Hi8ZV"
      },
      "outputs": [],
      "source": [
        "logreg = LogisticRegression(random_state=0)\n",
        "svc = SVC(random_state=0)\n",
        "dtc = DecisionTreeClassifier(random_state=0)\n",
        "rfc = RandomForestClassifier(random_state=0)\n",
        "knn = KNeighborsClassifier(n_neighbors=5)\n",
        "gnb = GaussianNB()\n",
        "bag_clf = BaggingClassifier(DecisionTreeClassifier(random_state=0))\n",
        "adb = AdaBoostClassifier()"
      ]
    },
    {
      "cell_type": "markdown",
      "metadata": {
        "id": "oWUu2Wsti8ZV"
      },
      "source": [
        "### MODEL EVALUATION"
      ]
    },
    {
      "cell_type": "markdown",
      "metadata": {
        "id": "SM2pu4WUi8ZV"
      },
      "source": [
        "#### Logistic Regression"
      ]
    },
    {
      "cell_type": "code",
      "execution_count": 71,
      "metadata": {
        "colab": {
          "base_uri": "https://localhost:8080/",
          "height": 0
        },
        "id": "uVjij7zHi8ZV",
        "outputId": "e2e63d8e-6ad0-44a5-d521-9037ab9581c6"
      },
      "outputs": [
        {
          "output_type": "stream",
          "name": "stdout",
          "text": [
            "              precision    recall  f1-score   support\n",
            "\n",
            "           0       0.85      0.96      0.90      1744\n",
            "           1       0.74      0.39      0.51       475\n",
            "\n",
            "    accuracy                           0.84      2219\n",
            "   macro avg       0.79      0.68      0.71      2219\n",
            "weighted avg       0.83      0.84      0.82      2219\n",
            "\n",
            "              precision    recall  f1-score   support\n",
            "\n",
            "           0       0.85      0.95      0.90       581\n",
            "           1       0.67      0.36      0.47       159\n",
            "\n",
            "    accuracy                           0.83       740\n",
            "   macro avg       0.76      0.66      0.68       740\n",
            "weighted avg       0.81      0.83      0.80       740\n",
            "\n",
            "Confusion Matrix      : \n",
            " <sklearn.metrics._plot.confusion_matrix.ConfusionMatrixDisplay object at 0x7f757e999050>\n"
          ]
        },
        {
          "output_type": "display_data",
          "data": {
            "text/plain": [
              "<Figure size 432x288 with 2 Axes>"
            ],
            "image/png": "[encoded data removed]"
          },
          "metadata": {
            "needs_background": "light"
          }
        }
      ],
      "source": [
        "logreg.fit(X_train, y_train)\n",
        "\n",
        "lr_train = logreg.predict(X_train)\n",
        "lr_test = logreg.predict(X_test)\n",
        "\n",
        "print(classification_report(y_train, lr_train))\n",
        "print(classification_report(y_test, lr_test))\n",
        "print('Confusion Matrix      : \\n', ConfusionMatrixDisplay.from_estimator(logreg, X_test, y_test, cmap='inferno'))"
      ]
    },
    {
      "cell_type": "markdown",
      "metadata": {
        "id": "QZCg-f380YOd"
      },
      "source": [
        "Logistic Regression:\n",
        "- Dikarenakan data yang imbalance maka nilai akurasi tidak dapat dijadikan rujukan dalam melihat performa model\n",
        "- Metric evaluation berfokus pada nilai recall untuk kategori 1, yang mana nilai tersebut menunjukan nilai ketepatan model dalam memprediksi target\n",
        "- Nilai menunjukan bahwa model just fit, yang mana dapat dilihat recall untuk data train sebesar 0,39 dan data test sebesar 0,36\n",
        "- Dapat dilihat pula pada confusion matriks yang menunjukan model hanya dapat memprediksi 58 data dengan benar dari 159 data (recall menunjukan ketepatan prediksi model dalam bentuk desimal)"
      ]
    },
    {
      "cell_type": "markdown",
      "metadata": {
        "id": "Hvv1Dr4gi8ZV"
      },
      "source": [
        "#### SVM"
      ]
    },
    {
      "cell_type": "code",
      "execution_count": 72,
      "metadata": {
        "colab": {
          "base_uri": "https://localhost:8080/",
          "height": 0
        },
        "id": "7Ia_rEi7ml9r",
        "outputId": "6adcd771-0486-49cb-b75b-e8749f277124"
      },
      "outputs": [
        {
          "output_type": "stream",
          "name": "stdout",
          "text": [
            "              precision    recall  f1-score   support\n",
            "\n",
            "           0       0.86      0.95      0.91      1744\n",
            "           1       0.72      0.45      0.56       475\n",
            "\n",
            "    accuracy                           0.84      2219\n",
            "   macro avg       0.79      0.70      0.73      2219\n",
            "weighted avg       0.83      0.84      0.83      2219\n",
            "\n",
            "              precision    recall  f1-score   support\n",
            "\n",
            "           0       0.86      0.95      0.90       581\n",
            "           1       0.69      0.43      0.53       159\n",
            "\n",
            "    accuracy                           0.84       740\n",
            "   macro avg       0.77      0.69      0.71       740\n",
            "weighted avg       0.82      0.84      0.82       740\n",
            "\n",
            "Confusion Matrix      : \n",
            " <sklearn.metrics._plot.confusion_matrix.ConfusionMatrixDisplay object at 0x7f757e683f90>\n"
          ]
        },
        {
          "output_type": "display_data",
          "data": {
            "text/plain": [
              "<Figure size 432x288 with 2 Axes>"
            ],
            "image/png": "[encoded data removed]"
          },
          "metadata": {
            "needs_background": "light"
          }
        }
      ],
      "source": [
        "svc.fit(X_train, y_train)\n",
        "\n",
        "svc_train = svc.predict(X_train)\n",
        "svc_test = svc.predict(X_test)\n",
        "\n",
        "print(classification_report(y_train, svc_train))\n",
        "print(classification_report(y_test, svc_test))\n",
        "print('Confusion Matrix      : \\n', ConfusionMatrixDisplay.from_estimator(svc, X_test, y_test, cmap='inferno'))"
      ]
    },
    {
      "cell_type": "markdown",
      "metadata": {
        "id": "gWXsGGRI0YOf"
      },
      "source": [
        "SVM :\n",
        "- Dikarenakan data yang imbalance maka nilai akurasi tidak dapat dijadikan rujukan dalam melihat performa model\n",
        "- Metric evaluation berfokus pada nilai recall untuk kategori 1, yang mana nilai tersebut menunjukan nilai ketepatan model dalam memprediksi target\n",
        "- Nilai menunjukan bahwa model just fit, yang mana dapat dilihat recall untuk data train sebesar 0,45 dan data test sebesar 0,43\n",
        "- Dapat dilihat pula pada confusion matriks yang menunjukan model hanya dapat memprediksi 68 data dengan benar dari 159 data (recall menunjukan ketepatan prediksi model dalam bentuk desimal)"
      ]
    },
    {
      "cell_type": "markdown",
      "metadata": {
        "id": "qi_n5eibi8ZW"
      },
      "source": [
        "#### Decision Tree"
      ]
    },
    {
      "cell_type": "code",
      "execution_count": 73,
      "metadata": {
        "colab": {
          "base_uri": "https://localhost:8080/",
          "height": 0
        },
        "id": "ijt7FIbPmxdI",
        "outputId": "59d37d2d-4f1a-4263-8cb1-ffcd6fba14ac"
      },
      "outputs": [
        {
          "output_type": "stream",
          "name": "stdout",
          "text": [
            "              precision    recall  f1-score   support\n",
            "\n",
            "           0       0.89      0.99      0.94      1744\n",
            "           1       0.96      0.54      0.69       475\n",
            "\n",
            "    accuracy                           0.90      2219\n",
            "   macro avg       0.92      0.77      0.81      2219\n",
            "weighted avg       0.90      0.90      0.88      2219\n",
            "\n",
            "              precision    recall  f1-score   support\n",
            "\n",
            "           0       0.84      0.94      0.89       581\n",
            "           1       0.60      0.35      0.44       159\n",
            "\n",
            "    accuracy                           0.81       740\n",
            "   macro avg       0.72      0.64      0.66       740\n",
            "weighted avg       0.79      0.81      0.79       740\n",
            "\n",
            "Confusion Matrix      : \n",
            " <sklearn.metrics._plot.confusion_matrix.ConfusionMatrixDisplay object at 0x7f757e846bd0>\n"
          ]
        },
        {
          "output_type": "display_data",
          "data": {
            "text/plain": [
              "<Figure size 432x288 with 2 Axes>"
            ],
            "image/png": "[encoded data removed]"
          },
          "metadata": {
            "needs_background": "light"
          }
        }
      ],
      "source": [
        "dtc.fit(X_train, y_train)\n",
        "\n",
        "dtc_train = dtc.predict(X_train)\n",
        "dtc_test = dtc.predict(X_test)\n",
        "\n",
        "print(classification_report(y_train, dtc_train))\n",
        "print(classification_report(y_test, dtc_test))\n",
        "print('Confusion Matrix      : \\n', ConfusionMatrixDisplay.from_estimator(dtc, X_test, y_test, cmap='inferno'))"
      ]
    },
    {
      "cell_type": "markdown",
      "metadata": {
        "id": "u17_ZMAd0YOh"
      },
      "source": [
        "Desician Tree :\n",
        "- Dikarenakan data yang imbalance maka nilai akurasi tidak dapat dijadikan rujukan dalam melihat performa model\n",
        "- Metric evaluation berfokus pada nilai recall untuk kategori 1, yang mana nilai tersebut menunjukan nilai ketepatan model dalam memprediksi target\n",
        "- Nilai menunjukan bahwa model overfit, yang mana dapat dilihat recall untuk data train sebesar 0,54 dan data test sebesar 0,35\n",
        "- Dapat dilihat pula pada confusion matriks yang menunjukan model hanya dapat memprediksi 55 data dengan benar dari 159 data (recall menunjukan ketepatan prediksi model dalam bentuk desimal)"
      ]
    },
    {
      "cell_type": "markdown",
      "metadata": {
        "id": "vOA91GEsi8ZW"
      },
      "source": [
        "#### Random Forest"
      ]
    },
    {
      "cell_type": "code",
      "execution_count": 74,
      "metadata": {
        "colab": {
          "base_uri": "https://localhost:8080/",
          "height": 0
        },
        "id": "K3M7CIwLnU0J",
        "outputId": "c41a2699-c6ae-4fba-e3df-a617c7064871"
      },
      "outputs": [
        {
          "output_type": "stream",
          "name": "stdout",
          "text": [
            "              precision    recall  f1-score   support\n",
            "\n",
            "           0       0.89      0.99      0.94      1744\n",
            "           1       0.93      0.56      0.70       475\n",
            "\n",
            "    accuracy                           0.90      2219\n",
            "   macro avg       0.91      0.77      0.82      2219\n",
            "weighted avg       0.90      0.90      0.89      2219\n",
            "\n",
            "              precision    recall  f1-score   support\n",
            "\n",
            "           0       0.86      0.93      0.89       581\n",
            "           1       0.63      0.43      0.51       159\n",
            "\n",
            "    accuracy                           0.82       740\n",
            "   macro avg       0.74      0.68      0.70       740\n",
            "weighted avg       0.81      0.82      0.81       740\n",
            "\n",
            "Confusion Matrix      : \n",
            " <sklearn.metrics._plot.confusion_matrix.ConfusionMatrixDisplay object at 0x7f757e6d7e90>\n"
          ]
        },
        {
          "output_type": "display_data",
          "data": {
            "text/plain": [
              "<Figure size 432x288 with 2 Axes>"
            ],
            "image/png": "[encoded data removed]"
          },
          "metadata": {
            "needs_background": "light"
          }
        }
      ],
      "source": [
        "rfc.fit(X_train, y_train)\n",
        "\n",
        "rfc_train = rfc.predict(X_train)\n",
        "rfc_test = rfc.predict(X_test)\n",
        "\n",
        "print(classification_report(y_train, rfc_train))\n",
        "print(classification_report(y_test, rfc_test))\n",
        "print('Confusion Matrix      : \\n', ConfusionMatrixDisplay.from_estimator(rfc, X_test, y_test, cmap='inferno'))"
      ]
    },
    {
      "cell_type": "markdown",
      "metadata": {
        "id": "f7OgCeoC0YOj"
      },
      "source": [
        "Random Forest :\n",
        "- Dikarenakan data yang imbalance maka nilai akurasi tidak dapat dijadikan rujukan dalam melihat performa model\n",
        "- Metric evaluation berfokus pada nilai recall untuk kategori 1, yang mana nilai tersebut menunjukan nilai ketepatan model dalam memprediksi target\n",
        "- Nilai menunjukan bahwa model overfit, yang mana dapat dilihat recall untuk data train sebesar 0,56 dan data test sebesar 0,43\n",
        "- Dapat dilihat pula pada confusion matriks yang menunjukan model hanya dapat memprediksi 68 data dengan benar dari 159 data (recall menunjukan ketepatan prediksi model dalam bentuk desimal)"
      ]
    },
    {
      "cell_type": "markdown",
      "metadata": {
        "id": "ATmoLct5i8ZW"
      },
      "source": [
        "#### KNN"
      ]
    },
    {
      "cell_type": "code",
      "execution_count": 75,
      "metadata": {
        "colab": {
          "base_uri": "https://localhost:8080/",
          "height": 0
        },
        "id": "O_QsGgfmnhXI",
        "outputId": "29bb6983-c89a-45ab-d5f7-916eab6de5bb"
      },
      "outputs": [
        {
          "output_type": "stream",
          "name": "stdout",
          "text": [
            "              precision    recall  f1-score   support\n",
            "\n",
            "           0       0.87      0.96      0.91      1744\n",
            "           1       0.75      0.47      0.58       475\n",
            "\n",
            "    accuracy                           0.85      2219\n",
            "   macro avg       0.81      0.71      0.74      2219\n",
            "weighted avg       0.84      0.85      0.84      2219\n",
            "\n",
            "              precision    recall  f1-score   support\n",
            "\n",
            "           0       0.84      0.93      0.89       581\n",
            "           1       0.60      0.37      0.46       159\n",
            "\n",
            "    accuracy                           0.81       740\n",
            "   macro avg       0.72      0.65      0.67       740\n",
            "weighted avg       0.79      0.81      0.79       740\n",
            "\n",
            "Confusion Matrix      : \n",
            " <sklearn.metrics._plot.confusion_matrix.ConfusionMatrixDisplay object at 0x7f757e82b750>\n"
          ]
        },
        {
          "output_type": "display_data",
          "data": {
            "text/plain": [
              "<Figure size 432x288 with 2 Axes>"
            ],
            "image/png": "[encoded data removed]"
          },
          "metadata": {
            "needs_background": "light"
          }
        }
      ],
      "source": [
        "knn.fit(X_train, y_train)\n",
        "\n",
        "knn_train = knn.predict(X_train)\n",
        "knn_test = knn.predict(X_test)\n",
        "\n",
        "print(classification_report(y_train, knn_train))\n",
        "print(classification_report(y_test, knn_test))\n",
        "print('Confusion Matrix      : \\n', ConfusionMatrixDisplay.from_estimator(knn, X_test, y_test, cmap='inferno'))"
      ]
    },
    {
      "cell_type": "markdown",
      "metadata": {
        "id": "ZXzHSyTs0YOm"
      },
      "source": [
        "KNN :\n",
        "- Dikarenakan data yang imbalance maka nilai akurasi tidak dapat dijadikan rujukan dalam melihat performa model\n",
        "- Metric evaluation berfokus pada nilai recall untuk kategori 1, yang mana nilai tersebut menunjukan nilai ketepatan model dalam memprediksi target\n",
        "- Nilai menunjukan bahwa model overfit, yang mana dapat dilihat recall untuk data train sebesar 0,47 dan data test sebesar 0,37\n",
        "- Dapat dilihat pula pada confusion matriks yang menunjukan model hanya dapat memprediksi 59 data dengan benar dari 159 data (recall menunjukan ketepatan prediksi model dalam bentuk desimal)"
      ]
    },
    {
      "cell_type": "markdown",
      "metadata": {
        "id": "UiIMPZbci8ZW"
      },
      "source": [
        "#### Naive Bayes"
      ]
    },
    {
      "cell_type": "code",
      "execution_count": 76,
      "metadata": {
        "colab": {
          "base_uri": "https://localhost:8080/",
          "height": 0
        },
        "id": "2HetHnOGnrzI",
        "outputId": "6f0ce8c3-fe74-4ceb-82e9-54eebc65aec5"
      },
      "outputs": [
        {
          "output_type": "stream",
          "name": "stdout",
          "text": [
            "              precision    recall  f1-score   support\n",
            "\n",
            "           0       0.87      0.88      0.88      1744\n",
            "           1       0.55      0.53      0.54       475\n",
            "\n",
            "    accuracy                           0.81      2219\n",
            "   macro avg       0.71      0.71      0.71      2219\n",
            "weighted avg       0.81      0.81      0.81      2219\n",
            "\n",
            "              precision    recall  f1-score   support\n",
            "\n",
            "           0       0.88      0.89      0.89       581\n",
            "           1       0.58      0.57      0.58       159\n",
            "\n",
            "    accuracy                           0.82       740\n",
            "   macro avg       0.73      0.73      0.73       740\n",
            "weighted avg       0.82      0.82      0.82       740\n",
            "\n",
            "Confusion Matrix      : \n",
            " <sklearn.metrics._plot.confusion_matrix.ConfusionMatrixDisplay object at 0x7f757e74db50>\n"
          ]
        },
        {
          "output_type": "display_data",
          "data": {
            "text/plain": [
              "<Figure size 432x288 with 2 Axes>"
            ],
            "image/png": "[encoded data removed]"
          },
          "metadata": {
            "needs_background": "light"
          }
        }
      ],
      "source": [
        "gnb.fit(X_train, y_train)\n",
        "\n",
        "gnb_train = gnb.predict(X_train)\n",
        "gnb_test = gnb.predict(X_test)\n",
        "\n",
        "print(classification_report(y_train, gnb_train))\n",
        "print(classification_report(y_test, gnb_test))\n",
        "print('Confusion Matrix      : \\n', ConfusionMatrixDisplay.from_estimator(gnb, X_test, y_test, cmap='inferno'))"
      ]
    },
    {
      "cell_type": "markdown",
      "metadata": {
        "id": "y-z1Ybjg0YOo"
      },
      "source": [
        "Naive Bayes :\n",
        "- Dikarenakan data yang imbalance maka nilai akurasi tidak dapat dijadikan rujukan dalam melihat performa model\n",
        "- Metric evaluation berfokus pada nilai recall untuk kategori 1, yang mana nilai tersebut menunjukan nilai ketepatan model dalam memprediksi target\n",
        "- Nilai menunjukan bahwa model just fit, yang mana dapat dilihat recall untuk data train sebesar 0,53 dan data test sebesar 0,57\n",
        "- Dapat dilihat pula pada confusion matriks yang menunjukan model hanya dapat memprediksi 90 data dengan benar dari 159 data (recall menunjukan ketepatan prediksi model dalam bentuk desimal)"
      ]
    },
    {
      "cell_type": "markdown",
      "metadata": {
        "id": "HN1LLUvstpsi"
      },
      "source": [
        "#### Bagging Classifier"
      ]
    },
    {
      "cell_type": "code",
      "execution_count": 77,
      "metadata": {
        "colab": {
          "base_uri": "https://localhost:8080/",
          "height": 0
        },
        "id": "qPTNCygUoBqJ",
        "outputId": "ed015987-4cae-4c7e-bac3-f47e869ab3f8"
      },
      "outputs": [
        {
          "output_type": "stream",
          "name": "stdout",
          "text": [
            "              precision    recall  f1-score   support\n",
            "\n",
            "           0       0.89      0.98      0.93      1744\n",
            "           1       0.89      0.56      0.68       475\n",
            "\n",
            "    accuracy                           0.89      2219\n",
            "   macro avg       0.89      0.77      0.81      2219\n",
            "weighted avg       0.89      0.89      0.88      2219\n",
            "\n",
            "              precision    recall  f1-score   support\n",
            "\n",
            "           0       0.85      0.92      0.88       581\n",
            "           1       0.58      0.39      0.47       159\n",
            "\n",
            "    accuracy                           0.81       740\n",
            "   macro avg       0.72      0.66      0.68       740\n",
            "weighted avg       0.79      0.81      0.79       740\n",
            "\n",
            "Confusion Matrix      : \n",
            " <sklearn.metrics._plot.confusion_matrix.ConfusionMatrixDisplay object at 0x7f757a22fa50>\n"
          ]
        },
        {
          "output_type": "display_data",
          "data": {
            "text/plain": [
              "<Figure size 432x288 with 2 Axes>"
            ],
            "image/png": "[encoded data removed]"
          },
          "metadata": {
            "needs_background": "light"
          }
        }
      ],
      "source": [
        "bag_clf.fit(X_train, y_train)\n",
        "\n",
        "bag_clf_train = bag_clf.predict(X_train)\n",
        "bag_clf_test = bag_clf.predict(X_test)\n",
        "\n",
        "print(classification_report(y_train, bag_clf_train))\n",
        "print(classification_report(y_test, bag_clf_test))\n",
        "print('Confusion Matrix      : \\n', ConfusionMatrixDisplay.from_estimator(bag_clf, X_test, y_test, cmap='inferno'))"
      ]
    },
    {
      "cell_type": "markdown",
      "metadata": {
        "id": "sCq8H0Bb0YOq"
      },
      "source": [
        "Bagging Classifier :\n",
        "- Bagging Classifier merupakan esemble model dari Desicion Tree\n",
        "- Dikarenakan data yang imbalance maka nilai akurasi tidak dapat dijadikan rujukan dalam melihat performa model\n",
        "- Metric evaluation berfokus pada nilai recall untuk kategori 1, yang mana nilai tersebut menunjukan nilai ketepatan model dalam memprediksi target\n",
        "- Nilai menunjukan bahwa model overfit, yang mana dapat dilihat recall untuk data train sebesar 0,56 dan data test sebesar 0,34\n",
        "- Dapat dilihat pula pada confusion matriks yang menunjukan model hanya dapat memprediksi 54 data dengan benar dari 159 data (recall menunjukan ketepatan prediksi model dalam bentuk desimal)"
      ]
    },
    {
      "cell_type": "markdown",
      "metadata": {
        "id": "gAdFKqZZA7Sp"
      },
      "source": [
        "#### Adaboost Classifier"
      ]
    },
    {
      "cell_type": "code",
      "execution_count": 78,
      "metadata": {
        "colab": {
          "base_uri": "https://localhost:8080/",
          "height": 0
        },
        "id": "8_9bKGvxATAb",
        "outputId": "1674ee18-bd10-461e-ac0e-5d225b807ae1"
      },
      "outputs": [
        {
          "output_type": "stream",
          "name": "stdout",
          "text": [
            "              precision    recall  f1-score   support\n",
            "\n",
            "           0       0.86      0.96      0.91      1744\n",
            "           1       0.73      0.44      0.54       475\n",
            "\n",
            "    accuracy                           0.84      2219\n",
            "   macro avg       0.79      0.70      0.73      2219\n",
            "weighted avg       0.83      0.84      0.83      2219\n",
            "\n",
            "              precision    recall  f1-score   support\n",
            "\n",
            "           0       0.85      0.95      0.90       581\n",
            "           1       0.69      0.40      0.51       159\n",
            "\n",
            "    accuracy                           0.83       740\n",
            "   macro avg       0.77      0.68      0.70       740\n",
            "weighted avg       0.82      0.83      0.81       740\n",
            "\n",
            "Confusion Matrix      : \n",
            " <sklearn.metrics._plot.confusion_matrix.ConfusionMatrixDisplay object at 0x7f757a35d3d0>\n"
          ]
        },
        {
          "output_type": "display_data",
          "data": {
            "text/plain": [
              "<Figure size 432x288 with 2 Axes>"
            ],
            "image/png": "[encoded data removed]"
          },
          "metadata": {
            "needs_background": "light"
          }
        }
      ],
      "source": [
        "adb.fit(X_train, y_train)\n",
        "\n",
        "adb_train = adb.predict(X_train)\n",
        "adb_test = adb.predict(X_test)\n",
        "\n",
        "print(classification_report(y_train, adb_train))\n",
        "print(classification_report(y_test, adb_test))\n",
        "print('Confusion Matrix      : \\n', ConfusionMatrixDisplay.from_estimator(adb, X_test, y_test, cmap='inferno'))"
      ]
    },
    {
      "cell_type": "markdown",
      "metadata": {
        "id": "HDNZj_EE0YOs"
      },
      "source": [
        "Adaboost Classifier :\n",
        "- Dikarenakan data yang imbalance maka nilai akurasi tidak dapat dijadikan rujukan dalam melihat performa model\n",
        "- Metric evaluation berfokus pada nilai recall untuk kategori 1, yang mana nilai tersebut menunjukan nilai ketepatan model dalam memprediksi target\n",
        "- Nilai menunjukan bahwa model justfit, yang mana dapat dilihat recall untuk data train sebesar 0,44 dan data test sebesar 0,40\n",
        "- Dapat dilihat pula pada confusion matriks yang menunjukan model hanya dapat memprediksi 64 data dengan benar dari 159 data (recall menunjukan ketepatan prediksi model dalam bentuk desimal)"
      ]
    },
    {
      "cell_type": "markdown",
      "metadata": {
        "id": "__Zsr1gQoZhV"
      },
      "source": [
        "### CROSS VALIDATION"
      ]
    },
    {
      "cell_type": "markdown",
      "metadata": {
        "id": "MI-xkgwgon5A"
      },
      "source": [
        "#### Logistic Regression"
      ]
    },
    {
      "cell_type": "code",
      "execution_count": 79,
      "metadata": {
        "colab": {
          "base_uri": "https://localhost:8080/"
        },
        "id": "0nG8nboApbnI",
        "outputId": "8d46ccb8-2c0f-4eca-dd01-9420666c8733"
      },
      "outputs": [
        {
          "output_type": "stream",
          "name": "stdout",
          "text": [
            "LogisticRegression\n",
            "accuracy Score - All - Cross Validation  :  [0.83108108 0.83333333 0.84009009 0.84459459 0.82844244]\n",
            "accuracy Score - Mean - Cross Validation :  0.83550830740447\n",
            "accuracy Score - Std - Cross Validation  :  0.005963400106213297\n",
            "accuracy Score - Range of Test-Set       :  0.8295449072982567 - 0.8414717075106833\n"
          ]
        }
      ],
      "source": [
        "# Cross Validation using `cross_val_score`\n",
        "\n",
        "cv_logrec = cross_val_score(logreg,X_train, y_train, cv=5, scoring='accuracy')\n",
        "\n",
        "print('LogisticRegression')\n",
        "print('accuracy Score - All - Cross Validation  : ', cv_logrec)\n",
        "print('accuracy Score - Mean - Cross Validation : ', cv_logrec.mean())\n",
        "print('accuracy Score - Std - Cross Validation  : ', cv_logrec.std())\n",
        "print('accuracy Score - Range of Test-Set       : ', (cv_logrec.mean()-cv_logrec.std()) , '-', (cv_logrec.mean()+cv_logrec.std()))"
      ]
    },
    {
      "cell_type": "markdown",
      "metadata": {
        "id": "JT31OY5dounX"
      },
      "source": [
        "#### SVM"
      ]
    },
    {
      "cell_type": "code",
      "execution_count": 80,
      "metadata": {
        "colab": {
          "base_uri": "https://localhost:8080/"
        },
        "id": "KNQbfQi7qV8w",
        "outputId": "1f22fa9c-a617-4e46-eb32-ea2c333cb3fb"
      },
      "outputs": [
        {
          "output_type": "stream",
          "name": "stdout",
          "text": [
            "SVM\n",
            "accuracy Score - All - Cross Validation  :  [0.83333333 0.82657658 0.84009009 0.83108108 0.80812641]\n",
            "accuracy Score - Mean - Cross Validation :  0.827841498383259\n",
            "accuracy Score - Std - Cross Validation  :  0.0107793121318535\n",
            "accuracy Score - Range of Test-Set       :  0.8170621862514056 - 0.8386208105151125\n"
          ]
        }
      ],
      "source": [
        "cv_svc = cross_val_score(svc,X_train, y_train, cv=5, scoring='accuracy')\n",
        "\n",
        "print('SVM')\n",
        "print('accuracy Score - All - Cross Validation  : ', cv_svc)\n",
        "print('accuracy Score - Mean - Cross Validation : ', cv_svc.mean())\n",
        "print('accuracy Score - Std - Cross Validation  : ', cv_svc.std())\n",
        "print('accuracy Score - Range of Test-Set       : ', (cv_svc.mean()-cv_svc.std()) , '-', (cv_svc.mean()+cv_svc.std()))"
      ]
    },
    {
      "cell_type": "markdown",
      "metadata": {
        "id": "da177xRboyiP"
      },
      "source": [
        "#### Decision Tree"
      ]
    },
    {
      "cell_type": "code",
      "execution_count": 81,
      "metadata": {
        "colab": {
          "base_uri": "https://localhost:8080/"
        },
        "id": "m-GKNz6Uqak_",
        "outputId": "abb6038b-3dbf-489d-ce08-8d358d1418e4"
      },
      "outputs": [
        {
          "output_type": "stream",
          "name": "stdout",
          "text": [
            "DecissionTree\n",
            "accuracy Score - All - Cross Validation  :  [0.83783784 0.79054054 0.81306306 0.81081081 0.78103837]\n",
            "accuracy Score - Mean - Cross Validation :  0.8066581253940172\n",
            "accuracy Score - Std - Cross Validation  :  0.019731146226275944\n",
            "accuracy Score - Range of Test-Set       :  0.7869269791677412 - 0.8263892716202931\n"
          ]
        }
      ],
      "source": [
        "cv_dtc = cross_val_score(dtc,X_train, y_train, cv=5, scoring='accuracy')\n",
        "\n",
        "print('DecissionTree')\n",
        "print('accuracy Score - All - Cross Validation  : ', cv_dtc)\n",
        "print('accuracy Score - Mean - Cross Validation : ', cv_dtc.mean())\n",
        "print('accuracy Score - Std - Cross Validation  : ', cv_dtc.std())\n",
        "print('accuracy Score - Range of Test-Set       : ', (cv_dtc.mean()-cv_dtc.std()) , '-', (cv_dtc.mean()+cv_dtc.std()))"
      ]
    },
    {
      "cell_type": "markdown",
      "metadata": {
        "id": "AMhRi_2bo2zP"
      },
      "source": [
        "#### Random Forest"
      ]
    },
    {
      "cell_type": "code",
      "execution_count": 82,
      "metadata": {
        "colab": {
          "base_uri": "https://localhost:8080/"
        },
        "id": "zD4r2Ov9qfOt",
        "outputId": "e794535e-d4b0-45bd-8cc0-f146216dabac"
      },
      "outputs": [
        {
          "output_type": "stream",
          "name": "stdout",
          "text": [
            "RandomForest\n",
            "accuracy Score - All - Cross Validation  :  [0.84459459 0.79504505 0.81756757 0.78828829 0.79232506]\n",
            "accuracy Score - Mean - Cross Validation :  0.8075641103857809\n",
            "accuracy Score - Std - Cross Validation  :  0.02112741818694444\n",
            "accuracy Score - Range of Test-Set       :  0.7864366921988365 - 0.8286915285727253\n"
          ]
        }
      ],
      "source": [
        "cv_rfc = cross_val_score(rfc,X_train, y_train, cv=5, scoring='accuracy')\n",
        "\n",
        "print('RandomForest')\n",
        "print('accuracy Score - All - Cross Validation  : ', cv_rfc)\n",
        "print('accuracy Score - Mean - Cross Validation : ', cv_rfc.mean())\n",
        "print('accuracy Score - Std - Cross Validation  : ', cv_rfc.std())\n",
        "print('accuracy Score - Range of Test-Set       : ', (cv_rfc.mean()-cv_rfc.std()) , '-', (cv_rfc.mean()+cv_rfc.std()))"
      ]
    },
    {
      "cell_type": "markdown",
      "metadata": {
        "id": "P2yRS_Y0o6B3"
      },
      "source": [
        "#### KNN"
      ]
    },
    {
      "cell_type": "code",
      "execution_count": 83,
      "metadata": {
        "colab": {
          "base_uri": "https://localhost:8080/"
        },
        "id": "BW-SUWypqh9f",
        "outputId": "baa3ba68-306d-41ca-f8c1-0fbd3208d7b1"
      },
      "outputs": [
        {
          "output_type": "stream",
          "name": "stdout",
          "text": [
            "KNN\n",
            "accuracy Score - All - Cross Validation  :  [0.82657658 0.8018018  0.82657658 0.79279279 0.80586907]\n",
            "accuracy Score - Mean - Cross Validation :  0.8107233644479693\n",
            "accuracy Score - Std - Cross Validation  :  0.01361846159076576\n",
            "accuracy Score - Range of Test-Set       :  0.7971049028572036 - 0.8243418260387351\n"
          ]
        }
      ],
      "source": [
        "cv_knn = cross_val_score(knn,X_train, y_train, cv=5, scoring='accuracy')\n",
        "\n",
        "print('KNN')\n",
        "print('accuracy Score - All - Cross Validation  : ', cv_knn)\n",
        "print('accuracy Score - Mean - Cross Validation : ', cv_knn.mean())\n",
        "print('accuracy Score - Std - Cross Validation  : ', cv_knn.std())\n",
        "print('accuracy Score - Range of Test-Set       : ', (cv_knn.mean()-cv_knn.std()) , '-', (cv_knn.mean()+cv_knn.std()))"
      ]
    },
    {
      "cell_type": "markdown",
      "metadata": {
        "id": "GdZcO60Bo8t4"
      },
      "source": [
        "#### Naive Bayes"
      ]
    },
    {
      "cell_type": "code",
      "execution_count": 84,
      "metadata": {
        "colab": {
          "base_uri": "https://localhost:8080/"
        },
        "id": "1SYrSJs_ql08",
        "outputId": "a8f0152a-2c79-48ab-fdc6-0b7bac3ab1f9"
      },
      "outputs": [
        {
          "output_type": "stream",
          "name": "stdout",
          "text": [
            "NaiveBayes\n",
            "accuracy Score - All - Cross Validation  :  [0.81531532 0.78603604 0.79954955 0.80405405 0.80586907]\n",
            "accuracy Score - Mean - Cross Validation :  0.8021648058894109\n",
            "accuracy Score - Std - Cross Validation  :  0.00956246354634193\n",
            "accuracy Score - Range of Test-Set       :  0.7926023423430689 - 0.8117272694357528\n"
          ]
        }
      ],
      "source": [
        "cv_gnb = cross_val_score(gnb,X_train, y_train, cv=5, scoring='accuracy')\n",
        "\n",
        "print('NaiveBayes')\n",
        "print('accuracy Score - All - Cross Validation  : ', cv_gnb)\n",
        "print('accuracy Score - Mean - Cross Validation : ', cv_gnb.mean())\n",
        "print('accuracy Score - Std - Cross Validation  : ', cv_gnb.std())\n",
        "print('accuracy Score - Range of Test-Set       : ', (cv_gnb.mean()-cv_gnb.std()) , '-', (cv_gnb.mean()+cv_gnb.std()))"
      ]
    },
    {
      "cell_type": "markdown",
      "metadata": {
        "id": "vvsOnfGPpEWI"
      },
      "source": [
        "#### Bagging Classifier"
      ]
    },
    {
      "cell_type": "code",
      "execution_count": 85,
      "metadata": {
        "colab": {
          "base_uri": "https://localhost:8080/"
        },
        "id": "iZhF7js3qrT_",
        "outputId": "ae5dbf58-d2fa-456e-fea9-7f24c4eaf2aa"
      },
      "outputs": [
        {
          "output_type": "stream",
          "name": "stdout",
          "text": [
            "BaggingClassifier\n",
            "accuracy Score - All - Cross Validation  :  [0.85135135 0.80630631 0.81531532 0.7972973  0.79232506]\n",
            "accuracy Score - Mean - Cross Validation :  0.8125190653407358\n",
            "accuracy Score - Std - Cross Validation  :  0.020946904514356893\n",
            "accuracy Score - Range of Test-Set       :  0.7915721608263789 - 0.8334659698550927\n"
          ]
        }
      ],
      "source": [
        "cv_bag_clf = cross_val_score(bag_clf,X_train, y_train, cv=5, scoring='accuracy')\n",
        "\n",
        "print('BaggingClassifier')\n",
        "print('accuracy Score - All - Cross Validation  : ', cv_bag_clf)\n",
        "print('accuracy Score - Mean - Cross Validation : ', cv_bag_clf.mean())\n",
        "print('accuracy Score - Std - Cross Validation  : ', cv_bag_clf.std())\n",
        "print('accuracy Score - Range of Test-Set       : ', (cv_bag_clf.mean()-cv_bag_clf.std()) , '-', (cv_bag_clf.mean()+cv_bag_clf.std()))"
      ]
    },
    {
      "cell_type": "markdown",
      "metadata": {
        "id": "2dUz9wqT_fp7"
      },
      "source": [
        "#### Adaboost Classifier"
      ]
    },
    {
      "cell_type": "code",
      "execution_count": 86,
      "metadata": {
        "colab": {
          "base_uri": "https://localhost:8080/"
        },
        "id": "PXXHv0TR_l1O",
        "outputId": "3dba9710-a2af-4e0a-f3d1-e546dbd0f138"
      },
      "outputs": [
        {
          "output_type": "stream",
          "name": "stdout",
          "text": [
            "AdaBoostClassifier\n",
            "accuracy Score - All - Cross Validation  :  [0.83333333 0.82882883 0.8490991  0.8490991  0.83069977]\n",
            "accuracy Score - Mean - Cross Validation :  0.8382120269253452\n",
            "accuracy Score - Std - Cross Validation  :  0.009003740097632804\n",
            "accuracy Score - Range of Test-Set       :  0.8292082868277124 - 0.8472157670229781\n"
          ]
        }
      ],
      "source": [
        "cv_adb = cross_val_score(adb,X_train, y_train, cv=5, scoring='accuracy')\n",
        "\n",
        "print('AdaBoostClassifier')\n",
        "print('accuracy Score - All - Cross Validation  : ', cv_adb)\n",
        "print('accuracy Score - Mean - Cross Validation : ', cv_adb.mean())\n",
        "print('accuracy Score - Std - Cross Validation  : ', cv_adb.std())\n",
        "print('accuracy Score - Range of Test-Set       : ', (cv_adb.mean()-cv_adb.std()) , '-', (cv_adb.mean()+cv_adb.std()))"
      ]
    },
    {
      "cell_type": "markdown",
      "metadata": {
        "id": "loTzGcaFm7SA"
      },
      "source": [
        "#### Hasil CV"
      ]
    },
    {
      "cell_type": "code",
      "execution_count": 87,
      "metadata": {
        "colab": {
          "base_uri": "https://localhost:8080/",
          "height": 0
        },
        "id": "1zRrAggQ-QcJ",
        "outputId": "37d7fa3d-6bfd-4481-b055-017b8228fb34"
      },
      "outputs": [
        {
          "output_type": "execute_result",
          "data": {
            "text/plain": [
              "                 Model  Mean   Std\n",
              "0  Logistic Regression  0.84  0.01\n",
              "1             AdaBoost  0.84  0.01\n",
              "2                  SVM  0.83  0.01\n",
              "3        Decision Tree  0.81  0.02\n",
              "4        Random Forest  0.81  0.02\n",
              "5                  KNN  0.81  0.01\n",
              "6   Bagging Classifier  0.81  0.02\n",
              "7          Naive Bayes  0.80  0.01"
            ],
            "text/html": [
              "\n",
              "  <div id=\"df-3bac170f-eb6c-47fa-834d-c2d5608917bc\">\n",
              "    <div class=\"colab-df-container\">\n",
              "      <div>\n",
              "<style scoped>\n",
              "    .dataframe tbody tr th:only-of-type {\n",
              "        vertical-align: middle;\n",
              "    }\n",
              "\n",
              "    .dataframe tbody tr th {\n",
              "        vertical-align: top;\n",
              "    }\n",
              "\n",
              "    .dataframe thead th {\n",
              "        text-align: right;\n",
              "    }\n",
              "</style>\n",
              "<table border=\"1\" class=\"dataframe\">\n",
              "  <thead>\n",
              "    <tr style=\"text-align: right;\">\n",
              "      <th></th>\n",
              "      <th>Model</th>\n",
              "      <th>Mean</th>\n",
              "      <th>Std</th>\n",
              "    </tr>\n",
              "  </thead>\n",
              "  <tbody>\n",
              "    <tr>\n",
              "      <th>0</th>\n",
              "      <td>Logistic Regression</td>\n",
              "      <td>0.84</td>\n",
              "      <td>0.01</td>\n",
              "    </tr>\n",
              "    <tr>\n",
              "      <th>1</th>\n",
              "      <td>AdaBoost</td>\n",
              "      <td>0.84</td>\n",
              "      <td>0.01</td>\n",
              "    </tr>\n",
              "    <tr>\n",
              "      <th>2</th>\n",
              "      <td>SVM</td>\n",
              "      <td>0.83</td>\n",
              "      <td>0.01</td>\n",
              "    </tr>\n",
              "    <tr>\n",
              "      <th>3</th>\n",
              "      <td>Decision Tree</td>\n",
              "      <td>0.81</td>\n",
              "      <td>0.02</td>\n",
              "    </tr>\n",
              "    <tr>\n",
              "      <th>4</th>\n",
              "      <td>Random Forest</td>\n",
              "      <td>0.81</td>\n",
              "      <td>0.02</td>\n",
              "    </tr>\n",
              "    <tr>\n",
              "      <th>5</th>\n",
              "      <td>KNN</td>\n",
              "      <td>0.81</td>\n",
              "      <td>0.01</td>\n",
              "    </tr>\n",
              "    <tr>\n",
              "      <th>6</th>\n",
              "      <td>Bagging Classifier</td>\n",
              "      <td>0.81</td>\n",
              "      <td>0.02</td>\n",
              "    </tr>\n",
              "    <tr>\n",
              "      <th>7</th>\n",
              "      <td>Naive Bayes</td>\n",
              "      <td>0.80</td>\n",
              "      <td>0.01</td>\n",
              "    </tr>\n",
              "  </tbody>\n",
              "</table>\n",
              "</div>\n",
              "      <button class=\"colab-df-convert\" onclick=\"convertToInteractive('df-3bac170f-eb6c-47fa-834d-c2d5608917bc')\"\n",
              "              title=\"Convert this dataframe to an interactive table.\"\n",
              "              style=\"display:none;\">\n",
              "        \n",
              "  <svg xmlns=\"http://www.w3.org/2000/svg\" height=\"24px\"viewBox=\"0 0 24 24\"\n",
              "       width=\"24px\">\n",
              "    <path d=\"M0 0h24v24H0V0z\" fill=\"none\"/>\n",
              "    <path d=\"M18.56 5.44l.94 2.06.94-2.06 2.06-.94-2.06-.94-.94-2.06-.94 2.06-2.06.94zm-11 1L8.5 8.5l.94-2.06 2.06-.94-2.06-.94L8.5 2.5l-.94 2.06-2.06.94zm10 10l.94 2.06.94-2.06 2.06-.94-2.06-.94-.94-2.06-.94 2.06-2.06.94z\"/><path d=\"M17.41 7.96l-1.37-1.37c-.4-.4-.92-.59-1.43-.59-.52 0-1.04.2-1.43.59L10.3 9.45l-7.72 7.72c-.78.78-.78 2.05 0 2.83L4 21.41c.39.39.9.59 1.41.59.51 0 1.02-.2 1.41-.59l7.78-7.78 2.81-2.81c.8-.78.8-2.07 0-2.86zM5.41 20L4 18.59l7.72-7.72 1.47 1.35L5.41 20z\"/>\n",
              "  </svg>\n",
              "      </button>\n",
              "      \n",
              "  <style>\n",
              "    .colab-df-container {\n",
              "      display:flex;\n",
              "      flex-wrap:wrap;\n",
              "      gap: 12px;\n",
              "    }\n",
              "\n",
              "    .colab-df-convert {\n",
              "      background-color: #E8F0FE;\n",
              "      border: none;\n",
              "      border-radius: 50%;\n",
              "      cursor: pointer;\n",
              "      display: none;\n",
              "      fill: #1967D2;\n",
              "      height: 32px;\n",
              "      padding: 0 0 0 0;\n",
              "      width: 32px;\n",
              "    }\n",
              "\n",
              "    .colab-df-convert:hover {\n",
              "      background-color: #E2EBFA;\n",
              "      box-shadow: 0px 1px 2px rgba(60, 64, 67, 0.3), 0px 1px 3px 1px rgba(60, 64, 67, 0.15);\n",
              "      fill: #174EA6;\n",
              "    }\n",
              "\n",
              "    [theme=dark] .colab-df-convert {\n",
              "      background-color: #3B4455;\n",
              "      fill: #D2E3FC;\n",
              "    }\n",
              "\n",
              "    [theme=dark] .colab-df-convert:hover {\n",
              "      background-color: #434B5C;\n",
              "      box-shadow: 0px 1px 3px 1px rgba(0, 0, 0, 0.15);\n",
              "      filter: drop-shadow(0px 1px 2px rgba(0, 0, 0, 0.3));\n",
              "      fill: #FFFFFF;\n",
              "    }\n",
              "  </style>\n",
              "\n",
              "      <script>\n",
              "        const buttonEl =\n",
              "          document.querySelector('#df-3bac170f-eb6c-47fa-834d-c2d5608917bc button.colab-df-convert');\n",
              "        buttonEl.style.display =\n",
              "          google.colab.kernel.accessAllowed ? 'block' : 'none';\n",
              "\n",
              "        async function convertToInteractive(key) {\n",
              "          const element = document.querySelector('#df-3bac170f-eb6c-47fa-834d-c2d5608917bc');\n",
              "          const dataTable =\n",
              "            await google.colab.kernel.invokeFunction('convertToInteractive',\n",
              "                                                     [key], {});\n",
              "          if (!dataTable) return;\n",
              "\n",
              "          const docLinkHtml = 'Like what you see? Visit the ' +\n",
              "            '<a target=\"_blank\" href=https://colab.research.google.com/notebooks/data_table.ipynb>data table notebook</a>'\n",
              "            + ' to learn more about interactive tables.';\n",
              "          element.innerHTML = '';\n",
              "          dataTable['output_type'] = 'display_data';\n",
              "          await google.colab.output.renderOutput(dataTable, element);\n",
              "          const docLink = document.createElement('div');\n",
              "          docLink.innerHTML = docLinkHtml;\n",
              "          element.appendChild(docLink);\n",
              "        }\n",
              "      </script>\n",
              "    </div>\n",
              "  </div>\n",
              "  "
            ]
          },
          "metadata": {},
          "execution_count": 87
        }
      ],
      "source": [
        "crossval = [cv_logrec,cv_svc,cv_dtc,cv_rfc,cv_knn,cv_gnb, cv_bag_clf, cv_adb]\n",
        "mean = []\n",
        "std = []\n",
        "for i in crossval:\n",
        "    mean.append(i.mean())\n",
        "    std.append(i.std())\n",
        "model = ['Logistic Regression', 'SVM', 'Decision Tree', 'Random Forest', 'KNN', 'Naive Bayes', 'Bagging Classifier','AdaBoost']\n",
        "bestmodel = pd.DataFrame(model)\n",
        "bestmodel['Mean']=np.round(mean,2)\n",
        "bestmodel['Std']=np.round(std,2)\n",
        "bestmodel.rename(columns={0:'Model'},inplace = True)\n",
        "bestmodel.sort_values(by= 'Mean' , ascending = False).reset_index(drop=True)"
      ]
    },
    {
      "cell_type": "markdown",
      "metadata": {
        "id": "m9bXFr280YO9"
      },
      "source": [
        "Cross Valuation dilakukan pada semua model dengan tujuan untuk melihat konsistensi model dalam mengolah dan memprediksi data. Hasil digunakan untuk menentukan model terbaik yang selanjutnya dilakukan perlakuan hyperparameter tuning. Pemilihan model dilihat dari nilai mean terbesar dan nilai standardeviasi terkecil. Hasil adalah sebagai berikut:\n",
        "- Standar deviasi tiap-tiap model menunjukan nilai yang rendah, yang mana selanjutnya dapat dilihat nilai mean pada tiap-tiap model\n",
        "- nilai mean tertinggi ada pada model logistic regression dan terendah pada model naive bayes\n",
        "- model yang dipilih untuk selanjutnya dilakukan hyperparameter tuning adalah model logistic regression dan adaboost. Kedua model ini dipilih karena mempunyai nilai yang sama untuk mean dan standardeviasinya"
      ]
    },
    {
      "cell_type": "markdown",
      "metadata": {
        "id": "b5fnXr4JqtvG"
      },
      "source": [
        "### HYPER-PARAMETER TUNNING"
      ]
    },
    {
      "cell_type": "markdown",
      "metadata": {
        "id": "wbpelr1Uq0bG"
      },
      "source": [
        "#### Logistic Regression"
      ]
    },
    {
      "cell_type": "code",
      "execution_count": 88,
      "metadata": {
        "id": "eD_fwu7Rq_YS"
      },
      "outputs": [],
      "source": [
        "param_grid = [    \n",
        "    {'penalty' : ['l1', 'l2', 'elasticnet', 'none'],\n",
        "    'C' : np.logspace(-4, 4, 20),\n",
        "    'solver' : ['lbfgs','newton-cg','liblinear','sag','saga'],\n",
        "    'max_iter' : [100, 1000,2500, 5000]\n",
        "    }\n",
        "]"
      ]
    },
    {
      "cell_type": "code",
      "execution_count": 89,
      "metadata": {
        "colab": {
          "base_uri": "https://localhost:8080/"
        },
        "id": "B7u08aEerGdP",
        "outputId": "fb00572b-aa9b-40e1-c752-fcfd11253eb6"
      },
      "outputs": [
        {
          "output_type": "execute_result",
          "data": {
            "text/plain": [
              "GridSearchCV(cv=3, estimator=LogisticRegression(random_state=0),\n",
              "             param_grid=[{'C': array([1.00000000e-04, 2.63665090e-04, 6.95192796e-04, 1.83298071e-03,\n",
              "       4.83293024e-03, 1.27427499e-02, 3.35981829e-02, 8.85866790e-02,\n",
              "       2.33572147e-01, 6.15848211e-01, 1.62377674e+00, 4.28133240e+00,\n",
              "       1.12883789e+01, 2.97635144e+01, 7.84759970e+01, 2.06913808e+02,\n",
              "       5.45559478e+02, 1.43844989e+03, 3.79269019e+03, 1.00000000e+04]),\n",
              "                          'max_iter': [100, 1000, 2500, 5000],\n",
              "                          'penalty': ['l1', 'l2', 'elasticnet', 'none'],\n",
              "                          'solver': ['lbfgs', 'newton-cg', 'liblinear', 'sag',\n",
              "                                     'saga']}],\n",
              "             return_train_score=True, scoring='recall')"
            ]
          },
          "metadata": {},
          "execution_count": 89
        }
      ],
      "source": [
        "grid_search = GridSearchCV(logreg, param_grid=param_grid, cv=3,\n",
        "                           scoring='recall',\n",
        "                           return_train_score=True)\n",
        "grid_search.fit(X_train, y_train)"
      ]
    },
    {
      "cell_type": "code",
      "execution_count": 90,
      "metadata": {
        "colab": {
          "base_uri": "https://localhost:8080/"
        },
        "id": "kt01fWnYrVmM",
        "outputId": "5d95f024-4d3f-4cd7-c7bf-ee278172b7a4"
      },
      "outputs": [
        {
          "output_type": "stream",
          "name": "stdout",
          "text": [
            "best params: {'C': 0.0001, 'max_iter': 100, 'penalty': 'none', 'solver': 'lbfgs'}\n",
            "best score: 0.3915558740015392\n"
          ]
        }
      ],
      "source": [
        "print('best params:', grid_search.best_params_)\n",
        "print('best score:', grid_search.best_score_)"
      ]
    },
    {
      "cell_type": "code",
      "execution_count": 91,
      "metadata": {
        "colab": {
          "base_uri": "https://localhost:8080/"
        },
        "id": "4lCQ2Yhd7hPH",
        "outputId": "38aa4230-03a8-4c60-8835-5339b44abdec"
      },
      "outputs": [
        {
          "output_type": "stream",
          "name": "stdout",
          "text": [
            "              precision    recall  f1-score   support\n",
            "\n",
            "           0       0.85      0.96      0.90      1744\n",
            "           1       0.73      0.40      0.51       475\n",
            "\n",
            "    accuracy                           0.84      2219\n",
            "   macro avg       0.79      0.68      0.71      2219\n",
            "weighted avg       0.83      0.84      0.82      2219\n",
            "\n",
            "              precision    recall  f1-score   support\n",
            "\n",
            "           0       0.85      0.95      0.90       581\n",
            "           1       0.67      0.36      0.47       159\n",
            "\n",
            "    accuracy                           0.83       740\n",
            "   macro avg       0.76      0.66      0.68       740\n",
            "weighted avg       0.81      0.83      0.80       740\n",
            "\n"
          ]
        }
      ],
      "source": [
        "model = grid_search.best_estimator_\n",
        "\n",
        "model.fit(X_train, y_train)\n",
        "\n",
        "model_train = model.predict(X_train)\n",
        "model_test = model.predict(X_test)\n",
        "\n",
        "print(classification_report(y_train, model_train))\n",
        "print(classification_report(y_test, model_test))"
      ]
    },
    {
      "cell_type": "code",
      "source": [
        "print('Confusion Matrix      : \\n', ConfusionMatrixDisplay.from_estimator(model, X_test, y_test, cmap='inferno'))"
      ],
      "metadata": {
        "colab": {
          "base_uri": "https://localhost:8080/",
          "height": 314
        },
        "id": "EInMAC373McC",
        "outputId": "ddf19c26-8b1e-488e-ff39-e79e8bd75fb1"
      },
      "execution_count": 92,
      "outputs": [
        {
          "output_type": "stream",
          "name": "stdout",
          "text": [
            "Confusion Matrix      : \n",
            " <sklearn.metrics._plot.confusion_matrix.ConfusionMatrixDisplay object at 0x7f757e530190>\n"
          ]
        },
        {
          "output_type": "display_data",
          "data": {
            "text/plain": [
              "<Figure size 432x288 with 2 Axes>"
            ],
            "image/png": "[encoded data removed]"
          },
          "metadata": {
            "needs_background": "light"
          }
        }
      ]
    },
    {
      "cell_type": "code",
      "execution_count": 93,
      "metadata": {
        "colab": {
          "base_uri": "https://localhost:8080/"
        },
        "id": "nJXC4vYM7-6a",
        "outputId": "805945cf-bed1-483c-9c82-d32241052846"
      },
      "outputs": [
        {
          "output_type": "stream",
          "name": "stdout",
          "text": [
            "              precision    recall  f1-score   support\n",
            "\n",
            "           0       0.85      0.96      0.90      1744\n",
            "           1       0.74      0.39      0.51       475\n",
            "\n",
            "    accuracy                           0.84      2219\n",
            "   macro avg       0.79      0.68      0.71      2219\n",
            "weighted avg       0.83      0.84      0.82      2219\n",
            "\n",
            "              precision    recall  f1-score   support\n",
            "\n",
            "           0       0.85      0.95      0.90       581\n",
            "           1       0.67      0.36      0.47       159\n",
            "\n",
            "    accuracy                           0.83       740\n",
            "   macro avg       0.76      0.66      0.68       740\n",
            "weighted avg       0.81      0.83      0.80       740\n",
            "\n"
          ]
        }
      ],
      "source": [
        "print(classification_report(y_train, lr_train))\n",
        "print(classification_report(y_test, lr_test))"
      ]
    },
    {
      "cell_type": "markdown",
      "metadata": {
        "id": "CUVoEEM58cuJ"
      },
      "source": [
        "#### Adaboost"
      ]
    },
    {
      "cell_type": "code",
      "execution_count": 94,
      "metadata": {
        "id": "BHAjwa4_8ZdU"
      },
      "outputs": [],
      "source": [
        "param_grid1 = [    \n",
        "    {'n_estimators' : [10, 50, 100, 500],\n",
        "    'learning_rate' : [0.0001, 0.001, 0.01, 0.1, 1.0],\n",
        "    'algorithm' : ['SAMME', 'SAMME.R']\n",
        "    }\n",
        "]"
      ]
    },
    {
      "cell_type": "code",
      "execution_count": 95,
      "metadata": {
        "colab": {
          "base_uri": "https://localhost:8080/"
        },
        "id": "BjdxxG3E_o2a",
        "outputId": "a8bdb477-ce86-466e-fab0-a5775e2c9e2e"
      },
      "outputs": [
        {
          "output_type": "execute_result",
          "data": {
            "text/plain": [
              "GridSearchCV(cv=3, estimator=AdaBoostClassifier(),\n",
              "             param_grid=[{'algorithm': ['SAMME', 'SAMME.R'],\n",
              "                          'learning_rate': [0.0001, 0.001, 0.01, 0.1, 1.0],\n",
              "                          'n_estimators': [10, 50, 100, 500]}],\n",
              "             return_train_score=True, scoring='recall')"
            ]
          },
          "metadata": {},
          "execution_count": 95
        }
      ],
      "source": [
        "grid_search1 = GridSearchCV(adb, param_grid=param_grid1, cv=3,\n",
        "                           scoring='recall',\n",
        "                           return_train_score=True)\n",
        "grid_search1.fit(X_train, y_train)"
      ]
    },
    {
      "cell_type": "code",
      "execution_count": 96,
      "metadata": {
        "colab": {
          "base_uri": "https://localhost:8080/"
        },
        "id": "SiKn6xrPAHvT",
        "outputId": "b4c8f600-dc34-4618-8309-741e34bb1bb4"
      },
      "outputs": [
        {
          "output_type": "stream",
          "name": "stdout",
          "text": [
            "best params: {'algorithm': 'SAMME.R', 'learning_rate': 0.1, 'n_estimators': 100}\n",
            "best score: 0.40834063105379087\n"
          ]
        }
      ],
      "source": [
        "print('best params:', grid_search1.best_params_)\n",
        "print('best score:', grid_search1.best_score_)"
      ]
    },
    {
      "cell_type": "code",
      "execution_count": 97,
      "metadata": {
        "colab": {
          "base_uri": "https://localhost:8080/"
        },
        "id": "2Kly7E4JAPUE",
        "outputId": "d9bc9950-adb4-4365-c489-18ad82ae93d0"
      },
      "outputs": [
        {
          "output_type": "stream",
          "name": "stdout",
          "text": [
            "              precision    recall  f1-score   support\n",
            "\n",
            "           0       0.86      0.96      0.90      1744\n",
            "           1       0.72      0.41      0.52       475\n",
            "\n",
            "    accuracy                           0.84      2219\n",
            "   macro avg       0.79      0.68      0.71      2219\n",
            "weighted avg       0.83      0.84      0.82      2219\n",
            "\n",
            "              precision    recall  f1-score   support\n",
            "\n",
            "           0       0.85      0.96      0.90       581\n",
            "           1       0.71      0.40      0.51       159\n",
            "\n",
            "    accuracy                           0.84       740\n",
            "   macro avg       0.78      0.68      0.70       740\n",
            "weighted avg       0.82      0.84      0.82       740\n",
            "\n"
          ]
        }
      ],
      "source": [
        "model1 = grid_search1.best_estimator_\n",
        "\n",
        "model1.fit(X_train, y_train)\n",
        "\n",
        "model_train1 = model1.predict(X_train)\n",
        "model_test1 = model1.predict(X_test)\n",
        "\n",
        "print(classification_report(y_train, model_train1))\n",
        "print(classification_report(y_test, model_test1))"
      ]
    },
    {
      "cell_type": "code",
      "execution_count": 98,
      "metadata": {
        "colab": {
          "base_uri": "https://localhost:8080/",
          "height": 314
        },
        "id": "3aV9xo3I0YPH",
        "outputId": "07a7ac5a-ebcd-4844-83d6-212397bc6a4f"
      },
      "outputs": [
        {
          "output_type": "stream",
          "name": "stdout",
          "text": [
            "Confusion Matrix      : \n",
            " <sklearn.metrics._plot.confusion_matrix.ConfusionMatrixDisplay object at 0x7f757e701d50>\n"
          ]
        },
        {
          "output_type": "display_data",
          "data": {
            "text/plain": [
              "<Figure size 432x288 with 2 Axes>"
            ],
            "image/png": "[encoded data removed]"
          },
          "metadata": {
            "needs_background": "light"
          }
        }
      ],
      "source": [
        "print('Confusion Matrix      : \\n', ConfusionMatrixDisplay.from_estimator(model1, X_test, y_test, cmap='inferno'))"
      ]
    },
    {
      "cell_type": "code",
      "execution_count": 99,
      "metadata": {
        "colab": {
          "base_uri": "https://localhost:8080/"
        },
        "id": "EGwYrc60Agpd",
        "outputId": "5ce23a75-0ab8-49c7-cc19-ac21a87edc03"
      },
      "outputs": [
        {
          "output_type": "stream",
          "name": "stdout",
          "text": [
            "              precision    recall  f1-score   support\n",
            "\n",
            "           0       0.86      0.96      0.91      1744\n",
            "           1       0.73      0.44      0.54       475\n",
            "\n",
            "    accuracy                           0.84      2219\n",
            "   macro avg       0.79      0.70      0.73      2219\n",
            "weighted avg       0.83      0.84      0.83      2219\n",
            "\n",
            "              precision    recall  f1-score   support\n",
            "\n",
            "           0       0.85      0.95      0.90       581\n",
            "           1       0.69      0.40      0.51       159\n",
            "\n",
            "    accuracy                           0.83       740\n",
            "   macro avg       0.77      0.68      0.70       740\n",
            "weighted avg       0.82      0.83      0.81       740\n",
            "\n"
          ]
        }
      ],
      "source": [
        "print(classification_report(y_train, adb_train))\n",
        "print(classification_report(y_test, adb_test))"
      ]
    },
    {
      "cell_type": "markdown",
      "source": [
        "Hasil hyperparameter tuning:\n",
        "-  tidak adanya perubahan pada nilai recall pada pengaturan yang sudah diterapkan pada model logistic regression\n",
        "-  terjadinya sedikit penurunan pada nilai recall setelah dilakukannya pengaturan hyperparameter untuk model adaboost\n",
        "\n",
        "conclussion:\n",
        "- hal tersebut dikarenakan data yang imbalance dan sehingga model tidak mempunyai data yang cukup untuk memetakan target dengan kategori 1\n",
        "- untuk memperbaiki model, dapat dilakukan feature engenering advance dengan tujuan mengatasi imbalance pada data "
      ],
      "metadata": {
        "id": "l5kd7UPD4GuZ"
      }
    },
    {
      "cell_type": "markdown",
      "metadata": {
        "id": "NpDPgSvvi8ZW"
      },
      "source": [
        "### MODEL INFERENCE"
      ]
    },
    {
      "cell_type": "code",
      "execution_count": 100,
      "metadata": {
        "id": "2EHxkzWvhNXp"
      },
      "outputs": [],
      "source": [
        "X_inf = inference[['age','pay_0','pay_2','pay_3','pay_4','pay_5','pay_6']]"
      ]
    },
    {
      "cell_type": "code",
      "execution_count": 101,
      "metadata": {
        "colab": {
          "base_uri": "https://localhost:8080/"
        },
        "id": "y2HKB9UNizK3",
        "outputId": "fe404e26-5219-4539-f170-4dc95d74989a"
      },
      "outputs": [
        {
          "output_type": "execute_result",
          "data": {
            "text/plain": [
              "array([1, 1, 1, 1, 1])"
            ]
          },
          "metadata": {},
          "execution_count": 101
        }
      ],
      "source": [
        "model.predict(X_inf)"
      ]
    },
    {
      "cell_type": "code",
      "execution_count": 102,
      "metadata": {
        "colab": {
          "base_uri": "https://localhost:8080/"
        },
        "id": "bRfE0o-UjWQo",
        "outputId": "2a5c199b-cc7b-418b-869b-393296ce54f2"
      },
      "outputs": [
        {
          "output_type": "execute_result",
          "data": {
            "text/plain": [
              "array([0, 0, 0, 0, 0])"
            ]
          },
          "metadata": {},
          "execution_count": 102
        }
      ],
      "source": [
        "model1.predict(X_inf)"
      ]
    },
    {
      "cell_type": "code",
      "execution_count": 103,
      "metadata": {
        "colab": {
          "base_uri": "https://localhost:8080/"
        },
        "id": "ckZeMJdkjb0g",
        "outputId": "d099fc36-db60-41e7-fb12-b0b487521fda"
      },
      "outputs": [
        {
          "output_type": "execute_result",
          "data": {
            "text/plain": [
              "91      0\n",
              "325     0\n",
              "47      0\n",
              "2848    1\n",
              "446     0\n",
              "Name: default_payment_next_month, dtype: int64"
            ]
          },
          "metadata": {},
          "execution_count": 103
        }
      ],
      "source": [
        "inference.default_payment_next_month"
      ]
    },
    {
      "cell_type": "markdown",
      "source": [
        "Berdasarkan model inference, model adaboost dengan parameter yang sudah di tuning memprediksi lebih baik daripada model Logistic regresi"
      ],
      "metadata": {
        "id": "weMeNiB45-0p"
      }
    },
    {
      "cell_type": "markdown",
      "metadata": {
        "id": "O3JnvFCBi8ZW"
      },
      "source": [
        "### CONCLUSION\n",
        "\n",
        "- Feature engenering dilakukan pada proses data cleaning, hal tersebut dikarenakan untuk menyelaraskan data dengan tujuan memudahkan pada saat preprocessing\n",
        "- Tidak dilakukannya handling outlier pada data age, hal tersebut karena tidak memungkinkan untuk mengubah nilai tersebut\n",
        "- feature selection dilakukan dengan mempertimbangkan 2 algoritma, yang pertama dengan menggunakan corr heatmap dan yang kedua dengan menggunakan feature importance dari decision tree\n",
        "- Cross valuation yang dilakukan kepada semua model menunjukan model logistic regression dan adaboost dengan hasil yang baik\n",
        "- hyperparameter tuning tidak membantu model untuk menghasilkan performa yang lebih baik\n",
        "- Data yang digunakan pada model ini tidak balance, yang mana berdampak pada performa model"
      ]
    },
    {
      "cell_type": "markdown",
      "source": [
        "### CONCEPTUAL PROBLEMS"
      ],
      "metadata": {
        "id": "zy-QMyXN8sXb"
      }
    },
    {
      "cell_type": "markdown",
      "source": [
        "1. Apakah fungsi parameter criterion pada Decision Tree? Jelaskan salah satu criterion yang kalian pahami!\n",
        "2. Apakah fungsi dari pruning pada Tree model?\n",
        "3. Bagaimana cara memilih K yang optimal pada KNN?\n",
        "4. Jelaskan apa yang kalian ketahui tentang Cross Validation!\n",
        "5. Jelaskan apa yang kalian ketahui tentang Accuracy, Precision, Recall, F1 Score!"
      ],
      "metadata": {
        "id": "6CegKP5K8wZA"
      }
    },
    {
      "cell_type": "markdown",
      "source": [
        "1. \n",
        "- criterion pada decision tree berfungsi sebagai metode dalam pemisahan data dengan tujuan membentuk klasifikasi\n",
        "- gini, merupakan nilai dari keseragaman data dalam suatu leaf, semakin kecil semakin seragam data pada leaf tersebut. nilai 0 menunjukan data pada leaf sudah seragam"
      ],
      "metadata": {
        "id": "Y_NpBG-E9LD7"
      }
    },
    {
      "cell_type": "markdown",
      "source": [
        "2. pruning digunakan untuk mengurangi overfit yang sering terjadi pada tree model, terbaggi menjadi dua yaitu pre pruning dan post pruning\n"
      ],
      "metadata": {
        "id": "MTwgg4NJ951B"
      }
    },
    {
      "cell_type": "markdown",
      "source": [
        "3. Tidak ada metode statistik untuk memilih K yang optimal dalam KNN. nilai K ditentukan berdasarkan asumsi sendiri,  mengekplorasi model dengan menggunakan beberapa nilai K yang selanjutnya dibandingkan dengan matrix evaluationnya"
      ],
      "metadata": {
        "id": "hER3kINT-ZHD"
      }
    },
    {
      "cell_type": "markdown",
      "source": [
        "4. cross validation berguna untuk melihat konsistensi model. merupakan pengulangan model dengan data yang sama secara random, mengikuti kepada nilai yang ditentukan oleh pembuat model. nilai yang dihasilkan merupakan rerata dari keseluruhan nilai akurasi model "
      ],
      "metadata": {
        "id": "Jg5wFofX-9yX"
      }
    },
    {
      "cell_type": "markdown",
      "source": [
        "5. \n",
        "- F1 score merupakan gambaran dari gabungan antara precision dan recall\n",
        "- precision dan recall menjadi acuan ketika model mempunyai data yang tidak balance. pengamatan pada kedua nilai ini mengikutii pertimbangan urgensi pada tiap-tiap model yang dibangun\n",
        "- akurasi adalah nilai keakuratan sebuah model dalam memprediksi suatu data, nilai ini dapat digunakan ketika data balance"
      ],
      "metadata": {
        "id": "BuYiIDKa_hYH"
      }
    },
    {
      "cell_type": "markdown",
      "metadata": {
        "id": "udPLjh8li8ZW"
      },
      "source": []
    }
  ],
  "metadata": {
    "colab": {
      "provenance": [],
      "collapsed_sections": [
        "LL6HlmZ6i8ZH",
        "SpxdSxR_i8ZO",
        "CQXi4OkLi8ZQ",
        "sHWZqZYGi8ZR",
        "oWUu2Wsti8ZV",
        "SM2pu4WUi8ZV",
        "Hvv1Dr4gi8ZV",
        "qi_n5eibi8ZW",
        "vOA91GEsi8ZW",
        "ATmoLct5i8ZW",
        "UiIMPZbci8ZW",
        "HN1LLUvstpsi",
        "gAdFKqZZA7Sp",
        "__Zsr1gQoZhV",
        "MI-xkgwgon5A",
        "JT31OY5dounX",
        "da177xRboyiP",
        "AMhRi_2bo2zP",
        "P2yRS_Y0o6B3",
        "GdZcO60Bo8t4",
        "vvsOnfGPpEWI",
        "2dUz9wqT_fp7",
        "loTzGcaFm7SA"
      ],
      "toc_visible": true
    },
    "kernelspec": {
      "display_name": "Python 3.9.12 ('base')",
      "language": "python",
      "name": "python3"
    },
    "language_info": {
      "codemirror_mode": {
        "name": "ipython",
        "version": 3
      },
      "file_extension": ".py",
      "mimetype": "text/x-python",
      "name": "python",
      "nbconvert_exporter": "python",
      "pygments_lexer": "ipython3",
      "version": "3.9.12"
    },
    "orig_nbformat": 4,
    "vscode": {
      "interpreter": {
        "hash": "7493e061ac2f2a93ab140fc9198bcf269be095397b0dd1d21d881918b17acecc"
      }
    }
  },
  "nbformat": 4,
  "nbformat_minor": 0
}